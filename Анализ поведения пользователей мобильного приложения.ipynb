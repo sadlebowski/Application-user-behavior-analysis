{
 "cells": [
  {
   "cell_type": "markdown",
   "metadata": {},
   "source": [
    "# Анализ поведения пользователей мобильного приложения"
   ]
  },
  {
   "cell_type": "markdown",
   "metadata": {},
   "source": [
    "**Описание проекта**\n",
    "\n",
    "Вы работаете в стартапе, который продаёт продукты питания. Нужно разобраться, как ведут себя пользователи вашего мобильного приложения. \n",
    "Изучите воронку продаж. Узнайте, как пользователи доходят до покупки. Сколько пользователей доходит до покупки, а сколько — «застревает» на предыдущих шагах? На каких именно?\n",
    "После этого исследуйте результаты A/A/B-эксперимента. Дизайнеры захотели поменять шрифты во всём приложении, а менеджеры испугались, что пользователям будет непривычно. Договорились принять решение по результатам A/A/B-теста. Пользователей разбили на 3 группы: 2 контрольные со старыми шрифтами и одну экспериментальную — с новыми. Выясните, какой шрифт лучше.\n",
    "\n",
    "**Описание данных**\n",
    "\n",
    "Каждая запись в логе — это действие пользователя, или событие. \n",
    "\n",
    "* EventName — название события;\n",
    "* DeviceIDHash — уникальный идентификатор пользователя;\n",
    "* EventTimestamp — время события;\n",
    "* ExpId — номер эксперимента: 246 и 247 — контрольные группы, а 248 — экспериментальная.\n",
    "\n",
    "**Ход исследования**\n",
    "\n",
    "Исследование пройдёт в четыре этапа:\n",
    "\n",
    "* Изучите и проверьте данные;\n",
    "* Изучите воронку событий;\n",
    "* Изучите результаты эксперимента;\n",
    "* Выводы."
   ]
  },
  {
   "cell_type": "markdown",
   "metadata": {},
   "source": []
  },
  {
   "cell_type": "markdown",
   "metadata": {},
   "source": [
    "# Шаг 1. Откройте файл с данными и изучите общую информацию"
   ]
  },
  {
   "cell_type": "code",
   "execution_count": 1,
   "metadata": {},
   "outputs": [],
   "source": [
    "import pandas as pd\n",
    "import numpy as np\n",
    "import matplotlib as mpl\n",
    "import matplotlib.pyplot as plt\n",
    "import seaborn as sns\n",
    "import math as mth\n",
    "import plotly.express as px\n",
    "import warnings; warnings.filterwarnings(action = 'ignore') \n",
    "from scipy import stats as st\n",
    "from plotly import graph_objects as go\n",
    "from IPython.display import set_matplotlib_formats\n",
    "from pandas.plotting import register_matplotlib_converters\n",
    "register_matplotlib_converters()\n",
    "data = pd.read_csv('logs_exp.csv', sep='\\t')"
   ]
  },
  {
   "cell_type": "markdown",
   "metadata": {},
   "source": []
  },
  {
   "cell_type": "code",
   "execution_count": 2,
   "metadata": {},
   "outputs": [
    {
     "name": "stdout",
     "output_type": "stream",
     "text": [
      "<class 'pandas.core.frame.DataFrame'>\n",
      "RangeIndex: 244126 entries, 0 to 244125\n",
      "Data columns (total 4 columns):\n",
      " #   Column          Non-Null Count   Dtype \n",
      "---  ------          --------------   ----- \n",
      " 0   EventName       244126 non-null  object\n",
      " 1   DeviceIDHash    244126 non-null  int64 \n",
      " 2   EventTimestamp  244126 non-null  int64 \n",
      " 3   ExpId           244126 non-null  int64 \n",
      "dtypes: int64(3), object(1)\n",
      "memory usage: 7.5+ MB\n"
     ]
    },
    {
     "data": {
      "text/html": [
       "<div>\n",
       "<style scoped>\n",
       "    .dataframe tbody tr th:only-of-type {\n",
       "        vertical-align: middle;\n",
       "    }\n",
       "\n",
       "    .dataframe tbody tr th {\n",
       "        vertical-align: top;\n",
       "    }\n",
       "\n",
       "    .dataframe thead th {\n",
       "        text-align: right;\n",
       "    }\n",
       "</style>\n",
       "<table border=\"1\" class=\"dataframe\">\n",
       "  <thead>\n",
       "    <tr style=\"text-align: right;\">\n",
       "      <th></th>\n",
       "      <th>EventName</th>\n",
       "      <th>DeviceIDHash</th>\n",
       "      <th>EventTimestamp</th>\n",
       "      <th>ExpId</th>\n",
       "    </tr>\n",
       "  </thead>\n",
       "  <tbody>\n",
       "    <tr>\n",
       "      <th>0</th>\n",
       "      <td>MainScreenAppear</td>\n",
       "      <td>4575588528974610257</td>\n",
       "      <td>1564029816</td>\n",
       "      <td>246</td>\n",
       "    </tr>\n",
       "    <tr>\n",
       "      <th>1</th>\n",
       "      <td>MainScreenAppear</td>\n",
       "      <td>7416695313311560658</td>\n",
       "      <td>1564053102</td>\n",
       "      <td>246</td>\n",
       "    </tr>\n",
       "    <tr>\n",
       "      <th>2</th>\n",
       "      <td>PaymentScreenSuccessful</td>\n",
       "      <td>3518123091307005509</td>\n",
       "      <td>1564054127</td>\n",
       "      <td>248</td>\n",
       "    </tr>\n",
       "    <tr>\n",
       "      <th>3</th>\n",
       "      <td>CartScreenAppear</td>\n",
       "      <td>3518123091307005509</td>\n",
       "      <td>1564054127</td>\n",
       "      <td>248</td>\n",
       "    </tr>\n",
       "    <tr>\n",
       "      <th>4</th>\n",
       "      <td>PaymentScreenSuccessful</td>\n",
       "      <td>6217807653094995999</td>\n",
       "      <td>1564055322</td>\n",
       "      <td>248</td>\n",
       "    </tr>\n",
       "  </tbody>\n",
       "</table>\n",
       "</div>"
      ],
      "text/plain": [
       "                 EventName         DeviceIDHash  EventTimestamp  ExpId\n",
       "0         MainScreenAppear  4575588528974610257      1564029816    246\n",
       "1         MainScreenAppear  7416695313311560658      1564053102    246\n",
       "2  PaymentScreenSuccessful  3518123091307005509      1564054127    248\n",
       "3         CartScreenAppear  3518123091307005509      1564054127    248\n",
       "4  PaymentScreenSuccessful  6217807653094995999      1564055322    248"
      ]
     },
     "execution_count": 2,
     "metadata": {},
     "output_type": "execute_result"
    }
   ],
   "source": [
    "data.info()\n",
    "data.head(5)"
   ]
  },
  {
   "cell_type": "code",
   "execution_count": 3,
   "metadata": {},
   "outputs": [
    {
     "data": {
      "text/plain": [
       "array(['MainScreenAppear', 'PaymentScreenSuccessful', 'CartScreenAppear',\n",
       "       'OffersScreenAppear', 'Tutorial'], dtype=object)"
      ]
     },
     "metadata": {},
     "output_type": "display_data"
    },
    {
     "data": {
      "text/plain": [
       "array([246, 248, 247], dtype=int64)"
      ]
     },
     "metadata": {},
     "output_type": "display_data"
    }
   ],
   "source": [
    "# обзор данных\n",
    "\n",
    "display(data['EventName'].unique())\n",
    "display(data['ExpId'].unique())"
   ]
  },
  {
   "cell_type": "code",
   "execution_count": 4,
   "metadata": {},
   "outputs": [
    {
     "data": {
      "text/plain": [
       "413"
      ]
     },
     "metadata": {},
     "output_type": "display_data"
    },
    {
     "data": {
      "text/plain": [
       "0.0016917493425526163"
      ]
     },
     "execution_count": 4,
     "metadata": {},
     "output_type": "execute_result"
    }
   ],
   "source": [
    "# проверка на явные дубликаты\n",
    "\n",
    "display(data.duplicated().sum())\n",
    "data.duplicated().sum() / len(data)"
   ]
  },
  {
   "cell_type": "markdown",
   "metadata": {},
   "source": [
    "**Выводы**\n",
    "\n",
    "Таблица содержит информацию о 244126-ти действиях пользователей или событий. Самих событий всего пять.\n"
   ]
  },
  {
   "cell_type": "markdown",
   "metadata": {},
   "source": [
    "# Шаг 2. Подготовьте данные"
   ]
  },
  {
   "cell_type": "markdown",
   "metadata": {},
   "source": [
    "**1. Замените названия столбцов на удобные для вас**"
   ]
  },
  {
   "cell_type": "code",
   "execution_count": 5,
   "metadata": {},
   "outputs": [
    {
     "data": {
      "text/html": [
       "<div>\n",
       "<style scoped>\n",
       "    .dataframe tbody tr th:only-of-type {\n",
       "        vertical-align: middle;\n",
       "    }\n",
       "\n",
       "    .dataframe tbody tr th {\n",
       "        vertical-align: top;\n",
       "    }\n",
       "\n",
       "    .dataframe thead th {\n",
       "        text-align: right;\n",
       "    }\n",
       "</style>\n",
       "<table border=\"1\" class=\"dataframe\">\n",
       "  <thead>\n",
       "    <tr style=\"text-align: right;\">\n",
       "      <th></th>\n",
       "      <th>event_name</th>\n",
       "      <th>device_id_hash</th>\n",
       "      <th>event_timestamp</th>\n",
       "      <th>exp_id</th>\n",
       "    </tr>\n",
       "  </thead>\n",
       "  <tbody>\n",
       "    <tr>\n",
       "      <th>0</th>\n",
       "      <td>MainScreenAppear</td>\n",
       "      <td>4575588528974610257</td>\n",
       "      <td>1564029816</td>\n",
       "      <td>246</td>\n",
       "    </tr>\n",
       "    <tr>\n",
       "      <th>1</th>\n",
       "      <td>MainScreenAppear</td>\n",
       "      <td>7416695313311560658</td>\n",
       "      <td>1564053102</td>\n",
       "      <td>246</td>\n",
       "    </tr>\n",
       "    <tr>\n",
       "      <th>2</th>\n",
       "      <td>PaymentScreenSuccessful</td>\n",
       "      <td>3518123091307005509</td>\n",
       "      <td>1564054127</td>\n",
       "      <td>248</td>\n",
       "    </tr>\n",
       "    <tr>\n",
       "      <th>3</th>\n",
       "      <td>CartScreenAppear</td>\n",
       "      <td>3518123091307005509</td>\n",
       "      <td>1564054127</td>\n",
       "      <td>248</td>\n",
       "    </tr>\n",
       "    <tr>\n",
       "      <th>4</th>\n",
       "      <td>PaymentScreenSuccessful</td>\n",
       "      <td>6217807653094995999</td>\n",
       "      <td>1564055322</td>\n",
       "      <td>248</td>\n",
       "    </tr>\n",
       "    <tr>\n",
       "      <th>...</th>\n",
       "      <td>...</td>\n",
       "      <td>...</td>\n",
       "      <td>...</td>\n",
       "      <td>...</td>\n",
       "    </tr>\n",
       "    <tr>\n",
       "      <th>244121</th>\n",
       "      <td>MainScreenAppear</td>\n",
       "      <td>4599628364049201812</td>\n",
       "      <td>1565212345</td>\n",
       "      <td>247</td>\n",
       "    </tr>\n",
       "    <tr>\n",
       "      <th>244122</th>\n",
       "      <td>MainScreenAppear</td>\n",
       "      <td>5849806612437486590</td>\n",
       "      <td>1565212439</td>\n",
       "      <td>246</td>\n",
       "    </tr>\n",
       "    <tr>\n",
       "      <th>244123</th>\n",
       "      <td>MainScreenAppear</td>\n",
       "      <td>5746969938801999050</td>\n",
       "      <td>1565212483</td>\n",
       "      <td>246</td>\n",
       "    </tr>\n",
       "    <tr>\n",
       "      <th>244124</th>\n",
       "      <td>MainScreenAppear</td>\n",
       "      <td>5746969938801999050</td>\n",
       "      <td>1565212498</td>\n",
       "      <td>246</td>\n",
       "    </tr>\n",
       "    <tr>\n",
       "      <th>244125</th>\n",
       "      <td>OffersScreenAppear</td>\n",
       "      <td>5746969938801999050</td>\n",
       "      <td>1565212517</td>\n",
       "      <td>246</td>\n",
       "    </tr>\n",
       "  </tbody>\n",
       "</table>\n",
       "<p>244126 rows × 4 columns</p>\n",
       "</div>"
      ],
      "text/plain": [
       "                     event_name       device_id_hash  event_timestamp  exp_id\n",
       "0              MainScreenAppear  4575588528974610257       1564029816     246\n",
       "1              MainScreenAppear  7416695313311560658       1564053102     246\n",
       "2       PaymentScreenSuccessful  3518123091307005509       1564054127     248\n",
       "3              CartScreenAppear  3518123091307005509       1564054127     248\n",
       "4       PaymentScreenSuccessful  6217807653094995999       1564055322     248\n",
       "...                         ...                  ...              ...     ...\n",
       "244121         MainScreenAppear  4599628364049201812       1565212345     247\n",
       "244122         MainScreenAppear  5849806612437486590       1565212439     246\n",
       "244123         MainScreenAppear  5746969938801999050       1565212483     246\n",
       "244124         MainScreenAppear  5746969938801999050       1565212498     246\n",
       "244125       OffersScreenAppear  5746969938801999050       1565212517     246\n",
       "\n",
       "[244126 rows x 4 columns]"
      ]
     },
     "execution_count": 5,
     "metadata": {},
     "output_type": "execute_result"
    }
   ],
   "source": [
    "data.rename(columns = {'EventName': 'event_name', 'DeviceIDHash': 'device_id_hash', 'EventTimestamp': 'event_timestamp', 'ExpId': 'exp_id'}, inplace = True)\n",
    "data"
   ]
  },
  {
   "cell_type": "code",
   "execution_count": 6,
   "metadata": {
    "scrolled": false
   },
   "outputs": [
    {
     "data": {
      "text/html": [
       "<div>\n",
       "<style scoped>\n",
       "    .dataframe tbody tr th:only-of-type {\n",
       "        vertical-align: middle;\n",
       "    }\n",
       "\n",
       "    .dataframe tbody tr th {\n",
       "        vertical-align: top;\n",
       "    }\n",
       "\n",
       "    .dataframe thead th {\n",
       "        text-align: right;\n",
       "    }\n",
       "</style>\n",
       "<table border=\"1\" class=\"dataframe\">\n",
       "  <thead>\n",
       "    <tr style=\"text-align: right;\">\n",
       "      <th></th>\n",
       "      <th>event_name</th>\n",
       "      <th>device_id_hash</th>\n",
       "      <th>event_timestamp</th>\n",
       "      <th>exp_id</th>\n",
       "    </tr>\n",
       "  </thead>\n",
       "  <tbody>\n",
       "    <tr>\n",
       "      <th>0</th>\n",
       "      <td>mainscreenappear</td>\n",
       "      <td>4575588528974610257</td>\n",
       "      <td>1564029816</td>\n",
       "      <td>246</td>\n",
       "    </tr>\n",
       "    <tr>\n",
       "      <th>1</th>\n",
       "      <td>mainscreenappear</td>\n",
       "      <td>7416695313311560658</td>\n",
       "      <td>1564053102</td>\n",
       "      <td>246</td>\n",
       "    </tr>\n",
       "    <tr>\n",
       "      <th>2</th>\n",
       "      <td>paymentscreensuccessful</td>\n",
       "      <td>3518123091307005509</td>\n",
       "      <td>1564054127</td>\n",
       "      <td>248</td>\n",
       "    </tr>\n",
       "    <tr>\n",
       "      <th>3</th>\n",
       "      <td>cartscreenappear</td>\n",
       "      <td>3518123091307005509</td>\n",
       "      <td>1564054127</td>\n",
       "      <td>248</td>\n",
       "    </tr>\n",
       "    <tr>\n",
       "      <th>4</th>\n",
       "      <td>paymentscreensuccessful</td>\n",
       "      <td>6217807653094995999</td>\n",
       "      <td>1564055322</td>\n",
       "      <td>248</td>\n",
       "    </tr>\n",
       "    <tr>\n",
       "      <th>...</th>\n",
       "      <td>...</td>\n",
       "      <td>...</td>\n",
       "      <td>...</td>\n",
       "      <td>...</td>\n",
       "    </tr>\n",
       "    <tr>\n",
       "      <th>244121</th>\n",
       "      <td>mainscreenappear</td>\n",
       "      <td>4599628364049201812</td>\n",
       "      <td>1565212345</td>\n",
       "      <td>247</td>\n",
       "    </tr>\n",
       "    <tr>\n",
       "      <th>244122</th>\n",
       "      <td>mainscreenappear</td>\n",
       "      <td>5849806612437486590</td>\n",
       "      <td>1565212439</td>\n",
       "      <td>246</td>\n",
       "    </tr>\n",
       "    <tr>\n",
       "      <th>244123</th>\n",
       "      <td>mainscreenappear</td>\n",
       "      <td>5746969938801999050</td>\n",
       "      <td>1565212483</td>\n",
       "      <td>246</td>\n",
       "    </tr>\n",
       "    <tr>\n",
       "      <th>244124</th>\n",
       "      <td>mainscreenappear</td>\n",
       "      <td>5746969938801999050</td>\n",
       "      <td>1565212498</td>\n",
       "      <td>246</td>\n",
       "    </tr>\n",
       "    <tr>\n",
       "      <th>244125</th>\n",
       "      <td>offersscreenappear</td>\n",
       "      <td>5746969938801999050</td>\n",
       "      <td>1565212517</td>\n",
       "      <td>246</td>\n",
       "    </tr>\n",
       "  </tbody>\n",
       "</table>\n",
       "<p>244126 rows × 4 columns</p>\n",
       "</div>"
      ],
      "text/plain": [
       "                     event_name       device_id_hash  event_timestamp  exp_id\n",
       "0              mainscreenappear  4575588528974610257       1564029816     246\n",
       "1              mainscreenappear  7416695313311560658       1564053102     246\n",
       "2       paymentscreensuccessful  3518123091307005509       1564054127     248\n",
       "3              cartscreenappear  3518123091307005509       1564054127     248\n",
       "4       paymentscreensuccessful  6217807653094995999       1564055322     248\n",
       "...                         ...                  ...              ...     ...\n",
       "244121         mainscreenappear  4599628364049201812       1565212345     247\n",
       "244122         mainscreenappear  5849806612437486590       1565212439     246\n",
       "244123         mainscreenappear  5746969938801999050       1565212483     246\n",
       "244124         mainscreenappear  5746969938801999050       1565212498     246\n",
       "244125       offersscreenappear  5746969938801999050       1565212517     246\n",
       "\n",
       "[244126 rows x 4 columns]"
      ]
     },
     "execution_count": 6,
     "metadata": {},
     "output_type": "execute_result"
    }
   ],
   "source": [
    "data['event_name'] = data['event_name'].str.lower()\n",
    "data"
   ]
  },
  {
   "cell_type": "markdown",
   "metadata": {},
   "source": [
    "**2. Проверьте пропуски и типы данных. Откорректируйте, если нужно**"
   ]
  },
  {
   "cell_type": "code",
   "execution_count": 7,
   "metadata": {},
   "outputs": [
    {
     "name": "stdout",
     "output_type": "stream",
     "text": [
      "<class 'pandas.core.frame.DataFrame'>\n",
      "RangeIndex: 244126 entries, 0 to 244125\n",
      "Data columns (total 4 columns):\n",
      " #   Column           Non-Null Count   Dtype \n",
      "---  ------           --------------   ----- \n",
      " 0   event_name       244126 non-null  object\n",
      " 1   device_id_hash   244126 non-null  int64 \n",
      " 2   event_timestamp  244126 non-null  int64 \n",
      " 3   exp_id           244126 non-null  int64 \n",
      "dtypes: int64(3), object(1)\n",
      "memory usage: 7.5+ MB\n"
     ]
    },
    {
     "data": {
      "text/html": [
       "<div>\n",
       "<style scoped>\n",
       "    .dataframe tbody tr th:only-of-type {\n",
       "        vertical-align: middle;\n",
       "    }\n",
       "\n",
       "    .dataframe tbody tr th {\n",
       "        vertical-align: top;\n",
       "    }\n",
       "\n",
       "    .dataframe thead th {\n",
       "        text-align: right;\n",
       "    }\n",
       "</style>\n",
       "<table border=\"1\" class=\"dataframe\">\n",
       "  <thead>\n",
       "    <tr style=\"text-align: right;\">\n",
       "      <th></th>\n",
       "      <th>event_name</th>\n",
       "      <th>device_id_hash</th>\n",
       "      <th>event_timestamp</th>\n",
       "      <th>exp_id</th>\n",
       "    </tr>\n",
       "  </thead>\n",
       "  <tbody>\n",
       "    <tr>\n",
       "      <th>0</th>\n",
       "      <td>mainscreenappear</td>\n",
       "      <td>4575588528974610257</td>\n",
       "      <td>1564029816</td>\n",
       "      <td>246</td>\n",
       "    </tr>\n",
       "    <tr>\n",
       "      <th>1</th>\n",
       "      <td>mainscreenappear</td>\n",
       "      <td>7416695313311560658</td>\n",
       "      <td>1564053102</td>\n",
       "      <td>246</td>\n",
       "    </tr>\n",
       "    <tr>\n",
       "      <th>2</th>\n",
       "      <td>paymentscreensuccessful</td>\n",
       "      <td>3518123091307005509</td>\n",
       "      <td>1564054127</td>\n",
       "      <td>248</td>\n",
       "    </tr>\n",
       "    <tr>\n",
       "      <th>3</th>\n",
       "      <td>cartscreenappear</td>\n",
       "      <td>3518123091307005509</td>\n",
       "      <td>1564054127</td>\n",
       "      <td>248</td>\n",
       "    </tr>\n",
       "    <tr>\n",
       "      <th>4</th>\n",
       "      <td>paymentscreensuccessful</td>\n",
       "      <td>6217807653094995999</td>\n",
       "      <td>1564055322</td>\n",
       "      <td>248</td>\n",
       "    </tr>\n",
       "  </tbody>\n",
       "</table>\n",
       "</div>"
      ],
      "text/plain": [
       "                event_name       device_id_hash  event_timestamp  exp_id\n",
       "0         mainscreenappear  4575588528974610257       1564029816     246\n",
       "1         mainscreenappear  7416695313311560658       1564053102     246\n",
       "2  paymentscreensuccessful  3518123091307005509       1564054127     248\n",
       "3         cartscreenappear  3518123091307005509       1564054127     248\n",
       "4  paymentscreensuccessful  6217807653094995999       1564055322     248"
      ]
     },
     "execution_count": 7,
     "metadata": {},
     "output_type": "execute_result"
    }
   ],
   "source": [
    "data.info()\n",
    "data.head(5)"
   ]
  },
  {
   "cell_type": "code",
   "execution_count": 8,
   "metadata": {
    "scrolled": false
   },
   "outputs": [
    {
     "data": {
      "text/plain": [
       "False    244126\n",
       "Name: device_id_hash, dtype: int64"
      ]
     },
     "execution_count": 8,
     "metadata": {},
     "output_type": "execute_result"
    }
   ],
   "source": [
    "data['device_id_hash'].isna().value_counts()"
   ]
  },
  {
   "cell_type": "code",
   "execution_count": 9,
   "metadata": {},
   "outputs": [
    {
     "data": {
      "text/plain": [
       "False    244126\n",
       "Name: event_name, dtype: int64"
      ]
     },
     "execution_count": 9,
     "metadata": {},
     "output_type": "execute_result"
    }
   ],
   "source": [
    "data['event_name'].isna().value_counts()"
   ]
  },
  {
   "cell_type": "code",
   "execution_count": 10,
   "metadata": {
    "scrolled": true
   },
   "outputs": [
    {
     "data": {
      "text/plain": [
       "False    244126\n",
       "Name: exp_id, dtype: int64"
      ]
     },
     "execution_count": 10,
     "metadata": {},
     "output_type": "execute_result"
    }
   ],
   "source": [
    "data['exp_id'].isna().value_counts()"
   ]
  },
  {
   "cell_type": "code",
   "execution_count": 11,
   "metadata": {},
   "outputs": [
    {
     "data": {
      "text/plain": [
       "False    244126\n",
       "Name: event_timestamp, dtype: int64"
      ]
     },
     "execution_count": 11,
     "metadata": {},
     "output_type": "execute_result"
    }
   ],
   "source": [
    "data['event_timestamp'].isna().value_counts()"
   ]
  },
  {
   "cell_type": "markdown",
   "metadata": {},
   "source": [
    "Пропусков не обнаружилось"
   ]
  },
  {
   "cell_type": "code",
   "execution_count": 12,
   "metadata": {},
   "outputs": [
    {
     "data": {
      "text/plain": [
       "413"
      ]
     },
     "execution_count": 12,
     "metadata": {},
     "output_type": "execute_result"
    }
   ],
   "source": [
    "data.duplicated().sum()"
   ]
  },
  {
   "cell_type": "code",
   "execution_count": 13,
   "metadata": {
    "scrolled": false
   },
   "outputs": [
    {
     "data": {
      "text/html": [
       "<div>\n",
       "<style scoped>\n",
       "    .dataframe tbody tr th:only-of-type {\n",
       "        vertical-align: middle;\n",
       "    }\n",
       "\n",
       "    .dataframe tbody tr th {\n",
       "        vertical-align: top;\n",
       "    }\n",
       "\n",
       "    .dataframe thead th {\n",
       "        text-align: right;\n",
       "    }\n",
       "</style>\n",
       "<table border=\"1\" class=\"dataframe\">\n",
       "  <thead>\n",
       "    <tr style=\"text-align: right;\">\n",
       "      <th></th>\n",
       "      <th>event_name</th>\n",
       "      <th>device_id_hash</th>\n",
       "      <th>event_timestamp</th>\n",
       "      <th>exp_id</th>\n",
       "    </tr>\n",
       "  </thead>\n",
       "  <tbody>\n",
       "    <tr>\n",
       "      <th>0</th>\n",
       "      <td>mainscreenappear</td>\n",
       "      <td>4575588528974610257</td>\n",
       "      <td>1564029816</td>\n",
       "      <td>246</td>\n",
       "    </tr>\n",
       "    <tr>\n",
       "      <th>1</th>\n",
       "      <td>mainscreenappear</td>\n",
       "      <td>7416695313311560658</td>\n",
       "      <td>1564053102</td>\n",
       "      <td>246</td>\n",
       "    </tr>\n",
       "    <tr>\n",
       "      <th>2</th>\n",
       "      <td>paymentscreensuccessful</td>\n",
       "      <td>3518123091307005509</td>\n",
       "      <td>1564054127</td>\n",
       "      <td>248</td>\n",
       "    </tr>\n",
       "    <tr>\n",
       "      <th>3</th>\n",
       "      <td>cartscreenappear</td>\n",
       "      <td>3518123091307005509</td>\n",
       "      <td>1564054127</td>\n",
       "      <td>248</td>\n",
       "    </tr>\n",
       "    <tr>\n",
       "      <th>4</th>\n",
       "      <td>paymentscreensuccessful</td>\n",
       "      <td>6217807653094995999</td>\n",
       "      <td>1564055322</td>\n",
       "      <td>248</td>\n",
       "    </tr>\n",
       "    <tr>\n",
       "      <th>...</th>\n",
       "      <td>...</td>\n",
       "      <td>...</td>\n",
       "      <td>...</td>\n",
       "      <td>...</td>\n",
       "    </tr>\n",
       "    <tr>\n",
       "      <th>243708</th>\n",
       "      <td>mainscreenappear</td>\n",
       "      <td>4599628364049201812</td>\n",
       "      <td>1565212345</td>\n",
       "      <td>247</td>\n",
       "    </tr>\n",
       "    <tr>\n",
       "      <th>243709</th>\n",
       "      <td>mainscreenappear</td>\n",
       "      <td>5849806612437486590</td>\n",
       "      <td>1565212439</td>\n",
       "      <td>246</td>\n",
       "    </tr>\n",
       "    <tr>\n",
       "      <th>243710</th>\n",
       "      <td>mainscreenappear</td>\n",
       "      <td>5746969938801999050</td>\n",
       "      <td>1565212483</td>\n",
       "      <td>246</td>\n",
       "    </tr>\n",
       "    <tr>\n",
       "      <th>243711</th>\n",
       "      <td>mainscreenappear</td>\n",
       "      <td>5746969938801999050</td>\n",
       "      <td>1565212498</td>\n",
       "      <td>246</td>\n",
       "    </tr>\n",
       "    <tr>\n",
       "      <th>243712</th>\n",
       "      <td>offersscreenappear</td>\n",
       "      <td>5746969938801999050</td>\n",
       "      <td>1565212517</td>\n",
       "      <td>246</td>\n",
       "    </tr>\n",
       "  </tbody>\n",
       "</table>\n",
       "<p>243713 rows × 4 columns</p>\n",
       "</div>"
      ],
      "text/plain": [
       "                     event_name       device_id_hash  event_timestamp  exp_id\n",
       "0              mainscreenappear  4575588528974610257       1564029816     246\n",
       "1              mainscreenappear  7416695313311560658       1564053102     246\n",
       "2       paymentscreensuccessful  3518123091307005509       1564054127     248\n",
       "3              cartscreenappear  3518123091307005509       1564054127     248\n",
       "4       paymentscreensuccessful  6217807653094995999       1564055322     248\n",
       "...                         ...                  ...              ...     ...\n",
       "243708         mainscreenappear  4599628364049201812       1565212345     247\n",
       "243709         mainscreenappear  5849806612437486590       1565212439     246\n",
       "243710         mainscreenappear  5746969938801999050       1565212483     246\n",
       "243711         mainscreenappear  5746969938801999050       1565212498     246\n",
       "243712       offersscreenappear  5746969938801999050       1565212517     246\n",
       "\n",
       "[243713 rows x 4 columns]"
      ]
     },
     "execution_count": 13,
     "metadata": {},
     "output_type": "execute_result"
    }
   ],
   "source": [
    "data = data.drop_duplicates()\n",
    "data.duplicated().sum()\n",
    "data.reset_index(drop=True)"
   ]
  },
  {
   "cell_type": "code",
   "execution_count": 14,
   "metadata": {
    "scrolled": true
   },
   "outputs": [
    {
     "data": {
      "text/html": [
       "<div>\n",
       "<style scoped>\n",
       "    .dataframe tbody tr th:only-of-type {\n",
       "        vertical-align: middle;\n",
       "    }\n",
       "\n",
       "    .dataframe tbody tr th {\n",
       "        vertical-align: top;\n",
       "    }\n",
       "\n",
       "    .dataframe thead th {\n",
       "        text-align: right;\n",
       "    }\n",
       "</style>\n",
       "<table border=\"1\" class=\"dataframe\">\n",
       "  <thead>\n",
       "    <tr style=\"text-align: right;\">\n",
       "      <th></th>\n",
       "      <th>event_name</th>\n",
       "      <th>device_id_hash</th>\n",
       "      <th>event_timestamp</th>\n",
       "      <th>exp_id</th>\n",
       "    </tr>\n",
       "  </thead>\n",
       "  <tbody>\n",
       "    <tr>\n",
       "      <th>0</th>\n",
       "      <td>mainscreenappear</td>\n",
       "      <td>4575588528974610257</td>\n",
       "      <td>2019-07-25 04:43:36</td>\n",
       "      <td>246</td>\n",
       "    </tr>\n",
       "    <tr>\n",
       "      <th>1</th>\n",
       "      <td>mainscreenappear</td>\n",
       "      <td>7416695313311560658</td>\n",
       "      <td>2019-07-25 11:11:42</td>\n",
       "      <td>246</td>\n",
       "    </tr>\n",
       "    <tr>\n",
       "      <th>2</th>\n",
       "      <td>paymentscreensuccessful</td>\n",
       "      <td>3518123091307005509</td>\n",
       "      <td>2019-07-25 11:28:47</td>\n",
       "      <td>248</td>\n",
       "    </tr>\n",
       "    <tr>\n",
       "      <th>3</th>\n",
       "      <td>cartscreenappear</td>\n",
       "      <td>3518123091307005509</td>\n",
       "      <td>2019-07-25 11:28:47</td>\n",
       "      <td>248</td>\n",
       "    </tr>\n",
       "    <tr>\n",
       "      <th>4</th>\n",
       "      <td>paymentscreensuccessful</td>\n",
       "      <td>6217807653094995999</td>\n",
       "      <td>2019-07-25 11:48:42</td>\n",
       "      <td>248</td>\n",
       "    </tr>\n",
       "  </tbody>\n",
       "</table>\n",
       "</div>"
      ],
      "text/plain": [
       "                event_name       device_id_hash     event_timestamp  exp_id\n",
       "0         mainscreenappear  4575588528974610257 2019-07-25 04:43:36     246\n",
       "1         mainscreenappear  7416695313311560658 2019-07-25 11:11:42     246\n",
       "2  paymentscreensuccessful  3518123091307005509 2019-07-25 11:28:47     248\n",
       "3         cartscreenappear  3518123091307005509 2019-07-25 11:28:47     248\n",
       "4  paymentscreensuccessful  6217807653094995999 2019-07-25 11:48:42     248"
      ]
     },
     "execution_count": 14,
     "metadata": {},
     "output_type": "execute_result"
    }
   ],
   "source": [
    "data['event_timestamp'] = pd.to_datetime(data['event_timestamp'], unit='s')\n",
    "data.head()"
   ]
  },
  {
   "cell_type": "markdown",
   "metadata": {},
   "source": [
    "**3. Добавьте столбец даты и времени, а также отдельный столбец дат**"
   ]
  },
  {
   "cell_type": "code",
   "execution_count": 15,
   "metadata": {
    "scrolled": true
   },
   "outputs": [
    {
     "data": {
      "text/html": [
       "<div>\n",
       "<style scoped>\n",
       "    .dataframe tbody tr th:only-of-type {\n",
       "        vertical-align: middle;\n",
       "    }\n",
       "\n",
       "    .dataframe tbody tr th {\n",
       "        vertical-align: top;\n",
       "    }\n",
       "\n",
       "    .dataframe thead th {\n",
       "        text-align: right;\n",
       "    }\n",
       "</style>\n",
       "<table border=\"1\" class=\"dataframe\">\n",
       "  <thead>\n",
       "    <tr style=\"text-align: right;\">\n",
       "      <th></th>\n",
       "      <th>event_name</th>\n",
       "      <th>device_id_hash</th>\n",
       "      <th>event_timestamp</th>\n",
       "      <th>exp_id</th>\n",
       "      <th>date</th>\n",
       "    </tr>\n",
       "  </thead>\n",
       "  <tbody>\n",
       "    <tr>\n",
       "      <th>0</th>\n",
       "      <td>mainscreenappear</td>\n",
       "      <td>4575588528974610257</td>\n",
       "      <td>2019-07-25 04:43:36</td>\n",
       "      <td>246</td>\n",
       "      <td>2019-07-25</td>\n",
       "    </tr>\n",
       "    <tr>\n",
       "      <th>1</th>\n",
       "      <td>mainscreenappear</td>\n",
       "      <td>7416695313311560658</td>\n",
       "      <td>2019-07-25 11:11:42</td>\n",
       "      <td>246</td>\n",
       "      <td>2019-07-25</td>\n",
       "    </tr>\n",
       "    <tr>\n",
       "      <th>2</th>\n",
       "      <td>paymentscreensuccessful</td>\n",
       "      <td>3518123091307005509</td>\n",
       "      <td>2019-07-25 11:28:47</td>\n",
       "      <td>248</td>\n",
       "      <td>2019-07-25</td>\n",
       "    </tr>\n",
       "    <tr>\n",
       "      <th>3</th>\n",
       "      <td>cartscreenappear</td>\n",
       "      <td>3518123091307005509</td>\n",
       "      <td>2019-07-25 11:28:47</td>\n",
       "      <td>248</td>\n",
       "      <td>2019-07-25</td>\n",
       "    </tr>\n",
       "    <tr>\n",
       "      <th>4</th>\n",
       "      <td>paymentscreensuccessful</td>\n",
       "      <td>6217807653094995999</td>\n",
       "      <td>2019-07-25 11:48:42</td>\n",
       "      <td>248</td>\n",
       "      <td>2019-07-25</td>\n",
       "    </tr>\n",
       "  </tbody>\n",
       "</table>\n",
       "</div>"
      ],
      "text/plain": [
       "                event_name       device_id_hash     event_timestamp  exp_id  \\\n",
       "0         mainscreenappear  4575588528974610257 2019-07-25 04:43:36     246   \n",
       "1         mainscreenappear  7416695313311560658 2019-07-25 11:11:42     246   \n",
       "2  paymentscreensuccessful  3518123091307005509 2019-07-25 11:28:47     248   \n",
       "3         cartscreenappear  3518123091307005509 2019-07-25 11:28:47     248   \n",
       "4  paymentscreensuccessful  6217807653094995999 2019-07-25 11:48:42     248   \n",
       "\n",
       "         date  \n",
       "0  2019-07-25  \n",
       "1  2019-07-25  \n",
       "2  2019-07-25  \n",
       "3  2019-07-25  \n",
       "4  2019-07-25  "
      ]
     },
     "execution_count": 15,
     "metadata": {},
     "output_type": "execute_result"
    }
   ],
   "source": [
    "data['date'] = data.event_timestamp.dt.date\n",
    "data.head()"
   ]
  },
  {
   "cell_type": "code",
   "execution_count": 16,
   "metadata": {
    "scrolled": false
   },
   "outputs": [
    {
     "data": {
      "text/html": [
       "<div>\n",
       "<style scoped>\n",
       "    .dataframe tbody tr th:only-of-type {\n",
       "        vertical-align: middle;\n",
       "    }\n",
       "\n",
       "    .dataframe tbody tr th {\n",
       "        vertical-align: top;\n",
       "    }\n",
       "\n",
       "    .dataframe thead th {\n",
       "        text-align: right;\n",
       "    }\n",
       "</style>\n",
       "<table border=\"1\" class=\"dataframe\">\n",
       "  <thead>\n",
       "    <tr style=\"text-align: right;\">\n",
       "      <th></th>\n",
       "      <th>exp_id</th>\n",
       "    </tr>\n",
       "    <tr>\n",
       "      <th>device_id_hash</th>\n",
       "      <th></th>\n",
       "    </tr>\n",
       "  </thead>\n",
       "  <tbody>\n",
       "    <tr>\n",
       "      <th>6888746892508752</th>\n",
       "      <td>1</td>\n",
       "    </tr>\n",
       "    <tr>\n",
       "      <th>6909561520679493</th>\n",
       "      <td>1</td>\n",
       "    </tr>\n",
       "    <tr>\n",
       "      <th>6922444491712477</th>\n",
       "      <td>1</td>\n",
       "    </tr>\n",
       "    <tr>\n",
       "      <th>7435777799948366</th>\n",
       "      <td>1</td>\n",
       "    </tr>\n",
       "    <tr>\n",
       "      <th>7702139951469979</th>\n",
       "      <td>1</td>\n",
       "    </tr>\n",
       "    <tr>\n",
       "      <th>...</th>\n",
       "      <td>...</td>\n",
       "    </tr>\n",
       "    <tr>\n",
       "      <th>9217594193087726423</th>\n",
       "      <td>1</td>\n",
       "    </tr>\n",
       "    <tr>\n",
       "      <th>9219463515465815368</th>\n",
       "      <td>1</td>\n",
       "    </tr>\n",
       "    <tr>\n",
       "      <th>9220879493065341500</th>\n",
       "      <td>1</td>\n",
       "    </tr>\n",
       "    <tr>\n",
       "      <th>9221926045299980007</th>\n",
       "      <td>1</td>\n",
       "    </tr>\n",
       "    <tr>\n",
       "      <th>9222603179720523844</th>\n",
       "      <td>1</td>\n",
       "    </tr>\n",
       "  </tbody>\n",
       "</table>\n",
       "<p>7551 rows × 1 columns</p>\n",
       "</div>"
      ],
      "text/plain": [
       "                     exp_id\n",
       "device_id_hash             \n",
       "6888746892508752          1\n",
       "6909561520679493          1\n",
       "6922444491712477          1\n",
       "7435777799948366          1\n",
       "7702139951469979          1\n",
       "...                     ...\n",
       "9217594193087726423       1\n",
       "9219463515465815368       1\n",
       "9220879493065341500       1\n",
       "9221926045299980007       1\n",
       "9222603179720523844       1\n",
       "\n",
       "[7551 rows x 1 columns]"
      ]
     },
     "execution_count": 16,
     "metadata": {},
     "output_type": "execute_result"
    }
   ],
   "source": [
    "data_group = data.groupby('device_id_hash').agg({'exp_id' : 'nunique'})\n",
    "data_group"
   ]
  },
  {
   "cell_type": "code",
   "execution_count": 17,
   "metadata": {
    "scrolled": true
   },
   "outputs": [
    {
     "data": {
      "text/plain": [
       "exp_id    0\n",
       "dtype: int64"
      ]
     },
     "execution_count": 17,
     "metadata": {},
     "output_type": "execute_result"
    }
   ],
   "source": [
    "data_group.loc[data_group['exp_id'] > 1].count()"
   ]
  },
  {
   "cell_type": "markdown",
   "metadata": {},
   "source": [
    "Все пользователи находятся в уникальных экпериментальных группах. Ни один из пользователей не попал в более чем одну экспериментальную группу."
   ]
  },
  {
   "cell_type": "markdown",
   "metadata": {},
   "source": [
    "# Шаг 3. Изучите и проверьте данные"
   ]
  },
  {
   "cell_type": "markdown",
   "metadata": {},
   "source": [
    "**1. Сколько всего событий в логе?**"
   ]
  },
  {
   "cell_type": "code",
   "execution_count": 18,
   "metadata": {
    "scrolled": true
   },
   "outputs": [
    {
     "data": {
      "text/plain": [
       "mainscreenappear           119101\n",
       "offersscreenappear          46808\n",
       "cartscreenappear            42668\n",
       "paymentscreensuccessful     34118\n",
       "tutorial                     1018\n",
       "Name: event_name, dtype: int64"
      ]
     },
     "execution_count": 18,
     "metadata": {},
     "output_type": "execute_result"
    }
   ],
   "source": [
    "data['event_name'].value_counts()"
   ]
  },
  {
   "cell_type": "markdown",
   "metadata": {},
   "source": [
    "**2. Сколько всего пользователей в логе?**"
   ]
  },
  {
   "cell_type": "code",
   "execution_count": 19,
   "metadata": {
    "scrolled": true
   },
   "outputs": [
    {
     "data": {
      "text/plain": [
       "7551"
      ]
     },
     "execution_count": 19,
     "metadata": {},
     "output_type": "execute_result"
    }
   ],
   "source": [
    "len(data['device_id_hash'].unique())"
   ]
  },
  {
   "cell_type": "markdown",
   "metadata": {},
   "source": [
    "Всего в логе участвовало 7551 уникальных пользователей."
   ]
  },
  {
   "cell_type": "markdown",
   "metadata": {},
   "source": [
    "**3. Сколько в среднем событий приходится на пользователя?**"
   ]
  },
  {
   "cell_type": "code",
   "execution_count": 20,
   "metadata": {},
   "outputs": [
    {
     "data": {
      "text/plain": [
       "32.3"
      ]
     },
     "execution_count": 20,
     "metadata": {},
     "output_type": "execute_result"
    }
   ],
   "source": [
    "events_per_user = data.pivot_table(index='device_id_hash',values='event_name',aggfunc='count')\n",
    "round(events_per_user['event_name'].mean(), 1)"
   ]
  },
  {
   "cell_type": "markdown",
   "metadata": {},
   "source": [
    "На одного пользователя в среднем приходится 32.3 событий."
   ]
  },
  {
   "cell_type": "code",
   "execution_count": 21,
   "metadata": {},
   "outputs": [
    {
     "data": {
      "image/png": "[encoded data removed]",
      "text/plain": [
       "<Figure size 640x480 with 1 Axes>"
      ]
     },
     "metadata": {},
     "output_type": "display_data"
    }
   ],
   "source": [
    "events = data['event_name'].value_counts()\n",
    "events.plot.bar()\n",
    "plt.xticks(rotation=20);"
   ]
  },
  {
   "cell_type": "markdown",
   "metadata": {},
   "source": [
    "Из этой диаграммы можно заметить, что самый популярный ивент у пользователей — это открытие главного экрана, далее три события имеют практически одинаковую популярность у пользователей и событие показ туториала самое не популярное."
   ]
  },
  {
   "cell_type": "markdown",
   "metadata": {},
   "source": [
    "**4. Данными за какой период вы располагаете?**"
   ]
  },
  {
   "cell_type": "code",
   "execution_count": 22,
   "metadata": {},
   "outputs": [
    {
     "name": "stdout",
     "output_type": "stream",
     "text": [
      "Максимальная дата: 2019-08-07\n"
     ]
    }
   ],
   "source": [
    "print('Максимальная дата:', max(data['date']))"
   ]
  },
  {
   "cell_type": "code",
   "execution_count": 23,
   "metadata": {},
   "outputs": [
    {
     "name": "stdout",
     "output_type": "stream",
     "text": [
      "Минимальная дата: 2019-07-25\n"
     ]
    }
   ],
   "source": [
    "print('Минимальная дата:', min(data['date']))"
   ]
  },
  {
   "cell_type": "code",
   "execution_count": 24,
   "metadata": {
    "scrolled": false
   },
   "outputs": [
    {
     "data": {
      "text/plain": [
       "(array([ 0,  1,  2,  3,  4,  5,  6,  7,  8,  9, 10, 11, 12, 13]),\n",
       " [Text(0, 0, '2019-07-25'),\n",
       "  Text(1, 0, '2019-07-26'),\n",
       "  Text(2, 0, '2019-07-27'),\n",
       "  Text(3, 0, '2019-07-28'),\n",
       "  Text(4, 0, '2019-07-29'),\n",
       "  Text(5, 0, '2019-07-30'),\n",
       "  Text(6, 0, '2019-07-31'),\n",
       "  Text(7, 0, '2019-08-01'),\n",
       "  Text(8, 0, '2019-08-02'),\n",
       "  Text(9, 0, '2019-08-03'),\n",
       "  Text(10, 0, '2019-08-04'),\n",
       "  Text(11, 0, '2019-08-05'),\n",
       "  Text(12, 0, '2019-08-06'),\n",
       "  Text(13, 0, '2019-08-07')])"
      ]
     },
     "execution_count": 24,
     "metadata": {},
     "output_type": "execute_result"
    },
    {
     "data": {
      "image/png": "[encoded data removed]",
      "text/plain": [
       "<Figure size 640x480 with 1 Axes>"
      ]
     },
     "metadata": {},
     "output_type": "display_data"
    }
   ],
   "source": [
    "events_per_date = data[['date', 'event_name']]\n",
    "\n",
    "events_per_date = events_per_date.groupby('date')['event_name'].count()\n",
    "events_per_date = events_per_date.to_frame()\n",
    "events_per_date.plot.bar()\n",
    "plt.xticks(rotation=75)"
   ]
  },
  {
   "cell_type": "code",
   "execution_count": 25,
   "metadata": {
    "scrolled": true
   },
   "outputs": [
    {
     "data": {
      "image/png": "[encoded data removed]",
      "text/plain": [
       "<Figure size 1500x1000 with 1 Axes>"
      ]
     },
     "metadata": {},
     "output_type": "display_data"
    }
   ],
   "source": [
    "data['event_timestamp'].hist(bins=50, figsize=(15, 10));"
   ]
  },
  {
   "cell_type": "markdown",
   "metadata": {},
   "source": [
    "Можно заметить, что до 2019-08-01 данных очень мало, и только начиная с 1-ого числа начинаются события. С этого момента мы можем оценивать результаты проведения эксперимента."
   ]
  },
  {
   "cell_type": "code",
   "execution_count": 26,
   "metadata": {},
   "outputs": [
    {
     "data": {
      "text/plain": [
       "date\n",
       "2019-08-01    36141\n",
       "2019-08-02    35554\n",
       "2019-08-03    33282\n",
       "2019-08-04    32968\n",
       "2019-08-05    36058\n",
       "2019-08-06    35788\n",
       "2019-08-07    31096\n",
       "Name: event_name, dtype: int64"
      ]
     },
     "execution_count": 26,
     "metadata": {},
     "output_type": "execute_result"
    }
   ],
   "source": [
    "data['date'] = pd.to_datetime(data['date'])\n",
    "data_new = data.query('date > \"2019-07-31\"')\n",
    "data_new.groupby('date')['event_name'].count()"
   ]
  },
  {
   "cell_type": "markdown",
   "metadata": {},
   "source": [
    "Данные за последние 7 дней."
   ]
  },
  {
   "cell_type": "markdown",
   "metadata": {},
   "source": [
    "**5.Много ли событий и пользователей вы потеряли, отбросив старые данные?**"
   ]
  },
  {
   "cell_type": "code",
   "execution_count": 27,
   "metadata": {
    "scrolled": true
   },
   "outputs": [
    {
     "name": "stdout",
     "output_type": "stream",
     "text": [
      "Колличество потерянных значений: 2826\n",
      "Процент потерянных значений от изначального числа событий: 0.0116\n"
     ]
    }
   ],
   "source": [
    "print('Колличество потерянных значений:', data['event_name'].count() - data_new['event_name'].count())\n",
    "print('Процент потерянных значений от изначального числа событий:', round((data['event_name'].count() - data_new['event_name'].count())/data['event_name'].count(), 4))"
   ]
  },
  {
   "cell_type": "markdown",
   "metadata": {},
   "source": [
    "Мы потеряли 1.16% событий."
   ]
  },
  {
   "cell_type": "code",
   "execution_count": 28,
   "metadata": {},
   "outputs": [],
   "source": [
    "# пользователи по событиям в новых данных:\n",
    "data_pivot = data_new.pivot_table(index = 'event_name', \n",
    "                                  values = 'device_id_hash', \n",
    "                                  aggfunc = 'nunique').sort_values(by = 'device_id_hash', ascending = False)"
   ]
  },
  {
   "cell_type": "code",
   "execution_count": 29,
   "metadata": {},
   "outputs": [],
   "source": [
    "# пользователи по событиям в старых данных:\n",
    "data_old_pivot = data.pivot_table(index = 'event_name', \n",
    "                                  values = 'device_id_hash', \n",
    "                                  aggfunc = 'nunique').sort_values(by = 'device_id_hash', ascending = False)"
   ]
  },
  {
   "cell_type": "code",
   "execution_count": 30,
   "metadata": {
    "scrolled": false
   },
   "outputs": [
    {
     "data": {
      "text/html": [
       "<div>\n",
       "<style scoped>\n",
       "    .dataframe tbody tr th:only-of-type {\n",
       "        vertical-align: middle;\n",
       "    }\n",
       "\n",
       "    .dataframe tbody tr th {\n",
       "        vertical-align: top;\n",
       "    }\n",
       "\n",
       "    .dataframe thead th {\n",
       "        text-align: right;\n",
       "    }\n",
       "</style>\n",
       "<table border=\"1\" class=\"dataframe\">\n",
       "  <thead>\n",
       "    <tr style=\"text-align: right;\">\n",
       "      <th></th>\n",
       "      <th>device_id_hash</th>\n",
       "    </tr>\n",
       "    <tr>\n",
       "      <th>event_name</th>\n",
       "      <th></th>\n",
       "    </tr>\n",
       "  </thead>\n",
       "  <tbody>\n",
       "    <tr>\n",
       "      <th>mainscreenappear</th>\n",
       "      <td>20</td>\n",
       "    </tr>\n",
       "    <tr>\n",
       "      <th>offersscreenappear</th>\n",
       "      <td>20</td>\n",
       "    </tr>\n",
       "    <tr>\n",
       "      <th>cartscreenappear</th>\n",
       "      <td>15</td>\n",
       "    </tr>\n",
       "    <tr>\n",
       "      <th>paymentscreensuccessful</th>\n",
       "      <td>8</td>\n",
       "    </tr>\n",
       "    <tr>\n",
       "      <th>tutorial</th>\n",
       "      <td>7</td>\n",
       "    </tr>\n",
       "  </tbody>\n",
       "</table>\n",
       "</div>"
      ],
      "text/plain": [
       "                         device_id_hash\n",
       "event_name                             \n",
       "mainscreenappear                     20\n",
       "offersscreenappear                   20\n",
       "cartscreenappear                     15\n",
       "paymentscreensuccessful               8\n",
       "tutorial                              7"
      ]
     },
     "metadata": {},
     "output_type": "display_data"
    }
   ],
   "source": [
    "differ = data_old_pivot - data_pivot\n",
    "display(differ)"
   ]
  },
  {
   "cell_type": "code",
   "execution_count": 31,
   "metadata": {
    "scrolled": true
   },
   "outputs": [
    {
     "name": "stdout",
     "output_type": "stream",
     "text": [
      "Потеряно 70 пользователей\n"
     ]
    }
   ],
   "source": [
    "print('Потеряно', differ['device_id_hash'].sum(), 'пользователей')"
   ]
  },
  {
   "cell_type": "code",
   "execution_count": 32,
   "metadata": {},
   "outputs": [
    {
     "name": "stdout",
     "output_type": "stream",
     "text": [
      "Потерянных пользователей 0.927 % от изначального числа пользователей\n"
     ]
    }
   ],
   "source": [
    "print('Потерянных пользователей', round(differ['device_id_hash'].sum() / len(data['device_id_hash'].unique()) *100, 3) , '% от изначального числа пользователей')"
   ]
  },
  {
   "cell_type": "markdown",
   "metadata": {},
   "source": [
    "**6.Проверьте, что у вас есть пользователи из всех трёх экспериментальных групп.**"
   ]
  },
  {
   "cell_type": "code",
   "execution_count": 33,
   "metadata": {},
   "outputs": [
    {
     "data": {
      "text/plain": [
       "248    84563\n",
       "246    79302\n",
       "247    77022\n",
       "Name: exp_id, dtype: int64"
      ]
     },
     "execution_count": 33,
     "metadata": {},
     "output_type": "execute_result"
    }
   ],
   "source": [
    "data_new['exp_id'].value_counts()"
   ]
  },
  {
   "cell_type": "markdown",
   "metadata": {},
   "source": [
    "В данных пользователи из всех трех экспериментальных групп."
   ]
  },
  {
   "cell_type": "markdown",
   "metadata": {},
   "source": [
    "# Шаг 4. Изучите воронку событий"
   ]
  },
  {
   "cell_type": "markdown",
   "metadata": {},
   "source": [
    "**1. Посмотрите, какие события есть в логах, как часто они встречаются. Отсортируйте события по частоте.**"
   ]
  },
  {
   "cell_type": "code",
   "execution_count": 34,
   "metadata": {},
   "outputs": [
    {
     "data": {
      "text/html": [
       "<div>\n",
       "<style scoped>\n",
       "    .dataframe tbody tr th:only-of-type {\n",
       "        vertical-align: middle;\n",
       "    }\n",
       "\n",
       "    .dataframe tbody tr th {\n",
       "        vertical-align: top;\n",
       "    }\n",
       "\n",
       "    .dataframe thead th {\n",
       "        text-align: right;\n",
       "    }\n",
       "</style>\n",
       "<table border=\"1\" class=\"dataframe\">\n",
       "  <thead>\n",
       "    <tr style=\"text-align: right;\">\n",
       "      <th></th>\n",
       "      <th>event_name</th>\n",
       "      <th>device_id_hash</th>\n",
       "      <th>event_timestamp</th>\n",
       "      <th>exp_id</th>\n",
       "      <th>date</th>\n",
       "    </tr>\n",
       "  </thead>\n",
       "  <tbody>\n",
       "    <tr>\n",
       "      <th>2828</th>\n",
       "      <td>tutorial</td>\n",
       "      <td>3737462046622621720</td>\n",
       "      <td>2019-08-01 00:07:28</td>\n",
       "      <td>246</td>\n",
       "      <td>2019-08-01</td>\n",
       "    </tr>\n",
       "    <tr>\n",
       "      <th>2829</th>\n",
       "      <td>mainscreenappear</td>\n",
       "      <td>3737462046622621720</td>\n",
       "      <td>2019-08-01 00:08:00</td>\n",
       "      <td>246</td>\n",
       "      <td>2019-08-01</td>\n",
       "    </tr>\n",
       "    <tr>\n",
       "      <th>2830</th>\n",
       "      <td>mainscreenappear</td>\n",
       "      <td>3737462046622621720</td>\n",
       "      <td>2019-08-01 00:08:55</td>\n",
       "      <td>246</td>\n",
       "      <td>2019-08-01</td>\n",
       "    </tr>\n",
       "    <tr>\n",
       "      <th>2831</th>\n",
       "      <td>offersscreenappear</td>\n",
       "      <td>3737462046622621720</td>\n",
       "      <td>2019-08-01 00:08:58</td>\n",
       "      <td>246</td>\n",
       "      <td>2019-08-01</td>\n",
       "    </tr>\n",
       "    <tr>\n",
       "      <th>2832</th>\n",
       "      <td>mainscreenappear</td>\n",
       "      <td>1433840883824088890</td>\n",
       "      <td>2019-08-01 00:08:59</td>\n",
       "      <td>247</td>\n",
       "      <td>2019-08-01</td>\n",
       "    </tr>\n",
       "  </tbody>\n",
       "</table>\n",
       "</div>"
      ],
      "text/plain": [
       "              event_name       device_id_hash     event_timestamp  exp_id  \\\n",
       "2828            tutorial  3737462046622621720 2019-08-01 00:07:28     246   \n",
       "2829    mainscreenappear  3737462046622621720 2019-08-01 00:08:00     246   \n",
       "2830    mainscreenappear  3737462046622621720 2019-08-01 00:08:55     246   \n",
       "2831  offersscreenappear  3737462046622621720 2019-08-01 00:08:58     246   \n",
       "2832    mainscreenappear  1433840883824088890 2019-08-01 00:08:59     247   \n",
       "\n",
       "           date  \n",
       "2828 2019-08-01  \n",
       "2829 2019-08-01  \n",
       "2830 2019-08-01  \n",
       "2831 2019-08-01  \n",
       "2832 2019-08-01  "
      ]
     },
     "execution_count": 34,
     "metadata": {},
     "output_type": "execute_result"
    }
   ],
   "source": [
    "data_new.head()"
   ]
  },
  {
   "cell_type": "code",
   "execution_count": 35,
   "metadata": {
    "scrolled": false
   },
   "outputs": [
    {
     "data": {
      "text/plain": [
       "mainscreenappear           117328\n",
       "offersscreenappear          46333\n",
       "cartscreenappear            42303\n",
       "paymentscreensuccessful     33918\n",
       "tutorial                     1005\n",
       "Name: event_name, dtype: int64"
      ]
     },
     "execution_count": 35,
     "metadata": {},
     "output_type": "execute_result"
    }
   ],
   "source": [
    "data_new['event_name'].value_counts()"
   ]
  },
  {
   "cell_type": "markdown",
   "metadata": {},
   "source": [
    "Событие 'mainscreenappear' самое частое. Туториал пользователи открывают реже всего"
   ]
  },
  {
   "cell_type": "markdown",
   "metadata": {},
   "source": [
    "**2. Посчитайте, сколько пользователей совершали каждое из этих событий. Отсортируйте события по числу пользователей.Посчитайте долю пользователей, которые хоть раз совершали событие.**"
   ]
  },
  {
   "cell_type": "code",
   "execution_count": 36,
   "metadata": {
    "scrolled": true
   },
   "outputs": [
    {
     "data": {
      "text/html": [
       "<div>\n",
       "<style scoped>\n",
       "    .dataframe tbody tr th:only-of-type {\n",
       "        vertical-align: middle;\n",
       "    }\n",
       "\n",
       "    .dataframe tbody tr th {\n",
       "        vertical-align: top;\n",
       "    }\n",
       "\n",
       "    .dataframe thead th {\n",
       "        text-align: right;\n",
       "    }\n",
       "</style>\n",
       "<table border=\"1\" class=\"dataframe\">\n",
       "  <thead>\n",
       "    <tr style=\"text-align: right;\">\n",
       "      <th></th>\n",
       "      <th>device_id_hash</th>\n",
       "    </tr>\n",
       "    <tr>\n",
       "      <th>event_name</th>\n",
       "      <th></th>\n",
       "    </tr>\n",
       "  </thead>\n",
       "  <tbody>\n",
       "    <tr>\n",
       "      <th>mainscreenappear</th>\n",
       "      <td>7419</td>\n",
       "    </tr>\n",
       "    <tr>\n",
       "      <th>offersscreenappear</th>\n",
       "      <td>4593</td>\n",
       "    </tr>\n",
       "    <tr>\n",
       "      <th>cartscreenappear</th>\n",
       "      <td>3734</td>\n",
       "    </tr>\n",
       "    <tr>\n",
       "      <th>paymentscreensuccessful</th>\n",
       "      <td>3539</td>\n",
       "    </tr>\n",
       "    <tr>\n",
       "      <th>tutorial</th>\n",
       "      <td>840</td>\n",
       "    </tr>\n",
       "  </tbody>\n",
       "</table>\n",
       "</div>"
      ],
      "text/plain": [
       "                         device_id_hash\n",
       "event_name                             \n",
       "mainscreenappear                   7419\n",
       "offersscreenappear                 4593\n",
       "cartscreenappear                   3734\n",
       "paymentscreensuccessful            3539\n",
       "tutorial                            840"
      ]
     },
     "execution_count": 36,
     "metadata": {},
     "output_type": "execute_result"
    }
   ],
   "source": [
    "data_pivot = data_new.pivot_table(index = 'event_name', \n",
    "                                  values = 'device_id_hash', \n",
    "                                  aggfunc = 'nunique').sort_values(by = 'device_id_hash', ascending = False)\n",
    "data_pivot"
   ]
  },
  {
   "cell_type": "markdown",
   "metadata": {},
   "source": [
    "Больше всего уникальных пользователей открывли главный экран и меньше всего уникальных пользователей заходили в туториал."
   ]
  },
  {
   "cell_type": "code",
   "execution_count": 37,
   "metadata": {
    "scrolled": true
   },
   "outputs": [
    {
     "data": {
      "text/html": [
       "<div>\n",
       "<style scoped>\n",
       "    .dataframe tbody tr th:only-of-type {\n",
       "        vertical-align: middle;\n",
       "    }\n",
       "\n",
       "    .dataframe tbody tr th {\n",
       "        vertical-align: top;\n",
       "    }\n",
       "\n",
       "    .dataframe thead th {\n",
       "        text-align: right;\n",
       "    }\n",
       "</style>\n",
       "<table border=\"1\" class=\"dataframe\">\n",
       "  <thead>\n",
       "    <tr style=\"text-align: right;\">\n",
       "      <th></th>\n",
       "      <th>device_id_hash</th>\n",
       "      <th>percentage</th>\n",
       "    </tr>\n",
       "    <tr>\n",
       "      <th>event_name</th>\n",
       "      <th></th>\n",
       "      <th></th>\n",
       "    </tr>\n",
       "  </thead>\n",
       "  <tbody>\n",
       "    <tr>\n",
       "      <th>mainscreenappear</th>\n",
       "      <td>7419</td>\n",
       "      <td>98.5</td>\n",
       "    </tr>\n",
       "    <tr>\n",
       "      <th>offersscreenappear</th>\n",
       "      <td>4593</td>\n",
       "      <td>61.0</td>\n",
       "    </tr>\n",
       "    <tr>\n",
       "      <th>cartscreenappear</th>\n",
       "      <td>3734</td>\n",
       "      <td>49.6</td>\n",
       "    </tr>\n",
       "    <tr>\n",
       "      <th>paymentscreensuccessful</th>\n",
       "      <td>3539</td>\n",
       "      <td>47.0</td>\n",
       "    </tr>\n",
       "    <tr>\n",
       "      <th>tutorial</th>\n",
       "      <td>840</td>\n",
       "      <td>11.1</td>\n",
       "    </tr>\n",
       "  </tbody>\n",
       "</table>\n",
       "</div>"
      ],
      "text/plain": [
       "                         device_id_hash  percentage\n",
       "event_name                                         \n",
       "mainscreenappear                   7419        98.5\n",
       "offersscreenappear                 4593        61.0\n",
       "cartscreenappear                   3734        49.6\n",
       "paymentscreensuccessful            3539        47.0\n",
       "tutorial                            840        11.1"
      ]
     },
     "execution_count": 37,
     "metadata": {},
     "output_type": "execute_result"
    }
   ],
   "source": [
    "data_pivot['percentage'] = round(data_pivot['device_id_hash'] / data_new['device_id_hash'].nunique(), 3)*100\n",
    "data_pivot"
   ]
  },
  {
   "cell_type": "markdown",
   "metadata": {},
   "source": [
    "**3. Предположите, в каком порядке происходят события. Все ли они выстраиваются в последовательную цепочку? Их не нужно учитывать при расчёте воронки.**"
   ]
  },
  {
   "cell_type": "markdown",
   "metadata": {},
   "source": [
    "* Пользователь заходит и видит главный экран\n",
    "* Пользователь заходит на экран покупок\n",
    "* Пользователь выбирает товар на экране покупок и переходит на отдельную страницу с информацией по этому товару\n",
    "* Пользователь оплачивает покупку"
   ]
  },
  {
   "cell_type": "markdown",
   "metadata": {},
   "source": [
    "**4.По воронке событий посчитайте, какая доля пользователей проходит на следующий шаг воронки (от числа пользователей на предыдущем). То есть для последовательности событий A → B → C посчитайте отношение числа пользователей с событием B к количеству пользователей с событием A, а также отношение числа пользователей с событием C к количеству пользователей с событием B.**"
   ]
  },
  {
   "cell_type": "markdown",
   "metadata": {},
   "source": [
    "отбросим данные по tutorial"
   ]
  },
  {
   "cell_type": "code",
   "execution_count": 38,
   "metadata": {},
   "outputs": [
    {
     "data": {
      "text/html": [
       "<div>\n",
       "<style scoped>\n",
       "    .dataframe tbody tr th:only-of-type {\n",
       "        vertical-align: middle;\n",
       "    }\n",
       "\n",
       "    .dataframe tbody tr th {\n",
       "        vertical-align: top;\n",
       "    }\n",
       "\n",
       "    .dataframe thead th {\n",
       "        text-align: right;\n",
       "    }\n",
       "</style>\n",
       "<table border=\"1\" class=\"dataframe\">\n",
       "  <thead>\n",
       "    <tr style=\"text-align: right;\">\n",
       "      <th></th>\n",
       "      <th>device_id_hash</th>\n",
       "      <th>percentage</th>\n",
       "    </tr>\n",
       "    <tr>\n",
       "      <th>event_name</th>\n",
       "      <th></th>\n",
       "      <th></th>\n",
       "    </tr>\n",
       "  </thead>\n",
       "  <tbody>\n",
       "    <tr>\n",
       "      <th>mainscreenappear</th>\n",
       "      <td>7419</td>\n",
       "      <td>98.5</td>\n",
       "    </tr>\n",
       "    <tr>\n",
       "      <th>offersscreenappear</th>\n",
       "      <td>4593</td>\n",
       "      <td>61.0</td>\n",
       "    </tr>\n",
       "    <tr>\n",
       "      <th>cartscreenappear</th>\n",
       "      <td>3734</td>\n",
       "      <td>49.6</td>\n",
       "    </tr>\n",
       "    <tr>\n",
       "      <th>paymentscreensuccessful</th>\n",
       "      <td>3539</td>\n",
       "      <td>47.0</td>\n",
       "    </tr>\n",
       "  </tbody>\n",
       "</table>\n",
       "</div>"
      ],
      "text/plain": [
       "                         device_id_hash  percentage\n",
       "event_name                                         \n",
       "mainscreenappear                   7419        98.5\n",
       "offersscreenappear                 4593        61.0\n",
       "cartscreenappear                   3734        49.6\n",
       "paymentscreensuccessful            3539        47.0"
      ]
     },
     "execution_count": 38,
     "metadata": {},
     "output_type": "execute_result"
    }
   ],
   "source": [
    "data_pivot.drop(['tutorial'], inplace=True)\n",
    "data_pivot"
   ]
  },
  {
   "cell_type": "markdown",
   "metadata": {},
   "source": [
    "Посчитаем проценты пользователей на каждом шаге от предыдущего:"
   ]
  },
  {
   "cell_type": "code",
   "execution_count": 46,
   "metadata": {
    "scrolled": true
   },
   "outputs": [
    {
     "data": {
      "text/html": [
       "<div>\n",
       "<style scoped>\n",
       "    .dataframe tbody tr th:only-of-type {\n",
       "        vertical-align: middle;\n",
       "    }\n",
       "\n",
       "    .dataframe tbody tr th {\n",
       "        vertical-align: top;\n",
       "    }\n",
       "\n",
       "    .dataframe thead th {\n",
       "        text-align: right;\n",
       "    }\n",
       "</style>\n",
       "<table border=\"1\" class=\"dataframe\">\n",
       "  <thead>\n",
       "    <tr style=\"text-align: right;\">\n",
       "      <th></th>\n",
       "      <th>device_id_hash</th>\n",
       "      <th>percentage</th>\n",
       "      <th>conversion</th>\n",
       "    </tr>\n",
       "    <tr>\n",
       "      <th>event_name</th>\n",
       "      <th></th>\n",
       "      <th></th>\n",
       "      <th></th>\n",
       "    </tr>\n",
       "  </thead>\n",
       "  <tbody>\n",
       "    <tr>\n",
       "      <th>mainscreenappear</th>\n",
       "      <td>7419</td>\n",
       "      <td>98.5</td>\n",
       "      <td>100.00</td>\n",
       "    </tr>\n",
       "    <tr>\n",
       "      <th>offersscreenappear</th>\n",
       "      <td>4593</td>\n",
       "      <td>61.0</td>\n",
       "      <td>61.91</td>\n",
       "    </tr>\n",
       "    <tr>\n",
       "      <th>cartscreenappear</th>\n",
       "      <td>3734</td>\n",
       "      <td>49.6</td>\n",
       "      <td>81.30</td>\n",
       "    </tr>\n",
       "    <tr>\n",
       "      <th>paymentscreensuccessful</th>\n",
       "      <td>3539</td>\n",
       "      <td>47.0</td>\n",
       "      <td>94.78</td>\n",
       "    </tr>\n",
       "  </tbody>\n",
       "</table>\n",
       "</div>"
      ],
      "text/plain": [
       "                         device_id_hash  percentage  conversion\n",
       "event_name                                                     \n",
       "mainscreenappear                   7419        98.5      100.00\n",
       "offersscreenappear                 4593        61.0       61.91\n",
       "cartscreenappear                   3734        49.6       81.30\n",
       "paymentscreensuccessful            3539        47.0       94.78"
      ]
     },
     "execution_count": 46,
     "metadata": {},
     "output_type": "execute_result"
    }
   ],
   "source": [
    "user_percentage = round((data_pivot['device_id_hash'].pct_change().fillna(0)+1), 2)\n",
    "data_pivot['conversion'] = round((data_pivot['device_id_hash'].pct_change().fillna(0)+1)*100, 2)\n",
    "data_pivot"
   ]
  },
  {
   "cell_type": "markdown",
   "metadata": {},
   "source": [
    "Построим воронку, чтобы  увидеть, сколько пользователей мы теряем на разных этапах."
   ]
  },
  {
   "cell_type": "code",
   "execution_count": null,
   "metadata": {
    "scrolled": false
   },
   "outputs": [],
   "source": [
    "data = dict(number=data_pivot['device_id_hash'],\n",
    "            stage=[\"mainscreenappear\", \"offersscreenappear\", \"cartscreenappear\", \"paymentscreensuccessful\"])\n",
    "fig = px.funnel(data, x='number', y='stage')\n",
    "fig.show()"
   ]
  },
  {
   "cell_type": "markdown",
   "metadata": {},
   "source": [
    "**5. На каком шаге теряете больше всего пользователей?**"
   ]
  },
  {
   "cell_type": "markdown",
   "metadata": {},
   "source": [
    "При переходе с главного экрана на экран покупок мы теряем больше всего пользователей. Но если пользователей перешел на экран покупок, то существует большая вероятность что он что-либо купит."
   ]
  },
  {
   "cell_type": "markdown",
   "metadata": {},
   "source": [
    "**6. Какая доля пользователей доходит от первого события до оплаты?**"
   ]
  },
  {
   "cell_type": "markdown",
   "metadata": {},
   "source": [
    "Перемножим вероятноти прохождения всех шагов. Вероятность, что пользователь пройдет с первого шага на второй шаг 61.91% и тп."
   ]
  },
  {
   "cell_type": "code",
   "execution_count": 48,
   "metadata": {
    "scrolled": true
   },
   "outputs": [
    {
     "name": "stdout",
     "output_type": "stream",
     "text": [
      "Доля пользователй от первого события до оплаты: 47.7 %\n"
     ]
    }
   ],
   "source": [
    "print('Доля пользователй от первого события до оплаты:', round(user_percentage[0]*user_percentage[1]*user_percentage[2]*user_percentage[3]*100, 1), '%')"
   ]
  },
  {
   "cell_type": "markdown",
   "metadata": {},
   "source": [
    "# Шаг 5. Изучите результаты эксперимента"
   ]
  },
  {
   "cell_type": "markdown",
   "metadata": {},
   "source": [
    "**1. Сколько пользователей в каждой экспериментальной группе?**"
   ]
  },
  {
   "cell_type": "code",
   "execution_count": 49,
   "metadata": {},
   "outputs": [
    {
     "data": {
      "text/html": [
       "<div>\n",
       "<style scoped>\n",
       "    .dataframe tbody tr th:only-of-type {\n",
       "        vertical-align: middle;\n",
       "    }\n",
       "\n",
       "    .dataframe tbody tr th {\n",
       "        vertical-align: top;\n",
       "    }\n",
       "\n",
       "    .dataframe thead th {\n",
       "        text-align: right;\n",
       "    }\n",
       "</style>\n",
       "<table border=\"1\" class=\"dataframe\">\n",
       "  <thead>\n",
       "    <tr style=\"text-align: right;\">\n",
       "      <th></th>\n",
       "      <th>device_id_hash</th>\n",
       "    </tr>\n",
       "    <tr>\n",
       "      <th>exp_id</th>\n",
       "      <th></th>\n",
       "    </tr>\n",
       "  </thead>\n",
       "  <tbody>\n",
       "    <tr>\n",
       "      <th>246</th>\n",
       "      <td>2484</td>\n",
       "    </tr>\n",
       "    <tr>\n",
       "      <th>247</th>\n",
       "      <td>2513</td>\n",
       "    </tr>\n",
       "    <tr>\n",
       "      <th>248</th>\n",
       "      <td>2537</td>\n",
       "    </tr>\n",
       "  </tbody>\n",
       "</table>\n",
       "</div>"
      ],
      "text/plain": [
       "        device_id_hash\n",
       "exp_id                \n",
       "246               2484\n",
       "247               2513\n",
       "248               2537"
      ]
     },
     "execution_count": 49,
     "metadata": {},
     "output_type": "execute_result"
    }
   ],
   "source": [
    "data_group_pivot = data_new.pivot_table(index = 'exp_id', values = 'device_id_hash', aggfunc = 'nunique')\n",
    "data_group_pivot"
   ]
  },
  {
   "cell_type": "markdown",
   "metadata": {},
   "source": [
    "**2./3. Есть 2 контрольные группы для А/А-эксперимента, чтобы проверить корректность всех механизмов и расчётов. Проверьте, находят ли статистические критерии разницу между выборками 246 и 247.\n",
    " Выберите самое популярное событие. Посчитайте число пользователей, совершивших это событие в каждой из контрольных групп. Посчитайте долю пользователей, совершивших это событие. Проверьте, будет ли отличие между группами статистически достоверным. Проделайте то же самое для всех других событий (удобно обернуть проверку в отдельную функцию). Можно ли сказать, что разбиение на группы работает корректно?**"
   ]
  },
  {
   "cell_type": "code",
   "execution_count": 50,
   "metadata": {},
   "outputs": [
    {
     "data": {
      "text/html": [
       "<div>\n",
       "<style scoped>\n",
       "    .dataframe tbody tr th:only-of-type {\n",
       "        vertical-align: middle;\n",
       "    }\n",
       "\n",
       "    .dataframe tbody tr th {\n",
       "        vertical-align: top;\n",
       "    }\n",
       "\n",
       "    .dataframe thead th {\n",
       "        text-align: right;\n",
       "    }\n",
       "</style>\n",
       "<table border=\"1\" class=\"dataframe\">\n",
       "  <thead>\n",
       "    <tr style=\"text-align: right;\">\n",
       "      <th>event_name</th>\n",
       "      <th>exp_id</th>\n",
       "      <th>cartscreenappear</th>\n",
       "      <th>mainscreenappear</th>\n",
       "      <th>offersscreenappear</th>\n",
       "      <th>paymentscreensuccessful</th>\n",
       "    </tr>\n",
       "  </thead>\n",
       "  <tbody>\n",
       "    <tr>\n",
       "      <th>0</th>\n",
       "      <td>246</td>\n",
       "      <td>1266</td>\n",
       "      <td>2450</td>\n",
       "      <td>1542</td>\n",
       "      <td>1200</td>\n",
       "    </tr>\n",
       "    <tr>\n",
       "      <th>1</th>\n",
       "      <td>247</td>\n",
       "      <td>1238</td>\n",
       "      <td>2476</td>\n",
       "      <td>1520</td>\n",
       "      <td>1158</td>\n",
       "    </tr>\n",
       "    <tr>\n",
       "      <th>2</th>\n",
       "      <td>248</td>\n",
       "      <td>1230</td>\n",
       "      <td>2493</td>\n",
       "      <td>1531</td>\n",
       "      <td>1181</td>\n",
       "    </tr>\n",
       "  </tbody>\n",
       "</table>\n",
       "</div>"
      ],
      "text/plain": [
       "event_name  exp_id  cartscreenappear  mainscreenappear  offersscreenappear  \\\n",
       "0              246              1266              2450                1542   \n",
       "1              247              1238              2476                1520   \n",
       "2              248              1230              2493                1531   \n",
       "\n",
       "event_name  paymentscreensuccessful  \n",
       "0                              1200  \n",
       "1                              1158  \n",
       "2                              1181  "
      ]
     },
     "execution_count": 50,
     "metadata": {},
     "output_type": "execute_result"
    }
   ],
   "source": [
    "#количество пользователей в разных группах по событиям и группам экперимена:\n",
    "users_per = data_new.pivot_table(index = 'exp_id', columns = 'event_name', values = 'device_id_hash', aggfunc = 'nunique').reset_index()\n",
    "del users_per['tutorial']\n",
    "users_per"
   ]
  },
  {
   "cell_type": "code",
   "execution_count": 51,
   "metadata": {
    "scrolled": false
   },
   "outputs": [
    {
     "data": {
      "text/html": [
       "<div>\n",
       "<style scoped>\n",
       "    .dataframe tbody tr th:only-of-type {\n",
       "        vertical-align: middle;\n",
       "    }\n",
       "\n",
       "    .dataframe tbody tr th {\n",
       "        vertical-align: top;\n",
       "    }\n",
       "\n",
       "    .dataframe thead th {\n",
       "        text-align: right;\n",
       "    }\n",
       "</style>\n",
       "<table border=\"1\" class=\"dataframe\">\n",
       "  <thead>\n",
       "    <tr style=\"text-align: right;\">\n",
       "      <th>event_name</th>\n",
       "      <th>cartscreenappear</th>\n",
       "      <th>mainscreenappear</th>\n",
       "      <th>offersscreenappear</th>\n",
       "      <th>paymentscreensuccessful</th>\n",
       "      <th>users_all_per</th>\n",
       "    </tr>\n",
       "    <tr>\n",
       "      <th>exp_id</th>\n",
       "      <th></th>\n",
       "      <th></th>\n",
       "      <th></th>\n",
       "      <th></th>\n",
       "      <th></th>\n",
       "    </tr>\n",
       "  </thead>\n",
       "  <tbody>\n",
       "    <tr>\n",
       "      <th>246</th>\n",
       "      <td>1266</td>\n",
       "      <td>2450</td>\n",
       "      <td>1542</td>\n",
       "      <td>1200</td>\n",
       "      <td>2484</td>\n",
       "    </tr>\n",
       "    <tr>\n",
       "      <th>247</th>\n",
       "      <td>1238</td>\n",
       "      <td>2476</td>\n",
       "      <td>1520</td>\n",
       "      <td>1158</td>\n",
       "      <td>2513</td>\n",
       "    </tr>\n",
       "    <tr>\n",
       "      <th>248</th>\n",
       "      <td>1230</td>\n",
       "      <td>2493</td>\n",
       "      <td>1531</td>\n",
       "      <td>1181</td>\n",
       "      <td>2537</td>\n",
       "    </tr>\n",
       "  </tbody>\n",
       "</table>\n",
       "</div>"
      ],
      "text/plain": [
       "event_name  cartscreenappear  mainscreenappear  offersscreenappear  \\\n",
       "exp_id                                                               \n",
       "246                     1266              2450                1542   \n",
       "247                     1238              2476                1520   \n",
       "248                     1230              2493                1531   \n",
       "\n",
       "event_name  paymentscreensuccessful  users_all_per  \n",
       "exp_id                                              \n",
       "246                            1200           2484  \n",
       "247                            1158           2513  \n",
       "248                            1181           2537  "
      ]
     },
     "execution_count": 51,
     "metadata": {},
     "output_type": "execute_result"
    }
   ],
   "source": [
    "#Общее колличество пользователей в группах эксперимента\n",
    "users_all_per = data_new.groupby('exp_id')['device_id_hash'].nunique()\n",
    "users_per['users_all_per'] = users_per['exp_id'].apply(lambda x: users_all_per.loc[x])\n",
    "users_per = users_per.set_index('exp_id')\n",
    "users_per"
   ]
  },
  {
   "cell_type": "markdown",
   "metadata": {},
   "source": [
    "**Функция гипотезы по Z-критерию:**"
   ]
  },
  {
   "cell_type": "code",
   "execution_count": null,
   "metadata": {},
   "outputs": [],
   "source": [
    "def z_test(success, trials, alpha):\n",
    "    \n",
    "    p1 = success[0] / trials[0]\n",
    "    p2 = success[1] / trials[1]\n",
    "    \n",
    "    p_combined = (success[0]+success[1]) / (trials[1]+trials[0])\n",
    "    \n",
    "    difference = p1 - p2\n",
    "    \n",
    "    z_value = difference / mth.sqrt(p_combined * (1-p_combined)*(1/trials[0] + 1/trials[1]))\n",
    "    \n",
    "    distr = st.norm(0,1)\n",
    "    \n",
    "    p_value = (1 - distr.cdf(abs(z_value))) * 2\n",
    "    \n",
    "    print('p-значение: ', p_value)\n",
    "    \n",
    "    if p_value < alpha:\n",
    "        print('Отвергаем нулевую гипотезу: между долями есть значимая разница')\n",
    "    \n",
    "    else:\n",
    "        print(\n",
    "        'Не получилось отвергнуть нулевую гипотезу, нет оснований считать доли разными')"
   ]
  },
  {
   "cell_type": "code",
   "execution_count": null,
   "metadata": {},
   "outputs": [],
   "source": [
    "def test_automatic (A, B, alpha):\n",
    "    \n",
    "    alpha_test = alpha\n",
    "    \n",
    "    count_users = ([users_per['users_all_per'][A], \n",
    "                    users_per['users_all_per'][B]])\n",
    "    \n",
    "    count_MainScreenAppear = ([users_per['mainscreenappear'][A], \n",
    "                               users_per['mainscreenappear'][B]])\n",
    "    \n",
    "    count_OffersScreenAppear = ([users_per['offersscreenappear'][A], \n",
    "                                 users_per['offersscreenappear'][B]])\n",
    "    \n",
    "    count_CartScreenAppear = ([users_per['cartscreenappear'][A], \n",
    "                               users_per['cartscreenappear'][B]])\n",
    "    \n",
    "    count_PaymentScreenSuccessful = ([users_per['paymentscreensuccessful'][A], \n",
    "                                      users_per['paymentscreensuccessful'][B]])\n",
    "    \n",
    "    print('Результаты теста по count_users и count_MainScreenAppear для групп')\n",
    "    z_test(count_MainScreenAppear, count_users, alpha_test)\n",
    "    print('')\n",
    "    \n",
    "    print('Результаты теста по count_OffersScreenAppear и count_users для групп')\n",
    "    z_test(count_OffersScreenAppear, count_users, alpha_test)\n",
    "    print('')\n",
    "    \n",
    "    print('Результаты теста по count_users и count_CartScreenAppear для групп')\n",
    "    z_test(count_CartScreenAppear, count_users, alpha_test)\n",
    "    print('')\n",
    "    \n",
    "    print('Результаты теста по count_PaymentScreenSuccessful и count_users для групп')\n",
    "    z_test(count_PaymentScreenSuccessful, count_users, alpha_test)"
   ]
  },
  {
   "cell_type": "markdown",
   "metadata": {},
   "source": [
    "H0: доли уникальных посетителей в экпериментальных группах 246 и 247, побывавших на этапе воронки, одинаковы.\n",
    "\n",
    "H1: между долями уникальных посетителей в экпериментальных группах 246 и 247, побывавших на этапе воронки, есть значимая разница.\n",
    "\n",
    "alpha = 0.05"
   ]
  },
  {
   "cell_type": "code",
   "execution_count": null,
   "metadata": {
    "scrolled": false
   },
   "outputs": [],
   "source": [
    "test_automatic(246, 247, 0.05)"
   ]
  },
  {
   "cell_type": "markdown",
   "metadata": {},
   "source": [
    "Статистической разницы между группами 246 и 247 нет."
   ]
  },
  {
   "cell_type": "markdown",
   "metadata": {},
   "source": [
    "H0: доли уникальных посетителей в экпериментальных группах 246 и 248, побывавших на этапе воронки, одинаковы.\n",
    "\n",
    "H1: между долями уникальных посетителей в экпериментальных группах 246 и 248, побывавших на этапе воронки, есть значимая разница.\n",
    "\n",
    "alpha =  0.05"
   ]
  },
  {
   "cell_type": "code",
   "execution_count": null,
   "metadata": {},
   "outputs": [],
   "source": [
    "test_automatic(246, 248, 0.05)"
   ]
  },
  {
   "cell_type": "markdown",
   "metadata": {},
   "source": [
    "Статистической разницы между группами 246 и 248 нет."
   ]
  },
  {
   "cell_type": "markdown",
   "metadata": {},
   "source": [
    "H0: доли уникальных посетителей в экпериментальных группах 247 и 248, побывавших на этапе воронки, одинаковы.\n",
    "\n",
    "H1: между долями уникальных посетителей в экпериментальных группах 247 и 248, побывавших на этапе воронки, есть значимая разница.\n",
    "\n",
    "alpha = 0.05"
   ]
  },
  {
   "cell_type": "code",
   "execution_count": null,
   "metadata": {
    "scrolled": true
   },
   "outputs": [],
   "source": [
    "test_automatic(247, 248, 0.05)"
   ]
  },
  {
   "cell_type": "markdown",
   "metadata": {},
   "source": [
    "Статистической разницы между группами 247 и 248 нет."
   ]
  },
  {
   "cell_type": "markdown",
   "metadata": {},
   "source": [
    "**Объединяем группы 246 и 247**"
   ]
  },
  {
   "cell_type": "code",
   "execution_count": null,
   "metadata": {},
   "outputs": [],
   "source": [
    "users_per"
   ]
  },
  {
   "cell_type": "code",
   "execution_count": null,
   "metadata": {
    "scrolled": false
   },
   "outputs": [],
   "source": [
    "users_per.loc['246+247'] = [users_per['cartscreenappear'][246] + users_per['cartscreenappear'][247] ,\n",
    "                              users_per['mainscreenappear'][246] + users_per['mainscreenappear'][247],\n",
    "                              users_per['offersscreenappear'][246] + users_per['offersscreenappear'][247],\n",
    "                              users_per['paymentscreensuccessful'][246] + users_per['paymentscreensuccessful'][247],\n",
    "                              users_per['users_all_per'][246] + users_per['users_all_per'][247]]\n",
    "users_per"
   ]
  },
  {
   "cell_type": "markdown",
   "metadata": {},
   "source": [
    "H0: доли уникальных посетителей в экпериментальных группах 248 и 249, побывавших на этапе воронки, одинаковы.\n",
    "\n",
    "H1: между долями уникальных посетителей в экпериментальных группах 248 и 249, побывавших на этапе воронки, есть значимая разница.\n",
    "\n",
    "alpha = 0.05"
   ]
  },
  {
   "cell_type": "code",
   "execution_count": null,
   "metadata": {
    "scrolled": true
   },
   "outputs": [],
   "source": [
    "test_automatic('246+247', 248, 0.05)"
   ]
  },
  {
   "cell_type": "markdown",
   "metadata": {},
   "source": [
    "Статистической разницы между группами 249 и 248 нет."
   ]
  },
  {
   "cell_type": "markdown",
   "metadata": {},
   "source": [
    "# Вывод"
   ]
  },
  {
   "cell_type": "markdown",
   "metadata": {},
   "source": [
    "Было выявлено, что:\n",
    "\n",
    "* Главную страницу увидели 7419 пользователей (100% от общего числа пользователей);\n",
    "* Страницу товара просмотрели 4593 пользователей (61,9% от общего числа);\n",
    "* Карточку просмотрели 3734 пользователя (50.3% от общего числа);\n",
    "* Завершили оплату 3539 пользователей (47,7% от общего числа).\n",
    "\n",
    "Tutorial было исключено изза отсутствия влияния на остальные шаги.\n",
    "\n",
    "В эксперименте были учтено поведение пользователей, разделенных на три группы:\n",
    "\n",
    "* 246-ая - 2484 пользователя;\n",
    "* 247-ая - 2513 пользователя;\n",
    "* 248-ая - 2537 пользователя.\n",
    "\n",
    "Согласно предложенному процессу, нам нужно было сопоставить доли пользователей по каждому событию между:\n",
    "\n",
    "* контрольными группами 246 и 247;\n",
    "* каждой из контрольной группы по отдельности и экспериментальной (246-248 и 247-248);\n",
    "* объединенной контрольной группой и экспериментальной (246+247 и 248).\n",
    "\n",
    "После проведённых по каждому из событий тесту, не обнаружили статистически значимой разницы между группами. Изменение шрифтов во всём приложении на поведение пользователей не повлияло."
   ]
  },
  {
   "cell_type": "code",
   "execution_count": null,
   "metadata": {},
   "outputs": [],
   "source": []
  }
 ],
 "metadata": {
  "ExecuteTimeLog": [
   {
    "duration": 1341,
    "start_time": "2023-02-09T17:46:23.904Z"
   },
   {
    "duration": 712,
    "start_time": "2023-02-09T17:47:02.311Z"
   },
   {
    "duration": 30,
    "start_time": "2023-02-09T17:47:09.380Z"
   },
   {
    "duration": 21,
    "start_time": "2023-02-09T17:47:25.209Z"
   },
   {
    "duration": 124,
    "start_time": "2023-02-09T17:47:39.210Z"
   },
   {
    "duration": 123,
    "start_time": "2023-02-09T17:49:09.532Z"
   },
   {
    "duration": 93,
    "start_time": "2023-02-09T17:49:20.175Z"
   },
   {
    "duration": 39,
    "start_time": "2023-02-09T17:49:45.491Z"
   },
   {
    "duration": 61,
    "start_time": "2023-02-09T17:50:15.428Z"
   },
   {
    "duration": 34,
    "start_time": "2023-02-09T17:51:28.763Z"
   },
   {
    "duration": 288,
    "start_time": "2023-02-09T17:51:51.991Z"
   },
   {
    "duration": 27,
    "start_time": "2023-02-09T17:53:04.590Z"
   },
   {
    "duration": 617,
    "start_time": "2023-02-09T17:53:23.039Z"
   },
   {
    "duration": 35,
    "start_time": "2023-02-09T17:53:47.114Z"
   },
   {
    "duration": 33,
    "start_time": "2023-02-09T17:54:04.484Z"
   },
   {
    "duration": 14,
    "start_time": "2023-02-09T17:54:09.382Z"
   },
   {
    "duration": 28,
    "start_time": "2023-02-09T17:56:59.901Z"
   },
   {
    "duration": 157,
    "start_time": "2023-02-09T17:57:06.178Z"
   },
   {
    "duration": 67,
    "start_time": "2023-02-09T17:57:40.898Z"
   },
   {
    "duration": 308,
    "start_time": "2023-02-09T17:58:32.585Z"
   },
   {
    "duration": 87,
    "start_time": "2023-02-09T17:58:42.783Z"
   },
   {
    "duration": 90,
    "start_time": "2023-02-09T17:59:54.100Z"
   },
   {
    "duration": 1927,
    "start_time": "2023-02-10T08:43:52.229Z"
   },
   {
    "duration": 30,
    "start_time": "2023-02-10T08:43:54.158Z"
   },
   {
    "duration": 31,
    "start_time": "2023-02-10T08:43:54.190Z"
   },
   {
    "duration": 112,
    "start_time": "2023-02-10T08:43:54.222Z"
   },
   {
    "duration": 118,
    "start_time": "2023-02-10T08:43:54.336Z"
   },
   {
    "duration": 65,
    "start_time": "2023-02-10T08:43:54.455Z"
   },
   {
    "duration": 34,
    "start_time": "2023-02-10T08:43:54.522Z"
   },
   {
    "duration": 49,
    "start_time": "2023-02-10T08:43:54.557Z"
   },
   {
    "duration": 50,
    "start_time": "2023-02-10T08:43:54.607Z"
   },
   {
    "duration": 254,
    "start_time": "2023-02-10T08:43:54.658Z"
   },
   {
    "duration": 23,
    "start_time": "2023-02-10T08:43:54.913Z"
   },
   {
    "duration": 662,
    "start_time": "2023-02-10T08:43:54.937Z"
   },
   {
    "duration": 26,
    "start_time": "2023-02-10T08:43:55.601Z"
   },
   {
    "duration": 46,
    "start_time": "2023-02-10T08:43:55.629Z"
   },
   {
    "duration": 9,
    "start_time": "2023-02-10T08:43:55.677Z"
   },
   {
    "duration": 23,
    "start_time": "2023-02-10T08:43:55.688Z"
   },
   {
    "duration": 164,
    "start_time": "2023-02-10T08:43:55.713Z"
   },
   {
    "duration": 62,
    "start_time": "2023-02-10T08:43:55.879Z"
   },
   {
    "duration": 245,
    "start_time": "2023-02-10T08:43:55.947Z"
   },
   {
    "duration": 72,
    "start_time": "2023-02-10T08:43:56.194Z"
   },
   {
    "duration": 46,
    "start_time": "2023-02-10T08:48:53.393Z"
   },
   {
    "duration": 61,
    "start_time": "2023-02-10T08:49:08.142Z"
   },
   {
    "duration": 22,
    "start_time": "2023-02-10T08:49:50.610Z"
   },
   {
    "duration": 6,
    "start_time": "2023-02-10T08:54:33.513Z"
   },
   {
    "duration": 96,
    "start_time": "2023-02-10T09:31:49.316Z"
   },
   {
    "duration": 109,
    "start_time": "2023-02-10T09:32:19.166Z"
   },
   {
    "duration": 149,
    "start_time": "2023-02-10T09:32:35.491Z"
   },
   {
    "duration": 97,
    "start_time": "2023-02-10T09:32:47.666Z"
   },
   {
    "duration": 151,
    "start_time": "2023-02-10T09:33:05.024Z"
   },
   {
    "duration": 26,
    "start_time": "2023-02-10T10:14:15.686Z"
   },
   {
    "duration": 32,
    "start_time": "2023-02-10T10:27:46.641Z"
   },
   {
    "duration": 27,
    "start_time": "2023-02-10T10:28:14.247Z"
   },
   {
    "duration": 1280,
    "start_time": "2023-02-10T10:30:53.853Z"
   },
   {
    "duration": 27,
    "start_time": "2023-02-10T10:30:55.135Z"
   },
   {
    "duration": 19,
    "start_time": "2023-02-10T10:30:55.163Z"
   },
   {
    "duration": 122,
    "start_time": "2023-02-10T10:30:55.184Z"
   },
   {
    "duration": 112,
    "start_time": "2023-02-10T10:30:55.307Z"
   },
   {
    "duration": 75,
    "start_time": "2023-02-10T10:30:55.420Z"
   },
   {
    "duration": 23,
    "start_time": "2023-02-10T10:30:55.496Z"
   },
   {
    "duration": 51,
    "start_time": "2023-02-10T10:30:55.520Z"
   },
   {
    "duration": 36,
    "start_time": "2023-02-10T10:30:55.572Z"
   },
   {
    "duration": 360,
    "start_time": "2023-02-10T10:30:55.612Z"
   },
   {
    "duration": 25,
    "start_time": "2023-02-10T10:30:55.974Z"
   },
   {
    "duration": 570,
    "start_time": "2023-02-10T10:30:56.000Z"
   },
   {
    "duration": 25,
    "start_time": "2023-02-10T10:30:56.572Z"
   },
   {
    "duration": 32,
    "start_time": "2023-02-10T10:30:56.598Z"
   },
   {
    "duration": 9,
    "start_time": "2023-02-10T10:30:56.648Z"
   },
   {
    "duration": 23,
    "start_time": "2023-02-10T10:30:56.659Z"
   },
   {
    "duration": 151,
    "start_time": "2023-02-10T10:30:56.683Z"
   },
   {
    "duration": 60,
    "start_time": "2023-02-10T10:30:56.835Z"
   },
   {
    "duration": 193,
    "start_time": "2023-02-10T10:30:56.897Z"
   },
   {
    "duration": 78,
    "start_time": "2023-02-10T10:30:57.092Z"
   },
   {
    "duration": 88,
    "start_time": "2023-02-10T10:30:57.172Z"
   },
   {
    "duration": 60,
    "start_time": "2023-02-10T10:30:57.261Z"
   },
   {
    "duration": 34,
    "start_time": "2023-02-10T10:30:57.322Z"
   },
   {
    "duration": 5,
    "start_time": "2023-02-10T10:30:57.358Z"
   },
   {
    "duration": 98,
    "start_time": "2023-02-10T10:30:57.364Z"
   },
   {
    "duration": 99,
    "start_time": "2023-02-10T10:30:57.464Z"
   },
   {
    "duration": 90,
    "start_time": "2023-02-10T10:30:57.565Z"
   },
   {
    "duration": 137,
    "start_time": "2023-02-10T10:30:57.658Z"
   },
   {
    "duration": 1414,
    "start_time": "2023-02-10T14:40:49.957Z"
   },
   {
    "duration": 28,
    "start_time": "2023-02-10T14:40:51.373Z"
   },
   {
    "duration": 26,
    "start_time": "2023-02-10T14:40:51.403Z"
   },
   {
    "duration": 155,
    "start_time": "2023-02-10T14:40:51.431Z"
   },
   {
    "duration": 152,
    "start_time": "2023-02-10T14:40:51.594Z"
   },
   {
    "duration": 100,
    "start_time": "2023-02-10T14:40:51.747Z"
   },
   {
    "duration": 27,
    "start_time": "2023-02-10T14:40:51.849Z"
   },
   {
    "duration": 62,
    "start_time": "2023-02-10T14:40:51.878Z"
   },
   {
    "duration": 37,
    "start_time": "2023-02-10T14:40:51.942Z"
   },
   {
    "duration": 324,
    "start_time": "2023-02-10T14:40:51.994Z"
   },
   {
    "duration": 27,
    "start_time": "2023-02-10T14:40:52.320Z"
   },
   {
    "duration": 737,
    "start_time": "2023-02-10T14:40:52.349Z"
   },
   {
    "duration": 36,
    "start_time": "2023-02-10T14:40:53.088Z"
   },
   {
    "duration": 33,
    "start_time": "2023-02-10T14:40:53.126Z"
   },
   {
    "duration": 35,
    "start_time": "2023-02-10T14:40:53.160Z"
   },
   {
    "duration": 29,
    "start_time": "2023-02-10T14:40:53.197Z"
   },
   {
    "duration": 159,
    "start_time": "2023-02-10T14:40:53.228Z"
   },
   {
    "duration": 68,
    "start_time": "2023-02-10T14:40:53.389Z"
   },
   {
    "duration": 386,
    "start_time": "2023-02-10T14:40:53.458Z"
   },
   {
    "duration": 163,
    "start_time": "2023-02-10T14:40:53.845Z"
   },
   {
    "duration": 87,
    "start_time": "2023-02-10T14:40:54.010Z"
   },
   {
    "duration": 75,
    "start_time": "2023-02-10T14:40:54.100Z"
   },
   {
    "duration": 45,
    "start_time": "2023-02-10T14:40:54.178Z"
   },
   {
    "duration": 6,
    "start_time": "2023-02-10T14:40:54.226Z"
   },
   {
    "duration": 138,
    "start_time": "2023-02-10T14:40:54.234Z"
   },
   {
    "duration": 122,
    "start_time": "2023-02-10T14:40:54.374Z"
   },
   {
    "duration": 118,
    "start_time": "2023-02-10T14:40:54.498Z"
   },
   {
    "duration": 139,
    "start_time": "2023-02-10T14:40:54.618Z"
   },
   {
    "duration": 7,
    "start_time": "2023-02-10T15:08:36.065Z"
   },
   {
    "duration": 15,
    "start_time": "2023-02-10T15:13:02.790Z"
   },
   {
    "duration": 69,
    "start_time": "2023-02-10T15:13:54.490Z"
   },
   {
    "duration": 48,
    "start_time": "2023-02-10T15:29:36.726Z"
   },
   {
    "duration": 2182,
    "start_time": "2023-02-10T15:29:52.029Z"
   },
   {
    "duration": 28,
    "start_time": "2023-02-10T15:29:54.213Z"
   },
   {
    "duration": 22,
    "start_time": "2023-02-10T15:29:54.243Z"
   },
   {
    "duration": 131,
    "start_time": "2023-02-10T15:29:54.266Z"
   },
   {
    "duration": 11,
    "start_time": "2023-02-10T15:29:54.399Z"
   },
   {
    "duration": 96,
    "start_time": "2023-02-10T15:29:54.412Z"
   },
   {
    "duration": 26,
    "start_time": "2023-02-10T15:29:54.509Z"
   },
   {
    "duration": 116,
    "start_time": "2023-02-10T15:29:54.537Z"
   },
   {
    "duration": 0,
    "start_time": "2023-02-10T15:29:54.656Z"
   },
   {
    "duration": 0,
    "start_time": "2023-02-10T15:29:54.657Z"
   },
   {
    "duration": 0,
    "start_time": "2023-02-10T15:29:54.658Z"
   },
   {
    "duration": 0,
    "start_time": "2023-02-10T15:29:54.659Z"
   },
   {
    "duration": 0,
    "start_time": "2023-02-10T15:29:54.660Z"
   },
   {
    "duration": 0,
    "start_time": "2023-02-10T15:29:54.661Z"
   },
   {
    "duration": 0,
    "start_time": "2023-02-10T15:29:54.662Z"
   },
   {
    "duration": 0,
    "start_time": "2023-02-10T15:29:54.663Z"
   },
   {
    "duration": 0,
    "start_time": "2023-02-10T15:29:54.664Z"
   },
   {
    "duration": 0,
    "start_time": "2023-02-10T15:29:54.665Z"
   },
   {
    "duration": 0,
    "start_time": "2023-02-10T15:29:54.666Z"
   },
   {
    "duration": 0,
    "start_time": "2023-02-10T15:29:54.667Z"
   },
   {
    "duration": 0,
    "start_time": "2023-02-10T15:29:54.668Z"
   },
   {
    "duration": 0,
    "start_time": "2023-02-10T15:29:54.669Z"
   },
   {
    "duration": 0,
    "start_time": "2023-02-10T15:29:54.670Z"
   },
   {
    "duration": 0,
    "start_time": "2023-02-10T15:29:54.670Z"
   },
   {
    "duration": 0,
    "start_time": "2023-02-10T15:29:54.671Z"
   },
   {
    "duration": 0,
    "start_time": "2023-02-10T15:29:54.673Z"
   },
   {
    "duration": 0,
    "start_time": "2023-02-10T15:29:54.673Z"
   },
   {
    "duration": 0,
    "start_time": "2023-02-10T15:29:54.675Z"
   },
   {
    "duration": 0,
    "start_time": "2023-02-10T15:29:54.675Z"
   },
   {
    "duration": 77,
    "start_time": "2023-02-10T15:32:11.614Z"
   },
   {
    "duration": 23,
    "start_time": "2023-02-10T15:32:26.639Z"
   },
   {
    "duration": 21,
    "start_time": "2023-02-10T15:32:43.553Z"
   },
   {
    "duration": 7,
    "start_time": "2023-02-10T15:33:01.309Z"
   },
   {
    "duration": 9,
    "start_time": "2023-02-10T15:33:10.717Z"
   },
   {
    "duration": 7,
    "start_time": "2023-02-10T15:33:20.581Z"
   },
   {
    "duration": 9,
    "start_time": "2023-02-10T15:34:13.027Z"
   },
   {
    "duration": 57,
    "start_time": "2023-02-10T15:34:19.083Z"
   },
   {
    "duration": 132,
    "start_time": "2023-02-10T15:34:48.163Z"
   },
   {
    "duration": 16,
    "start_time": "2023-02-10T15:35:39.692Z"
   },
   {
    "duration": 85,
    "start_time": "2023-02-10T15:36:30.018Z"
   },
   {
    "duration": 39,
    "start_time": "2023-02-10T15:37:24.169Z"
   },
   {
    "duration": 6,
    "start_time": "2023-02-10T15:37:45.962Z"
   },
   {
    "duration": 9,
    "start_time": "2023-02-10T15:38:31.774Z"
   },
   {
    "duration": 54,
    "start_time": "2023-02-10T15:38:40.911Z"
   },
   {
    "duration": 6,
    "start_time": "2023-02-10T15:38:44.187Z"
   },
   {
    "duration": 8,
    "start_time": "2023-02-10T15:39:52.704Z"
   },
   {
    "duration": 46,
    "start_time": "2023-02-10T15:39:59.869Z"
   },
   {
    "duration": 146,
    "start_time": "2023-02-10T15:40:45.068Z"
   },
   {
    "duration": 9,
    "start_time": "2023-02-10T15:41:22.122Z"
   },
   {
    "duration": 21,
    "start_time": "2023-02-10T15:41:29.578Z"
   },
   {
    "duration": 18,
    "start_time": "2023-02-10T15:41:31.466Z"
   },
   {
    "duration": 302,
    "start_time": "2023-02-10T15:43:05.811Z"
   },
   {
    "duration": 9,
    "start_time": "2023-02-10T15:43:24.081Z"
   },
   {
    "duration": 750,
    "start_time": "2023-02-10T15:43:29.264Z"
   },
   {
    "duration": 65,
    "start_time": "2023-02-10T15:44:35.557Z"
   },
   {
    "duration": 48,
    "start_time": "2023-02-10T15:45:37.196Z"
   },
   {
    "duration": 153,
    "start_time": "2023-02-10T15:46:19.928Z"
   },
   {
    "duration": 73,
    "start_time": "2023-02-10T15:46:43.403Z"
   },
   {
    "duration": 13,
    "start_time": "2023-02-10T15:46:57.598Z"
   },
   {
    "duration": 6,
    "start_time": "2023-02-10T15:47:06.637Z"
   },
   {
    "duration": 4,
    "start_time": "2023-02-10T15:47:23.526Z"
   },
   {
    "duration": 10,
    "start_time": "2023-02-10T15:47:57.066Z"
   },
   {
    "duration": 9,
    "start_time": "2023-02-10T15:48:07.579Z"
   },
   {
    "duration": 7,
    "start_time": "2023-02-10T15:48:28.070Z"
   },
   {
    "duration": 12,
    "start_time": "2023-02-10T15:52:59.758Z"
   },
   {
    "duration": 23,
    "start_time": "2023-02-10T15:53:13.308Z"
   },
   {
    "duration": 66,
    "start_time": "2023-02-10T15:54:02.437Z"
   },
   {
    "duration": 12,
    "start_time": "2023-02-10T15:56:24.696Z"
   },
   {
    "duration": 7,
    "start_time": "2023-02-10T15:58:22.797Z"
   },
   {
    "duration": 9,
    "start_time": "2023-02-10T15:58:54.184Z"
   },
   {
    "duration": 9,
    "start_time": "2023-02-10T16:00:12.793Z"
   },
   {
    "duration": 393,
    "start_time": "2023-02-10T16:00:19.393Z"
   },
   {
    "duration": 4,
    "start_time": "2023-02-10T16:01:45.827Z"
   },
   {
    "duration": 76,
    "start_time": "2023-02-10T16:02:56.452Z"
   },
   {
    "duration": 4,
    "start_time": "2023-02-10T16:03:08.083Z"
   },
   {
    "duration": 39,
    "start_time": "2023-02-10T16:04:52.555Z"
   },
   {
    "duration": 10,
    "start_time": "2023-02-10T16:07:05.256Z"
   },
   {
    "duration": 84,
    "start_time": "2023-02-10T16:07:11.517Z"
   },
   {
    "duration": 84,
    "start_time": "2023-02-10T16:08:04.099Z"
   },
   {
    "duration": 10,
    "start_time": "2023-02-10T16:08:19.885Z"
   },
   {
    "duration": 42,
    "start_time": "2023-02-10T16:09:31.493Z"
   },
   {
    "duration": 40,
    "start_time": "2023-02-10T16:09:39.813Z"
   },
   {
    "duration": 11,
    "start_time": "2023-02-10T16:21:00.752Z"
   },
   {
    "duration": 12,
    "start_time": "2023-02-10T16:21:38.834Z"
   },
   {
    "duration": 16,
    "start_time": "2023-02-10T16:21:56.204Z"
   },
   {
    "duration": 10,
    "start_time": "2023-02-10T16:22:40.297Z"
   },
   {
    "duration": 10,
    "start_time": "2023-02-10T16:22:45.674Z"
   },
   {
    "duration": 15,
    "start_time": "2023-02-10T16:22:50.330Z"
   },
   {
    "duration": 5,
    "start_time": "2023-02-10T16:23:48.592Z"
   },
   {
    "duration": 93,
    "start_time": "2023-02-10T16:29:32.653Z"
   },
   {
    "duration": 83,
    "start_time": "2023-02-10T16:29:38.645Z"
   },
   {
    "duration": 11,
    "start_time": "2023-02-10T16:30:24.882Z"
   },
   {
    "duration": 5,
    "start_time": "2023-02-10T16:33:36.802Z"
   },
   {
    "duration": 6,
    "start_time": "2023-02-10T16:33:56.307Z"
   },
   {
    "duration": 5,
    "start_time": "2023-02-10T16:34:07.331Z"
   },
   {
    "duration": 12,
    "start_time": "2023-02-10T16:35:08.370Z"
   },
   {
    "duration": 17,
    "start_time": "2023-02-10T16:35:16.352Z"
   },
   {
    "duration": 6,
    "start_time": "2023-02-10T16:37:01.325Z"
   },
   {
    "duration": 20,
    "start_time": "2023-02-10T16:37:03.333Z"
   },
   {
    "duration": 1434,
    "start_time": "2023-02-10T16:38:04.282Z"
   },
   {
    "duration": 37,
    "start_time": "2023-02-10T16:38:05.718Z"
   },
   {
    "duration": 21,
    "start_time": "2023-02-10T16:38:05.757Z"
   },
   {
    "duration": 156,
    "start_time": "2023-02-10T16:38:05.780Z"
   },
   {
    "duration": 20,
    "start_time": "2023-02-10T16:38:05.938Z"
   },
   {
    "duration": 94,
    "start_time": "2023-02-10T16:38:05.960Z"
   },
   {
    "duration": 25,
    "start_time": "2023-02-10T16:38:06.056Z"
   },
   {
    "duration": 16,
    "start_time": "2023-02-10T16:38:06.082Z"
   },
   {
    "duration": 6,
    "start_time": "2023-02-10T16:38:06.100Z"
   },
   {
    "duration": 7,
    "start_time": "2023-02-10T16:38:06.109Z"
   },
   {
    "duration": 42,
    "start_time": "2023-02-10T16:38:06.117Z"
   },
   {
    "duration": 71,
    "start_time": "2023-02-10T16:38:06.161Z"
   },
   {
    "duration": 169,
    "start_time": "2023-02-10T16:38:06.234Z"
   },
   {
    "duration": 18,
    "start_time": "2023-02-10T16:38:06.405Z"
   },
   {
    "duration": 89,
    "start_time": "2023-02-10T16:38:06.426Z"
   },
   {
    "duration": 47,
    "start_time": "2023-02-10T16:38:06.517Z"
   },
   {
    "duration": 7,
    "start_time": "2023-02-10T16:38:06.566Z"
   },
   {
    "duration": 56,
    "start_time": "2023-02-10T16:38:06.575Z"
   },
   {
    "duration": 26,
    "start_time": "2023-02-10T16:38:06.633Z"
   },
   {
    "duration": 46,
    "start_time": "2023-02-10T16:38:06.661Z"
   },
   {
    "duration": 165,
    "start_time": "2023-02-10T16:38:06.709Z"
   },
   {
    "duration": 19,
    "start_time": "2023-02-10T16:38:06.876Z"
   },
   {
    "duration": 24,
    "start_time": "2023-02-10T16:38:06.897Z"
   },
   {
    "duration": 358,
    "start_time": "2023-02-10T16:38:06.923Z"
   },
   {
    "duration": 765,
    "start_time": "2023-02-10T16:38:07.283Z"
   },
   {
    "duration": 87,
    "start_time": "2023-02-10T16:38:08.052Z"
   },
   {
    "duration": 81,
    "start_time": "2023-02-10T16:38:08.141Z"
   },
   {
    "duration": 74,
    "start_time": "2023-02-10T16:38:08.227Z"
   },
   {
    "duration": 160,
    "start_time": "2023-02-10T16:38:08.303Z"
   },
   {
    "duration": 6,
    "start_time": "2023-02-10T16:38:08.464Z"
   },
   {
    "duration": 16,
    "start_time": "2023-02-10T16:38:08.472Z"
   },
   {
    "duration": 8,
    "start_time": "2023-02-10T16:38:08.490Z"
   },
   {
    "duration": 8,
    "start_time": "2023-02-10T16:38:08.500Z"
   },
   {
    "duration": 10,
    "start_time": "2023-02-10T16:38:08.510Z"
   },
   {
    "duration": 57,
    "start_time": "2023-02-10T16:38:08.522Z"
   },
   {
    "duration": 109,
    "start_time": "2023-02-10T16:38:08.581Z"
   },
   {
    "duration": 13,
    "start_time": "2023-02-10T16:38:08.692Z"
   },
   {
    "duration": 8,
    "start_time": "2023-02-10T16:38:08.707Z"
   },
   {
    "duration": 36,
    "start_time": "2023-02-10T16:38:08.717Z"
   },
   {
    "duration": 359,
    "start_time": "2023-02-10T16:38:08.755Z"
   },
   {
    "duration": 3,
    "start_time": "2023-02-10T16:38:09.116Z"
   },
   {
    "duration": 7,
    "start_time": "2023-02-10T16:38:09.121Z"
   },
   {
    "duration": 43,
    "start_time": "2023-02-10T16:38:09.130Z"
   },
   {
    "duration": 139,
    "start_time": "2023-02-10T16:38:09.175Z"
   },
   {
    "duration": 60,
    "start_time": "2023-02-10T16:38:09.316Z"
   },
   {
    "duration": 93,
    "start_time": "2023-02-10T16:38:09.378Z"
   },
   {
    "duration": 4,
    "start_time": "2023-02-10T16:38:09.473Z"
   },
   {
    "duration": 8,
    "start_time": "2023-02-10T16:38:09.479Z"
   },
   {
    "duration": 192,
    "start_time": "2023-02-10T16:38:09.490Z"
   },
   {
    "duration": 149,
    "start_time": "2023-02-10T16:39:52.311Z"
   },
   {
    "duration": 1385,
    "start_time": "2023-02-10T16:39:57.049Z"
   },
   {
    "duration": 39,
    "start_time": "2023-02-10T16:39:58.436Z"
   },
   {
    "duration": 22,
    "start_time": "2023-02-10T16:39:58.477Z"
   },
   {
    "duration": 146,
    "start_time": "2023-02-10T16:39:58.501Z"
   },
   {
    "duration": 11,
    "start_time": "2023-02-10T16:39:58.653Z"
   },
   {
    "duration": 95,
    "start_time": "2023-02-10T16:39:58.666Z"
   },
   {
    "duration": 24,
    "start_time": "2023-02-10T16:39:58.763Z"
   },
   {
    "duration": 20,
    "start_time": "2023-02-10T16:39:58.788Z"
   },
   {
    "duration": 7,
    "start_time": "2023-02-10T16:39:58.810Z"
   },
   {
    "duration": 39,
    "start_time": "2023-02-10T16:39:58.820Z"
   },
   {
    "duration": 8,
    "start_time": "2023-02-10T16:39:58.860Z"
   },
   {
    "duration": 64,
    "start_time": "2023-02-10T16:39:58.869Z"
   },
   {
    "duration": 145,
    "start_time": "2023-02-10T16:39:58.954Z"
   },
   {
    "duration": 13,
    "start_time": "2023-02-10T16:39:59.100Z"
   },
   {
    "duration": 89,
    "start_time": "2023-02-10T16:39:59.114Z"
   },
   {
    "duration": 40,
    "start_time": "2023-02-10T16:39:59.205Z"
   },
   {
    "duration": 7,
    "start_time": "2023-02-10T16:39:59.253Z"
   },
   {
    "duration": 38,
    "start_time": "2023-02-10T16:39:59.262Z"
   },
   {
    "duration": 9,
    "start_time": "2023-02-10T16:39:59.302Z"
   },
   {
    "duration": 62,
    "start_time": "2023-02-10T16:39:59.312Z"
   },
   {
    "duration": 168,
    "start_time": "2023-02-10T16:39:59.376Z"
   },
   {
    "duration": 20,
    "start_time": "2023-02-10T16:39:59.545Z"
   },
   {
    "duration": 29,
    "start_time": "2023-02-10T16:39:59.566Z"
   },
   {
    "duration": 331,
    "start_time": "2023-02-10T16:39:59.598Z"
   },
   {
    "duration": 712,
    "start_time": "2023-02-10T16:39:59.931Z"
   },
   {
    "duration": 74,
    "start_time": "2023-02-10T16:40:00.644Z"
   },
   {
    "duration": 67,
    "start_time": "2023-02-10T16:40:00.720Z"
   },
   {
    "duration": 86,
    "start_time": "2023-02-10T16:40:00.790Z"
   },
   {
    "duration": 168,
    "start_time": "2023-02-10T16:40:00.878Z"
   },
   {
    "duration": 8,
    "start_time": "2023-02-10T16:40:01.048Z"
   },
   {
    "duration": 17,
    "start_time": "2023-02-10T16:40:01.058Z"
   },
   {
    "duration": 27,
    "start_time": "2023-02-10T16:40:01.077Z"
   },
   {
    "duration": 17,
    "start_time": "2023-02-10T16:40:01.107Z"
   },
   {
    "duration": 12,
    "start_time": "2023-02-10T16:40:01.127Z"
   },
   {
    "duration": 61,
    "start_time": "2023-02-10T16:40:01.142Z"
   },
   {
    "duration": 96,
    "start_time": "2023-02-10T16:40:01.205Z"
   },
   {
    "duration": 14,
    "start_time": "2023-02-10T16:40:01.303Z"
   },
   {
    "duration": 17,
    "start_time": "2023-02-10T16:40:01.318Z"
   },
   {
    "duration": 42,
    "start_time": "2023-02-10T16:40:01.337Z"
   },
   {
    "duration": 365,
    "start_time": "2023-02-10T16:40:01.381Z"
   },
   {
    "duration": 3,
    "start_time": "2023-02-10T16:40:01.748Z"
   },
   {
    "duration": 23,
    "start_time": "2023-02-10T16:40:01.753Z"
   },
   {
    "duration": 101,
    "start_time": "2023-02-10T16:40:01.777Z"
   },
   {
    "duration": 145,
    "start_time": "2023-02-10T16:40:01.880Z"
   },
   {
    "duration": 51,
    "start_time": "2023-02-10T16:40:02.027Z"
   },
   {
    "duration": 90,
    "start_time": "2023-02-10T16:40:02.080Z"
   },
   {
    "duration": 4,
    "start_time": "2023-02-10T16:40:02.172Z"
   },
   {
    "duration": 27,
    "start_time": "2023-02-10T16:40:02.178Z"
   },
   {
    "duration": 37,
    "start_time": "2023-02-10T16:40:02.207Z"
   },
   {
    "duration": 230,
    "start_time": "2023-02-10T16:42:28.263Z"
   },
   {
    "duration": 11,
    "start_time": "2023-02-10T16:42:39.354Z"
   },
   {
    "duration": 72,
    "start_time": "2023-02-10T16:42:54.338Z"
   },
   {
    "duration": 10,
    "start_time": "2023-02-10T16:42:58.483Z"
   },
   {
    "duration": 85,
    "start_time": "2023-02-10T16:44:40.512Z"
   },
   {
    "duration": 13,
    "start_time": "2023-02-10T16:45:04.823Z"
   },
   {
    "duration": 12,
    "start_time": "2023-02-10T16:45:12.232Z"
   },
   {
    "duration": 843,
    "start_time": "2023-02-10T16:46:22.823Z"
   },
   {
    "duration": 8,
    "start_time": "2023-02-10T16:47:03.781Z"
   },
   {
    "duration": 1129,
    "start_time": "2023-02-10T16:48:10.809Z"
   },
   {
    "duration": 16,
    "start_time": "2023-02-10T16:48:36.928Z"
   },
   {
    "duration": 10,
    "start_time": "2023-02-10T16:48:48.488Z"
   },
   {
    "duration": 1153,
    "start_time": "2023-02-10T16:48:57.026Z"
   },
   {
    "duration": 4,
    "start_time": "2023-02-10T16:49:06.211Z"
   },
   {
    "duration": 11,
    "start_time": "2023-02-10T16:49:20.124Z"
   },
   {
    "duration": 1400,
    "start_time": "2023-02-10T16:52:11.587Z"
   },
   {
    "duration": 29,
    "start_time": "2023-02-10T16:52:12.990Z"
   },
   {
    "duration": 41,
    "start_time": "2023-02-10T16:52:13.022Z"
   },
   {
    "duration": 162,
    "start_time": "2023-02-10T16:52:13.065Z"
   },
   {
    "duration": 25,
    "start_time": "2023-02-10T16:52:13.229Z"
   },
   {
    "duration": 145,
    "start_time": "2023-02-10T16:52:13.256Z"
   },
   {
    "duration": 26,
    "start_time": "2023-02-10T16:52:13.402Z"
   },
   {
    "duration": 42,
    "start_time": "2023-02-10T16:52:13.430Z"
   },
   {
    "duration": 9,
    "start_time": "2023-02-10T16:52:13.474Z"
   },
   {
    "duration": 9,
    "start_time": "2023-02-10T16:52:13.489Z"
   },
   {
    "duration": 25,
    "start_time": "2023-02-10T16:52:13.500Z"
   },
   {
    "duration": 85,
    "start_time": "2023-02-10T16:52:13.527Z"
   },
   {
    "duration": 151,
    "start_time": "2023-02-10T16:52:13.615Z"
   },
   {
    "duration": 15,
    "start_time": "2023-02-10T16:52:13.767Z"
   },
   {
    "duration": 110,
    "start_time": "2023-02-10T16:52:13.783Z"
   },
   {
    "duration": 65,
    "start_time": "2023-02-10T16:52:13.895Z"
   },
   {
    "duration": 7,
    "start_time": "2023-02-10T16:52:13.963Z"
   },
   {
    "duration": 73,
    "start_time": "2023-02-10T16:52:13.971Z"
   },
   {
    "duration": 38,
    "start_time": "2023-02-10T16:52:14.046Z"
   },
   {
    "duration": 71,
    "start_time": "2023-02-10T16:52:14.086Z"
   },
   {
    "duration": 162,
    "start_time": "2023-02-10T16:52:14.160Z"
   },
   {
    "duration": 46,
    "start_time": "2023-02-10T16:52:14.324Z"
   },
   {
    "duration": 62,
    "start_time": "2023-02-10T16:52:14.372Z"
   },
   {
    "duration": 340,
    "start_time": "2023-02-10T16:52:14.436Z"
   },
   {
    "duration": 784,
    "start_time": "2023-02-10T16:52:14.778Z"
   },
   {
    "duration": 71,
    "start_time": "2023-02-10T16:52:15.563Z"
   },
   {
    "duration": 64,
    "start_time": "2023-02-10T16:52:15.635Z"
   },
   {
    "duration": 180,
    "start_time": "2023-02-10T16:52:15.702Z"
   },
   {
    "duration": 92,
    "start_time": "2023-02-10T16:52:15.884Z"
   },
   {
    "duration": 6,
    "start_time": "2023-02-10T16:52:15.978Z"
   },
   {
    "duration": 45,
    "start_time": "2023-02-10T16:52:15.986Z"
   },
   {
    "duration": 40,
    "start_time": "2023-02-10T16:52:16.033Z"
   },
   {
    "duration": 36,
    "start_time": "2023-02-10T16:52:16.075Z"
   },
   {
    "duration": 18,
    "start_time": "2023-02-10T16:52:16.113Z"
   },
   {
    "duration": 70,
    "start_time": "2023-02-10T16:52:16.133Z"
   },
   {
    "duration": 82,
    "start_time": "2023-02-10T16:52:16.205Z"
   },
   {
    "duration": 18,
    "start_time": "2023-02-10T16:52:16.289Z"
   },
   {
    "duration": 10,
    "start_time": "2023-02-10T16:52:16.309Z"
   },
   {
    "duration": 15,
    "start_time": "2023-02-10T16:52:16.321Z"
   },
   {
    "duration": 377,
    "start_time": "2023-02-10T16:52:16.354Z"
   },
   {
    "duration": 4,
    "start_time": "2023-02-10T16:52:16.733Z"
   },
   {
    "duration": 8,
    "start_time": "2023-02-10T16:52:16.738Z"
   },
   {
    "duration": 40,
    "start_time": "2023-02-10T16:52:16.747Z"
   },
   {
    "duration": 122,
    "start_time": "2023-02-10T16:52:16.789Z"
   },
   {
    "duration": 55,
    "start_time": "2023-02-10T16:52:16.913Z"
   },
   {
    "duration": 85,
    "start_time": "2023-02-10T16:52:16.969Z"
   },
   {
    "duration": 4,
    "start_time": "2023-02-10T16:52:17.056Z"
   },
   {
    "duration": 14,
    "start_time": "2023-02-10T16:52:17.062Z"
   },
   {
    "duration": 15,
    "start_time": "2023-02-10T16:52:17.078Z"
   },
   {
    "duration": 9,
    "start_time": "2023-02-10T16:52:17.095Z"
   },
   {
    "duration": 8,
    "start_time": "2023-02-10T16:52:17.105Z"
   },
   {
    "duration": 10,
    "start_time": "2023-02-10T16:52:17.115Z"
   },
   {
    "duration": 35,
    "start_time": "2023-02-10T16:52:17.127Z"
   },
   {
    "duration": 19,
    "start_time": "2023-02-10T16:52:17.164Z"
   },
   {
    "duration": 10,
    "start_time": "2023-02-10T16:52:17.184Z"
   },
   {
    "duration": 143,
    "start_time": "2023-02-10T17:31:24.179Z"
   },
   {
    "duration": 11,
    "start_time": "2023-02-10T17:31:40.013Z"
   },
   {
    "duration": 1356,
    "start_time": "2023-02-10T17:31:48.326Z"
   },
   {
    "duration": 32,
    "start_time": "2023-02-10T17:31:49.684Z"
   },
   {
    "duration": 36,
    "start_time": "2023-02-10T17:31:49.718Z"
   },
   {
    "duration": 142,
    "start_time": "2023-02-10T17:31:49.757Z"
   },
   {
    "duration": 11,
    "start_time": "2023-02-10T17:31:49.900Z"
   },
   {
    "duration": 90,
    "start_time": "2023-02-10T17:31:49.913Z"
   },
   {
    "duration": 25,
    "start_time": "2023-02-10T17:31:50.005Z"
   },
   {
    "duration": 24,
    "start_time": "2023-02-10T17:31:50.032Z"
   },
   {
    "duration": 16,
    "start_time": "2023-02-10T17:31:50.058Z"
   },
   {
    "duration": 7,
    "start_time": "2023-02-10T17:31:50.077Z"
   },
   {
    "duration": 8,
    "start_time": "2023-02-10T17:31:50.086Z"
   },
   {
    "duration": 91,
    "start_time": "2023-02-10T17:31:50.095Z"
   },
   {
    "duration": 146,
    "start_time": "2023-02-10T17:31:50.187Z"
   },
   {
    "duration": 19,
    "start_time": "2023-02-10T17:31:50.335Z"
   },
   {
    "duration": 71,
    "start_time": "2023-02-10T17:31:50.355Z"
   },
   {
    "duration": 53,
    "start_time": "2023-02-10T17:31:50.427Z"
   },
   {
    "duration": 7,
    "start_time": "2023-02-10T17:31:50.481Z"
   },
   {
    "duration": 32,
    "start_time": "2023-02-10T17:31:50.490Z"
   },
   {
    "duration": 10,
    "start_time": "2023-02-10T17:31:50.524Z"
   },
   {
    "duration": 62,
    "start_time": "2023-02-10T17:31:50.535Z"
   },
   {
    "duration": 147,
    "start_time": "2023-02-10T17:31:50.599Z"
   },
   {
    "duration": 22,
    "start_time": "2023-02-10T17:31:50.747Z"
   },
   {
    "duration": 32,
    "start_time": "2023-02-10T17:31:50.771Z"
   },
   {
    "duration": 282,
    "start_time": "2023-02-10T17:31:50.805Z"
   },
   {
    "duration": 685,
    "start_time": "2023-02-10T17:31:51.088Z"
   },
   {
    "duration": 66,
    "start_time": "2023-02-10T17:31:51.775Z"
   },
   {
    "duration": 44,
    "start_time": "2023-02-10T17:31:51.854Z"
   },
   {
    "duration": 167,
    "start_time": "2023-02-10T17:31:51.902Z"
   },
   {
    "duration": 71,
    "start_time": "2023-02-10T17:31:52.071Z"
   },
   {
    "duration": 11,
    "start_time": "2023-02-10T17:31:52.143Z"
   },
   {
    "duration": 14,
    "start_time": "2023-02-10T17:31:52.156Z"
   },
   {
    "duration": 6,
    "start_time": "2023-02-10T17:31:52.172Z"
   },
   {
    "duration": 9,
    "start_time": "2023-02-10T17:31:52.180Z"
   },
   {
    "duration": 7,
    "start_time": "2023-02-10T17:31:52.191Z"
   },
   {
    "duration": 22,
    "start_time": "2023-02-10T17:31:52.200Z"
   },
   {
    "duration": 96,
    "start_time": "2023-02-10T17:31:52.224Z"
   },
   {
    "duration": 12,
    "start_time": "2023-02-10T17:31:52.321Z"
   },
   {
    "duration": 19,
    "start_time": "2023-02-10T17:31:52.335Z"
   },
   {
    "duration": 13,
    "start_time": "2023-02-10T17:31:52.356Z"
   },
   {
    "duration": 334,
    "start_time": "2023-02-10T17:31:52.371Z"
   },
   {
    "duration": 3,
    "start_time": "2023-02-10T17:31:52.707Z"
   },
   {
    "duration": 7,
    "start_time": "2023-02-10T17:31:52.712Z"
   },
   {
    "duration": 77,
    "start_time": "2023-02-10T17:31:52.720Z"
   },
   {
    "duration": 82,
    "start_time": "2023-02-10T17:31:52.854Z"
   },
   {
    "duration": 49,
    "start_time": "2023-02-10T17:31:52.937Z"
   },
   {
    "duration": 102,
    "start_time": "2023-02-10T17:31:52.988Z"
   },
   {
    "duration": 5,
    "start_time": "2023-02-10T17:31:53.091Z"
   },
   {
    "duration": 15,
    "start_time": "2023-02-10T17:31:53.098Z"
   },
   {
    "duration": 19,
    "start_time": "2023-02-10T17:31:53.115Z"
   },
   {
    "duration": 10,
    "start_time": "2023-02-10T17:31:53.136Z"
   },
   {
    "duration": 10,
    "start_time": "2023-02-10T17:31:53.154Z"
   },
   {
    "duration": 17,
    "start_time": "2023-02-10T17:31:53.166Z"
   },
   {
    "duration": 20,
    "start_time": "2023-02-10T17:31:53.184Z"
   },
   {
    "duration": 10,
    "start_time": "2023-02-10T17:31:53.205Z"
   },
   {
    "duration": 11,
    "start_time": "2023-02-10T17:31:53.216Z"
   },
   {
    "duration": 142,
    "start_time": "2023-02-10T17:36:24.053Z"
   },
   {
    "duration": 11,
    "start_time": "2023-02-10T17:36:44.061Z"
   },
   {
    "duration": 1436,
    "start_time": "2023-02-10T17:36:49.146Z"
   },
   {
    "duration": 33,
    "start_time": "2023-02-10T17:36:50.583Z"
   },
   {
    "duration": 38,
    "start_time": "2023-02-10T17:36:50.618Z"
   },
   {
    "duration": 142,
    "start_time": "2023-02-10T17:36:50.657Z"
   },
   {
    "duration": 11,
    "start_time": "2023-02-10T17:36:50.801Z"
   },
   {
    "duration": 94,
    "start_time": "2023-02-10T17:36:50.814Z"
   },
   {
    "duration": 44,
    "start_time": "2023-02-10T17:36:50.910Z"
   },
   {
    "duration": 7,
    "start_time": "2023-02-10T17:36:50.956Z"
   },
   {
    "duration": 15,
    "start_time": "2023-02-10T17:36:50.965Z"
   },
   {
    "duration": 9,
    "start_time": "2023-02-10T17:36:50.984Z"
   },
   {
    "duration": 8,
    "start_time": "2023-02-10T17:36:50.994Z"
   },
   {
    "duration": 99,
    "start_time": "2023-02-10T17:36:51.003Z"
   },
   {
    "duration": 160,
    "start_time": "2023-02-10T17:36:51.103Z"
   },
   {
    "duration": 16,
    "start_time": "2023-02-10T17:36:51.265Z"
   },
   {
    "duration": 89,
    "start_time": "2023-02-10T17:36:51.283Z"
   },
   {
    "duration": 50,
    "start_time": "2023-02-10T17:36:51.373Z"
   },
   {
    "duration": 8,
    "start_time": "2023-02-10T17:36:51.425Z"
   },
   {
    "duration": 46,
    "start_time": "2023-02-10T17:36:51.434Z"
   },
   {
    "duration": 9,
    "start_time": "2023-02-10T17:36:51.482Z"
   },
   {
    "duration": 62,
    "start_time": "2023-02-10T17:36:51.493Z"
   },
   {
    "duration": 150,
    "start_time": "2023-02-10T17:36:51.556Z"
   },
   {
    "duration": 18,
    "start_time": "2023-02-10T17:36:51.707Z"
   },
   {
    "duration": 32,
    "start_time": "2023-02-10T17:36:51.726Z"
   },
   {
    "duration": 345,
    "start_time": "2023-02-10T17:36:51.760Z"
   },
   {
    "duration": 662,
    "start_time": "2023-02-10T17:36:52.107Z"
   },
   {
    "duration": 65,
    "start_time": "2023-02-10T17:36:52.771Z"
   },
   {
    "duration": 56,
    "start_time": "2023-02-10T17:36:52.838Z"
   },
   {
    "duration": 153,
    "start_time": "2023-02-10T17:36:52.897Z"
   },
   {
    "duration": 69,
    "start_time": "2023-02-10T17:36:53.053Z"
   },
   {
    "duration": 7,
    "start_time": "2023-02-10T17:36:53.124Z"
   },
   {
    "duration": 6,
    "start_time": "2023-02-10T17:36:53.132Z"
   },
   {
    "duration": 9,
    "start_time": "2023-02-10T17:36:53.154Z"
   },
   {
    "duration": 7,
    "start_time": "2023-02-10T17:36:53.164Z"
   },
   {
    "duration": 8,
    "start_time": "2023-02-10T17:36:53.173Z"
   },
   {
    "duration": 30,
    "start_time": "2023-02-10T17:36:53.182Z"
   },
   {
    "duration": 81,
    "start_time": "2023-02-10T17:36:53.213Z"
   },
   {
    "duration": 11,
    "start_time": "2023-02-10T17:36:53.295Z"
   },
   {
    "duration": 7,
    "start_time": "2023-02-10T17:36:53.307Z"
   },
   {
    "duration": 12,
    "start_time": "2023-02-10T17:36:53.315Z"
   },
   {
    "duration": 354,
    "start_time": "2023-02-10T17:36:53.328Z"
   },
   {
    "duration": 4,
    "start_time": "2023-02-10T17:36:53.683Z"
   },
   {
    "duration": 5,
    "start_time": "2023-02-10T17:36:53.689Z"
   },
   {
    "duration": 69,
    "start_time": "2023-02-10T17:36:53.696Z"
   },
   {
    "duration": 131,
    "start_time": "2023-02-10T17:36:53.767Z"
   },
   {
    "duration": 34,
    "start_time": "2023-02-10T17:36:53.899Z"
   },
   {
    "duration": 97,
    "start_time": "2023-02-10T17:36:53.934Z"
   },
   {
    "duration": 4,
    "start_time": "2023-02-10T17:36:54.033Z"
   },
   {
    "duration": 21,
    "start_time": "2023-02-10T17:36:54.038Z"
   },
   {
    "duration": 13,
    "start_time": "2023-02-10T17:36:54.061Z"
   },
   {
    "duration": 8,
    "start_time": "2023-02-10T17:36:54.075Z"
   },
   {
    "duration": 8,
    "start_time": "2023-02-10T17:36:54.084Z"
   },
   {
    "duration": 7,
    "start_time": "2023-02-10T17:36:54.094Z"
   },
   {
    "duration": 12,
    "start_time": "2023-02-10T17:36:54.102Z"
   },
   {
    "duration": 8,
    "start_time": "2023-02-10T17:36:54.116Z"
   },
   {
    "duration": 41,
    "start_time": "2023-02-10T17:36:54.125Z"
   },
   {
    "duration": 153,
    "start_time": "2023-02-10T17:37:04.248Z"
   },
   {
    "duration": 1389,
    "start_time": "2023-02-10T17:37:08.794Z"
   },
   {
    "duration": 29,
    "start_time": "2023-02-10T17:37:10.185Z"
   },
   {
    "duration": 46,
    "start_time": "2023-02-10T17:37:10.215Z"
   },
   {
    "duration": 135,
    "start_time": "2023-02-10T17:37:10.263Z"
   },
   {
    "duration": 10,
    "start_time": "2023-02-10T17:37:10.399Z"
   },
   {
    "duration": 88,
    "start_time": "2023-02-10T17:37:10.410Z"
   },
   {
    "duration": 23,
    "start_time": "2023-02-10T17:37:10.500Z"
   },
   {
    "duration": 7,
    "start_time": "2023-02-10T17:37:10.525Z"
   },
   {
    "duration": 33,
    "start_time": "2023-02-10T17:37:10.534Z"
   },
   {
    "duration": 10,
    "start_time": "2023-02-10T17:37:10.570Z"
   },
   {
    "duration": 8,
    "start_time": "2023-02-10T17:37:10.582Z"
   },
   {
    "duration": 87,
    "start_time": "2023-02-10T17:37:10.591Z"
   },
   {
    "duration": 163,
    "start_time": "2023-02-10T17:37:10.680Z"
   },
   {
    "duration": 21,
    "start_time": "2023-02-10T17:37:10.845Z"
   },
   {
    "duration": 86,
    "start_time": "2023-02-10T17:37:10.868Z"
   },
   {
    "duration": 43,
    "start_time": "2023-02-10T17:37:10.956Z"
   },
   {
    "duration": 8,
    "start_time": "2023-02-10T17:37:11.001Z"
   },
   {
    "duration": 59,
    "start_time": "2023-02-10T17:37:11.010Z"
   },
   {
    "duration": 9,
    "start_time": "2023-02-10T17:37:11.071Z"
   },
   {
    "duration": 72,
    "start_time": "2023-02-10T17:37:11.082Z"
   },
   {
    "duration": 161,
    "start_time": "2023-02-10T17:37:11.156Z"
   },
   {
    "duration": 18,
    "start_time": "2023-02-10T17:37:11.319Z"
   },
   {
    "duration": 31,
    "start_time": "2023-02-10T17:37:11.339Z"
   },
   {
    "duration": 388,
    "start_time": "2023-02-10T17:37:11.371Z"
   },
   {
    "duration": 697,
    "start_time": "2023-02-10T17:37:11.761Z"
   },
   {
    "duration": 70,
    "start_time": "2023-02-10T17:37:12.460Z"
   },
   {
    "duration": 64,
    "start_time": "2023-02-10T17:37:12.532Z"
   },
   {
    "duration": 175,
    "start_time": "2023-02-10T17:37:12.600Z"
   },
   {
    "duration": 64,
    "start_time": "2023-02-10T17:37:12.777Z"
   },
   {
    "duration": 15,
    "start_time": "2023-02-10T17:37:12.842Z"
   },
   {
    "duration": 4,
    "start_time": "2023-02-10T17:37:12.858Z"
   },
   {
    "duration": 5,
    "start_time": "2023-02-10T17:37:12.864Z"
   },
   {
    "duration": 6,
    "start_time": "2023-02-10T17:37:12.871Z"
   },
   {
    "duration": 8,
    "start_time": "2023-02-10T17:37:12.878Z"
   },
   {
    "duration": 25,
    "start_time": "2023-02-10T17:37:12.888Z"
   },
   {
    "duration": 99,
    "start_time": "2023-02-10T17:37:12.914Z"
   },
   {
    "duration": 11,
    "start_time": "2023-02-10T17:37:13.015Z"
   },
   {
    "duration": 6,
    "start_time": "2023-02-10T17:37:13.028Z"
   },
   {
    "duration": 25,
    "start_time": "2023-02-10T17:37:13.036Z"
   },
   {
    "duration": 333,
    "start_time": "2023-02-10T17:37:13.062Z"
   },
   {
    "duration": 3,
    "start_time": "2023-02-10T17:37:13.397Z"
   },
   {
    "duration": 7,
    "start_time": "2023-02-10T17:37:13.401Z"
   },
   {
    "duration": 67,
    "start_time": "2023-02-10T17:37:13.409Z"
   },
   {
    "duration": 142,
    "start_time": "2023-02-10T17:37:13.478Z"
   },
   {
    "duration": 55,
    "start_time": "2023-02-10T17:37:13.622Z"
   },
   {
    "duration": 83,
    "start_time": "2023-02-10T17:37:13.679Z"
   },
   {
    "duration": 4,
    "start_time": "2023-02-10T17:37:13.763Z"
   },
   {
    "duration": 7,
    "start_time": "2023-02-10T17:37:13.769Z"
   },
   {
    "duration": 13,
    "start_time": "2023-02-10T17:37:13.778Z"
   },
   {
    "duration": 8,
    "start_time": "2023-02-10T17:37:13.792Z"
   },
   {
    "duration": 12,
    "start_time": "2023-02-10T17:37:13.801Z"
   },
   {
    "duration": 6,
    "start_time": "2023-02-10T17:37:13.814Z"
   },
   {
    "duration": 11,
    "start_time": "2023-02-10T17:37:13.853Z"
   },
   {
    "duration": 7,
    "start_time": "2023-02-10T17:37:13.865Z"
   },
   {
    "duration": 11,
    "start_time": "2023-02-10T17:37:13.873Z"
   },
   {
    "duration": 1400,
    "start_time": "2023-02-10T17:37:28.726Z"
   },
   {
    "duration": 32,
    "start_time": "2023-02-10T17:37:30.128Z"
   },
   {
    "duration": 22,
    "start_time": "2023-02-10T17:37:30.162Z"
   },
   {
    "duration": 148,
    "start_time": "2023-02-10T17:37:30.186Z"
   },
   {
    "duration": 19,
    "start_time": "2023-02-10T17:37:30.336Z"
   },
   {
    "duration": 86,
    "start_time": "2023-02-10T17:37:30.356Z"
   },
   {
    "duration": 27,
    "start_time": "2023-02-10T17:37:30.444Z"
   },
   {
    "duration": 14,
    "start_time": "2023-02-10T17:37:30.473Z"
   },
   {
    "duration": 32,
    "start_time": "2023-02-10T17:37:30.488Z"
   },
   {
    "duration": 33,
    "start_time": "2023-02-10T17:37:30.522Z"
   },
   {
    "duration": 32,
    "start_time": "2023-02-10T17:37:30.556Z"
   },
   {
    "duration": 105,
    "start_time": "2023-02-10T17:37:30.589Z"
   },
   {
    "duration": 162,
    "start_time": "2023-02-10T17:37:30.695Z"
   },
   {
    "duration": 16,
    "start_time": "2023-02-10T17:37:30.858Z"
   },
   {
    "duration": 94,
    "start_time": "2023-02-10T17:37:30.876Z"
   },
   {
    "duration": 44,
    "start_time": "2023-02-10T17:37:30.972Z"
   },
   {
    "duration": 6,
    "start_time": "2023-02-10T17:37:31.018Z"
   },
   {
    "duration": 54,
    "start_time": "2023-02-10T17:37:31.026Z"
   },
   {
    "duration": 18,
    "start_time": "2023-02-10T17:37:31.082Z"
   },
   {
    "duration": 62,
    "start_time": "2023-02-10T17:37:31.102Z"
   },
   {
    "duration": 163,
    "start_time": "2023-02-10T17:37:31.166Z"
   },
   {
    "duration": 23,
    "start_time": "2023-02-10T17:37:31.331Z"
   },
   {
    "duration": 21,
    "start_time": "2023-02-10T17:37:31.356Z"
   },
   {
    "duration": 360,
    "start_time": "2023-02-10T17:37:31.379Z"
   },
   {
    "duration": 675,
    "start_time": "2023-02-10T17:37:31.740Z"
   },
   {
    "duration": 73,
    "start_time": "2023-02-10T17:37:32.417Z"
   },
   {
    "duration": 46,
    "start_time": "2023-02-10T17:37:32.492Z"
   },
   {
    "duration": 154,
    "start_time": "2023-02-10T17:37:32.554Z"
   },
   {
    "duration": 74,
    "start_time": "2023-02-10T17:37:32.709Z"
   },
   {
    "duration": 7,
    "start_time": "2023-02-10T17:37:32.784Z"
   },
   {
    "duration": 5,
    "start_time": "2023-02-10T17:37:32.793Z"
   },
   {
    "duration": 7,
    "start_time": "2023-02-10T17:37:32.800Z"
   },
   {
    "duration": 6,
    "start_time": "2023-02-10T17:37:32.809Z"
   },
   {
    "duration": 36,
    "start_time": "2023-02-10T17:37:32.817Z"
   },
   {
    "duration": 24,
    "start_time": "2023-02-10T17:37:32.854Z"
   },
   {
    "duration": 76,
    "start_time": "2023-02-10T17:37:32.880Z"
   },
   {
    "duration": 12,
    "start_time": "2023-02-10T17:37:32.957Z"
   },
   {
    "duration": 7,
    "start_time": "2023-02-10T17:37:32.971Z"
   },
   {
    "duration": 10,
    "start_time": "2023-02-10T17:37:32.980Z"
   },
   {
    "duration": 346,
    "start_time": "2023-02-10T17:37:32.991Z"
   },
   {
    "duration": 4,
    "start_time": "2023-02-10T17:37:33.339Z"
   },
   {
    "duration": 12,
    "start_time": "2023-02-10T17:37:33.344Z"
   },
   {
    "duration": 96,
    "start_time": "2023-02-10T17:37:33.358Z"
   },
   {
    "duration": 117,
    "start_time": "2023-02-10T17:37:33.456Z"
   },
   {
    "duration": 34,
    "start_time": "2023-02-10T17:37:33.575Z"
   },
   {
    "duration": 97,
    "start_time": "2023-02-10T17:37:33.610Z"
   },
   {
    "duration": 4,
    "start_time": "2023-02-10T17:37:33.709Z"
   },
   {
    "duration": 11,
    "start_time": "2023-02-10T17:37:33.714Z"
   },
   {
    "duration": 12,
    "start_time": "2023-02-10T17:37:33.726Z"
   },
   {
    "duration": 17,
    "start_time": "2023-02-10T17:37:33.740Z"
   },
   {
    "duration": 8,
    "start_time": "2023-02-10T17:37:33.758Z"
   },
   {
    "duration": 7,
    "start_time": "2023-02-10T17:37:33.768Z"
   },
   {
    "duration": 11,
    "start_time": "2023-02-10T17:37:33.776Z"
   },
   {
    "duration": 9,
    "start_time": "2023-02-10T17:37:33.788Z"
   },
   {
    "duration": 11,
    "start_time": "2023-02-10T17:37:33.799Z"
   },
   {
    "duration": 139,
    "start_time": "2023-02-10T17:37:41.819Z"
   },
   {
    "duration": 1331,
    "start_time": "2023-02-10T17:37:52.492Z"
   },
   {
    "duration": 34,
    "start_time": "2023-02-10T17:37:53.825Z"
   },
   {
    "duration": 22,
    "start_time": "2023-02-10T17:37:53.861Z"
   },
   {
    "duration": 144,
    "start_time": "2023-02-10T17:37:53.885Z"
   },
   {
    "duration": 22,
    "start_time": "2023-02-10T17:37:54.031Z"
   },
   {
    "duration": 83,
    "start_time": "2023-02-10T17:37:54.054Z"
   },
   {
    "duration": 31,
    "start_time": "2023-02-10T17:37:54.138Z"
   },
   {
    "duration": 7,
    "start_time": "2023-02-10T17:37:54.170Z"
   },
   {
    "duration": 16,
    "start_time": "2023-02-10T17:37:54.178Z"
   },
   {
    "duration": 7,
    "start_time": "2023-02-10T17:37:54.197Z"
   },
   {
    "duration": 9,
    "start_time": "2023-02-10T17:37:54.205Z"
   },
   {
    "duration": 93,
    "start_time": "2023-02-10T17:37:54.216Z"
   },
   {
    "duration": 149,
    "start_time": "2023-02-10T17:37:54.310Z"
   },
   {
    "duration": 14,
    "start_time": "2023-02-10T17:37:54.461Z"
   },
   {
    "duration": 89,
    "start_time": "2023-02-10T17:37:54.477Z"
   },
   {
    "duration": 41,
    "start_time": "2023-02-10T17:37:54.567Z"
   },
   {
    "duration": 5,
    "start_time": "2023-02-10T17:37:54.610Z"
   },
   {
    "duration": 48,
    "start_time": "2023-02-10T17:37:54.617Z"
   },
   {
    "duration": 7,
    "start_time": "2023-02-10T17:37:54.666Z"
   },
   {
    "duration": 45,
    "start_time": "2023-02-10T17:37:54.674Z"
   },
   {
    "duration": 149,
    "start_time": "2023-02-10T17:37:54.720Z"
   },
   {
    "duration": 18,
    "start_time": "2023-02-10T17:37:54.871Z"
   },
   {
    "duration": 22,
    "start_time": "2023-02-10T17:37:54.890Z"
   },
   {
    "duration": 368,
    "start_time": "2023-02-10T17:37:54.913Z"
   },
   {
    "duration": 691,
    "start_time": "2023-02-10T17:37:55.283Z"
   },
   {
    "duration": 79,
    "start_time": "2023-02-10T17:37:55.975Z"
   },
   {
    "duration": 46,
    "start_time": "2023-02-10T17:37:56.056Z"
   },
   {
    "duration": 177,
    "start_time": "2023-02-10T17:37:56.105Z"
   },
   {
    "duration": 85,
    "start_time": "2023-02-10T17:37:56.284Z"
   },
   {
    "duration": 6,
    "start_time": "2023-02-10T17:37:56.371Z"
   },
   {
    "duration": 4,
    "start_time": "2023-02-10T17:37:56.379Z"
   },
   {
    "duration": 7,
    "start_time": "2023-02-10T17:37:56.385Z"
   },
   {
    "duration": 8,
    "start_time": "2023-02-10T17:37:56.393Z"
   },
   {
    "duration": 10,
    "start_time": "2023-02-10T17:37:56.402Z"
   },
   {
    "duration": 25,
    "start_time": "2023-02-10T17:37:56.454Z"
   },
   {
    "duration": 82,
    "start_time": "2023-02-10T17:37:56.480Z"
   },
   {
    "duration": 14,
    "start_time": "2023-02-10T17:37:56.564Z"
   },
   {
    "duration": 7,
    "start_time": "2023-02-10T17:37:56.580Z"
   },
   {
    "duration": 9,
    "start_time": "2023-02-10T17:37:56.588Z"
   },
   {
    "duration": 334,
    "start_time": "2023-02-10T17:37:56.599Z"
   },
   {
    "duration": 3,
    "start_time": "2023-02-10T17:37:56.935Z"
   },
   {
    "duration": 12,
    "start_time": "2023-02-10T17:37:56.939Z"
   },
   {
    "duration": 60,
    "start_time": "2023-02-10T17:37:56.952Z"
   },
   {
    "duration": 115,
    "start_time": "2023-02-10T17:37:57.014Z"
   },
   {
    "duration": 54,
    "start_time": "2023-02-10T17:37:57.130Z"
   },
   {
    "duration": 99,
    "start_time": "2023-02-10T17:37:57.186Z"
   },
   {
    "duration": 4,
    "start_time": "2023-02-10T17:37:57.287Z"
   },
   {
    "duration": 8,
    "start_time": "2023-02-10T17:37:57.293Z"
   },
   {
    "duration": 12,
    "start_time": "2023-02-10T17:37:57.303Z"
   },
   {
    "duration": 9,
    "start_time": "2023-02-10T17:37:57.317Z"
   },
   {
    "duration": 31,
    "start_time": "2023-02-10T17:37:57.327Z"
   },
   {
    "duration": 8,
    "start_time": "2023-02-10T17:37:57.360Z"
   },
   {
    "duration": 12,
    "start_time": "2023-02-10T17:37:57.369Z"
   },
   {
    "duration": 8,
    "start_time": "2023-02-10T17:37:57.383Z"
   },
   {
    "duration": 12,
    "start_time": "2023-02-10T17:37:57.392Z"
   },
   {
    "duration": 145,
    "start_time": "2023-02-10T17:38:05.704Z"
   },
   {
    "duration": 1274,
    "start_time": "2023-02-10T17:38:10.206Z"
   },
   {
    "duration": 34,
    "start_time": "2023-02-10T17:38:11.482Z"
   },
   {
    "duration": 38,
    "start_time": "2023-02-10T17:38:11.518Z"
   },
   {
    "duration": 132,
    "start_time": "2023-02-10T17:38:11.559Z"
   },
   {
    "duration": 10,
    "start_time": "2023-02-10T17:38:11.693Z"
   },
   {
    "duration": 93,
    "start_time": "2023-02-10T17:38:11.704Z"
   },
   {
    "duration": 21,
    "start_time": "2023-02-10T17:38:11.799Z"
   },
   {
    "duration": 6,
    "start_time": "2023-02-10T17:38:11.822Z"
   },
   {
    "duration": 29,
    "start_time": "2023-02-10T17:38:11.829Z"
   },
   {
    "duration": 14,
    "start_time": "2023-02-10T17:38:11.860Z"
   },
   {
    "duration": 5,
    "start_time": "2023-02-10T17:38:11.876Z"
   },
   {
    "duration": 60,
    "start_time": "2023-02-10T17:38:11.883Z"
   },
   {
    "duration": 152,
    "start_time": "2023-02-10T17:38:11.953Z"
   },
   {
    "duration": 16,
    "start_time": "2023-02-10T17:38:12.107Z"
   },
   {
    "duration": 87,
    "start_time": "2023-02-10T17:38:12.125Z"
   },
   {
    "duration": 54,
    "start_time": "2023-02-10T17:38:12.214Z"
   },
   {
    "duration": 7,
    "start_time": "2023-02-10T17:38:12.269Z"
   },
   {
    "duration": 31,
    "start_time": "2023-02-10T17:38:12.277Z"
   },
   {
    "duration": 9,
    "start_time": "2023-02-10T17:38:12.309Z"
   },
   {
    "duration": 65,
    "start_time": "2023-02-10T17:38:12.319Z"
   },
   {
    "duration": 150,
    "start_time": "2023-02-10T17:38:12.386Z"
   },
   {
    "duration": 22,
    "start_time": "2023-02-10T17:38:12.537Z"
   },
   {
    "duration": 19,
    "start_time": "2023-02-10T17:38:12.561Z"
   },
   {
    "duration": 593,
    "start_time": "2023-02-10T17:38:12.582Z"
   },
   {
    "duration": 1320,
    "start_time": "2023-02-10T17:38:13.176Z"
   },
   {
    "duration": 170,
    "start_time": "2023-02-10T17:38:14.497Z"
   },
   {
    "duration": 98,
    "start_time": "2023-02-10T17:38:14.668Z"
   },
   {
    "duration": 314,
    "start_time": "2023-02-10T17:38:14.771Z"
   },
   {
    "duration": 176,
    "start_time": "2023-02-10T17:38:15.087Z"
   },
   {
    "duration": 6,
    "start_time": "2023-02-10T17:38:15.264Z"
   },
   {
    "duration": 12,
    "start_time": "2023-02-10T17:38:15.271Z"
   },
   {
    "duration": 7,
    "start_time": "2023-02-10T17:38:15.285Z"
   },
   {
    "duration": 60,
    "start_time": "2023-02-10T17:38:15.294Z"
   },
   {
    "duration": 9,
    "start_time": "2023-02-10T17:38:15.356Z"
   },
   {
    "duration": 31,
    "start_time": "2023-02-10T17:38:15.367Z"
   },
   {
    "duration": 170,
    "start_time": "2023-02-10T17:38:15.400Z"
   },
   {
    "duration": 11,
    "start_time": "2023-02-10T17:38:15.572Z"
   },
   {
    "duration": 7,
    "start_time": "2023-02-10T17:38:15.584Z"
   },
   {
    "duration": 61,
    "start_time": "2023-02-10T17:38:15.593Z"
   },
   {
    "duration": 646,
    "start_time": "2023-02-10T17:38:15.656Z"
   },
   {
    "duration": 49,
    "start_time": "2023-02-10T17:38:16.304Z"
   },
   {
    "duration": 4,
    "start_time": "2023-02-10T17:38:16.355Z"
   },
   {
    "duration": 42,
    "start_time": "2023-02-10T17:38:16.361Z"
   },
   {
    "duration": 134,
    "start_time": "2023-02-10T17:38:16.454Z"
   },
   {
    "duration": 90,
    "start_time": "2023-02-10T17:38:16.590Z"
   },
   {
    "duration": 188,
    "start_time": "2023-02-10T17:38:16.681Z"
   },
   {
    "duration": 4,
    "start_time": "2023-02-10T17:38:16.871Z"
   },
   {
    "duration": 8,
    "start_time": "2023-02-10T17:38:16.876Z"
   },
   {
    "duration": 14,
    "start_time": "2023-02-10T17:38:16.885Z"
   },
   {
    "duration": 9,
    "start_time": "2023-02-10T17:38:16.952Z"
   },
   {
    "duration": 9,
    "start_time": "2023-02-10T17:38:16.963Z"
   },
   {
    "duration": 6,
    "start_time": "2023-02-10T17:38:16.973Z"
   },
   {
    "duration": 11,
    "start_time": "2023-02-10T17:38:16.981Z"
   },
   {
    "duration": 7,
    "start_time": "2023-02-10T17:38:16.994Z"
   },
   {
    "duration": 9,
    "start_time": "2023-02-10T17:38:17.054Z"
   },
   {
    "duration": 1372,
    "start_time": "2023-02-10T17:38:43.942Z"
   },
   {
    "duration": 37,
    "start_time": "2023-02-10T17:38:45.316Z"
   },
   {
    "duration": 22,
    "start_time": "2023-02-10T17:38:45.355Z"
   },
   {
    "duration": 143,
    "start_time": "2023-02-10T17:38:45.379Z"
   },
   {
    "duration": 11,
    "start_time": "2023-02-10T17:38:45.524Z"
   },
   {
    "duration": 90,
    "start_time": "2023-02-10T17:38:45.536Z"
   },
   {
    "duration": 33,
    "start_time": "2023-02-10T17:38:45.628Z"
   },
   {
    "duration": 7,
    "start_time": "2023-02-10T17:38:45.662Z"
   },
   {
    "duration": 15,
    "start_time": "2023-02-10T17:38:45.670Z"
   },
   {
    "duration": 6,
    "start_time": "2023-02-10T17:38:45.687Z"
   },
   {
    "duration": 6,
    "start_time": "2023-02-10T17:38:45.695Z"
   },
   {
    "duration": 94,
    "start_time": "2023-02-10T17:38:45.702Z"
   },
   {
    "duration": 160,
    "start_time": "2023-02-10T17:38:45.797Z"
   },
   {
    "duration": 13,
    "start_time": "2023-02-10T17:38:45.960Z"
   },
   {
    "duration": 88,
    "start_time": "2023-02-10T17:38:45.975Z"
   },
   {
    "duration": 43,
    "start_time": "2023-02-10T17:38:46.065Z"
   },
   {
    "duration": 6,
    "start_time": "2023-02-10T17:38:46.110Z"
   },
   {
    "duration": 50,
    "start_time": "2023-02-10T17:38:46.118Z"
   },
   {
    "duration": 8,
    "start_time": "2023-02-10T17:38:46.170Z"
   },
   {
    "duration": 49,
    "start_time": "2023-02-10T17:38:46.180Z"
   },
   {
    "duration": 163,
    "start_time": "2023-02-10T17:38:46.231Z"
   },
   {
    "duration": 19,
    "start_time": "2023-02-10T17:38:46.396Z"
   },
   {
    "duration": 37,
    "start_time": "2023-02-10T17:38:46.417Z"
   },
   {
    "duration": 332,
    "start_time": "2023-02-10T17:38:46.456Z"
   },
   {
    "duration": 696,
    "start_time": "2023-02-10T17:38:46.790Z"
   },
   {
    "duration": 97,
    "start_time": "2023-02-10T17:38:47.488Z"
   },
   {
    "duration": 67,
    "start_time": "2023-02-10T17:38:47.587Z"
   },
   {
    "duration": 175,
    "start_time": "2023-02-10T17:38:47.657Z"
   },
   {
    "duration": 62,
    "start_time": "2023-02-10T17:38:47.833Z"
   },
   {
    "duration": 6,
    "start_time": "2023-02-10T17:38:47.897Z"
   },
   {
    "duration": 6,
    "start_time": "2023-02-10T17:38:47.905Z"
   },
   {
    "duration": 9,
    "start_time": "2023-02-10T17:38:47.912Z"
   },
   {
    "duration": 7,
    "start_time": "2023-02-10T17:38:47.922Z"
   },
   {
    "duration": 9,
    "start_time": "2023-02-10T17:38:47.954Z"
   },
   {
    "duration": 27,
    "start_time": "2023-02-10T17:38:47.964Z"
   },
   {
    "duration": 79,
    "start_time": "2023-02-10T17:38:47.993Z"
   },
   {
    "duration": 11,
    "start_time": "2023-02-10T17:38:48.074Z"
   },
   {
    "duration": 7,
    "start_time": "2023-02-10T17:38:48.087Z"
   },
   {
    "duration": 10,
    "start_time": "2023-02-10T17:38:48.096Z"
   },
   {
    "duration": 356,
    "start_time": "2023-02-10T17:38:48.107Z"
   },
   {
    "duration": 4,
    "start_time": "2023-02-10T17:38:48.467Z"
   },
   {
    "duration": 14,
    "start_time": "2023-02-10T17:38:48.472Z"
   },
   {
    "duration": 88,
    "start_time": "2023-02-10T17:38:48.487Z"
   },
   {
    "duration": 122,
    "start_time": "2023-02-10T17:38:48.576Z"
   },
   {
    "duration": 36,
    "start_time": "2023-02-10T17:38:48.700Z"
   },
   {
    "duration": 103,
    "start_time": "2023-02-10T17:38:48.737Z"
   },
   {
    "duration": 12,
    "start_time": "2023-02-10T17:38:48.842Z"
   },
   {
    "duration": 9,
    "start_time": "2023-02-10T17:38:48.856Z"
   },
   {
    "duration": 15,
    "start_time": "2023-02-10T17:38:48.866Z"
   },
   {
    "duration": 9,
    "start_time": "2023-02-10T17:38:48.882Z"
   },
   {
    "duration": 8,
    "start_time": "2023-02-10T17:38:48.893Z"
   },
   {
    "duration": 6,
    "start_time": "2023-02-10T17:38:48.902Z"
   },
   {
    "duration": 18,
    "start_time": "2023-02-10T17:38:48.910Z"
   },
   {
    "duration": 25,
    "start_time": "2023-02-10T17:38:48.930Z"
   },
   {
    "duration": 14,
    "start_time": "2023-02-10T17:38:48.957Z"
   },
   {
    "duration": 143,
    "start_time": "2023-02-10T17:43:54.468Z"
   },
   {
    "duration": 1270,
    "start_time": "2023-02-10T17:44:03.093Z"
   },
   {
    "duration": 26,
    "start_time": "2023-02-10T17:44:04.365Z"
   },
   {
    "duration": 21,
    "start_time": "2023-02-10T17:44:04.392Z"
   },
   {
    "duration": 140,
    "start_time": "2023-02-10T17:44:04.414Z"
   },
   {
    "duration": 11,
    "start_time": "2023-02-10T17:44:04.555Z"
   },
   {
    "duration": 98,
    "start_time": "2023-02-10T17:44:04.567Z"
   },
   {
    "duration": 23,
    "start_time": "2023-02-10T17:44:04.666Z"
   },
   {
    "duration": 7,
    "start_time": "2023-02-10T17:44:04.690Z"
   },
   {
    "duration": 24,
    "start_time": "2023-02-10T17:44:04.698Z"
   },
   {
    "duration": 14,
    "start_time": "2023-02-10T17:44:04.724Z"
   },
   {
    "duration": 19,
    "start_time": "2023-02-10T17:44:04.740Z"
   },
   {
    "duration": 64,
    "start_time": "2023-02-10T17:44:04.760Z"
   },
   {
    "duration": 161,
    "start_time": "2023-02-10T17:44:04.826Z"
   },
   {
    "duration": 14,
    "start_time": "2023-02-10T17:44:04.988Z"
   },
   {
    "duration": 92,
    "start_time": "2023-02-10T17:44:05.004Z"
   },
   {
    "duration": 42,
    "start_time": "2023-02-10T17:44:05.098Z"
   },
   {
    "duration": 7,
    "start_time": "2023-02-10T17:44:05.153Z"
   },
   {
    "duration": 67,
    "start_time": "2023-02-10T17:44:05.161Z"
   },
   {
    "duration": 23,
    "start_time": "2023-02-10T17:44:05.229Z"
   },
   {
    "duration": 66,
    "start_time": "2023-02-10T17:44:05.254Z"
   },
   {
    "duration": 153,
    "start_time": "2023-02-10T17:44:05.322Z"
   },
   {
    "duration": 27,
    "start_time": "2023-02-10T17:44:05.477Z"
   },
   {
    "duration": 25,
    "start_time": "2023-02-10T17:44:05.506Z"
   },
   {
    "duration": 357,
    "start_time": "2023-02-10T17:44:05.533Z"
   },
   {
    "duration": 722,
    "start_time": "2023-02-10T17:44:05.892Z"
   },
   {
    "duration": 79,
    "start_time": "2023-02-10T17:44:06.616Z"
   },
   {
    "duration": 55,
    "start_time": "2023-02-10T17:44:06.697Z"
   },
   {
    "duration": 171,
    "start_time": "2023-02-10T17:44:06.756Z"
   },
   {
    "duration": 74,
    "start_time": "2023-02-10T17:44:06.929Z"
   },
   {
    "duration": 7,
    "start_time": "2023-02-10T17:44:07.004Z"
   },
   {
    "duration": 30,
    "start_time": "2023-02-10T17:44:07.012Z"
   },
   {
    "duration": 23,
    "start_time": "2023-02-10T17:44:07.044Z"
   },
   {
    "duration": 16,
    "start_time": "2023-02-10T17:44:07.069Z"
   },
   {
    "duration": 9,
    "start_time": "2023-02-10T17:44:07.086Z"
   },
   {
    "duration": 25,
    "start_time": "2023-02-10T17:44:07.097Z"
   },
   {
    "duration": 66,
    "start_time": "2023-02-10T17:44:07.124Z"
   },
   {
    "duration": 12,
    "start_time": "2023-02-10T17:44:07.193Z"
   },
   {
    "duration": 7,
    "start_time": "2023-02-10T17:44:07.208Z"
   },
   {
    "duration": 14,
    "start_time": "2023-02-10T17:44:07.216Z"
   },
   {
    "duration": 417,
    "start_time": "2023-02-10T17:44:07.232Z"
   },
   {
    "duration": 4,
    "start_time": "2023-02-10T17:44:07.651Z"
   },
   {
    "duration": 7,
    "start_time": "2023-02-10T17:44:07.656Z"
   },
   {
    "duration": 97,
    "start_time": "2023-02-10T17:44:07.664Z"
   },
   {
    "duration": 110,
    "start_time": "2023-02-10T17:44:07.763Z"
   },
   {
    "duration": 33,
    "start_time": "2023-02-10T17:44:07.874Z"
   },
   {
    "duration": 99,
    "start_time": "2023-02-10T17:44:07.908Z"
   },
   {
    "duration": 4,
    "start_time": "2023-02-10T17:44:08.008Z"
   },
   {
    "duration": 10,
    "start_time": "2023-02-10T17:44:08.014Z"
   },
   {
    "duration": 25,
    "start_time": "2023-02-10T17:44:08.026Z"
   },
   {
    "duration": 12,
    "start_time": "2023-02-10T17:44:08.053Z"
   },
   {
    "duration": 9,
    "start_time": "2023-02-10T17:44:08.066Z"
   },
   {
    "duration": 12,
    "start_time": "2023-02-10T17:44:08.077Z"
   },
   {
    "duration": 14,
    "start_time": "2023-02-10T17:44:08.091Z"
   },
   {
    "duration": 11,
    "start_time": "2023-02-10T17:44:08.107Z"
   },
   {
    "duration": 9,
    "start_time": "2023-02-10T17:44:08.120Z"
   },
   {
    "duration": 1769,
    "start_time": "2023-02-10T17:44:46.098Z"
   },
   {
    "duration": 26,
    "start_time": "2023-02-10T17:44:47.869Z"
   },
   {
    "duration": 74,
    "start_time": "2023-02-10T17:44:47.896Z"
   },
   {
    "duration": 229,
    "start_time": "2023-02-10T17:44:47.972Z"
   },
   {
    "duration": 11,
    "start_time": "2023-02-10T17:44:48.254Z"
   },
   {
    "duration": 133,
    "start_time": "2023-02-10T17:44:48.266Z"
   },
   {
    "duration": 71,
    "start_time": "2023-02-10T17:44:48.401Z"
   },
   {
    "duration": 6,
    "start_time": "2023-02-10T17:44:48.474Z"
   },
   {
    "duration": 15,
    "start_time": "2023-02-10T17:44:48.482Z"
   },
   {
    "duration": 61,
    "start_time": "2023-02-10T17:44:48.499Z"
   },
   {
    "duration": 7,
    "start_time": "2023-02-10T17:44:48.561Z"
   },
   {
    "duration": 126,
    "start_time": "2023-02-10T17:44:48.569Z"
   },
   {
    "duration": 289,
    "start_time": "2023-02-10T17:44:48.697Z"
   },
   {
    "duration": 14,
    "start_time": "2023-02-10T17:44:48.988Z"
   },
   {
    "duration": 98,
    "start_time": "2023-02-10T17:44:49.003Z"
   },
   {
    "duration": 54,
    "start_time": "2023-02-10T17:44:49.103Z"
   },
   {
    "duration": 6,
    "start_time": "2023-02-10T17:44:49.159Z"
   },
   {
    "duration": 31,
    "start_time": "2023-02-10T17:44:49.167Z"
   },
   {
    "duration": 7,
    "start_time": "2023-02-10T17:44:49.200Z"
   },
   {
    "duration": 71,
    "start_time": "2023-02-10T17:44:49.209Z"
   },
   {
    "duration": 158,
    "start_time": "2023-02-10T17:44:49.282Z"
   },
   {
    "duration": 24,
    "start_time": "2023-02-10T17:44:49.442Z"
   },
   {
    "duration": 26,
    "start_time": "2023-02-10T17:44:49.468Z"
   },
   {
    "duration": 389,
    "start_time": "2023-02-10T17:44:49.496Z"
   },
   {
    "duration": 720,
    "start_time": "2023-02-10T17:44:49.886Z"
   },
   {
    "duration": 82,
    "start_time": "2023-02-10T17:44:50.608Z"
   },
   {
    "duration": 50,
    "start_time": "2023-02-10T17:44:50.691Z"
   },
   {
    "duration": 174,
    "start_time": "2023-02-10T17:44:50.753Z"
   },
   {
    "duration": 75,
    "start_time": "2023-02-10T17:44:50.929Z"
   },
   {
    "duration": 6,
    "start_time": "2023-02-10T17:44:51.006Z"
   },
   {
    "duration": 9,
    "start_time": "2023-02-10T17:44:51.014Z"
   },
   {
    "duration": 9,
    "start_time": "2023-02-10T17:44:51.025Z"
   },
   {
    "duration": 19,
    "start_time": "2023-02-10T17:44:51.036Z"
   },
   {
    "duration": 9,
    "start_time": "2023-02-10T17:44:51.057Z"
   },
   {
    "duration": 29,
    "start_time": "2023-02-10T17:44:51.068Z"
   },
   {
    "duration": 89,
    "start_time": "2023-02-10T17:44:51.099Z"
   },
   {
    "duration": 12,
    "start_time": "2023-02-10T17:44:51.190Z"
   },
   {
    "duration": 7,
    "start_time": "2023-02-10T17:44:51.204Z"
   },
   {
    "duration": 18,
    "start_time": "2023-02-10T17:44:51.212Z"
   },
   {
    "duration": 362,
    "start_time": "2023-02-10T17:44:51.231Z"
   },
   {
    "duration": 4,
    "start_time": "2023-02-10T17:44:51.595Z"
   },
   {
    "duration": 16,
    "start_time": "2023-02-10T17:44:51.600Z"
   },
   {
    "duration": 65,
    "start_time": "2023-02-10T17:44:51.618Z"
   },
   {
    "duration": 133,
    "start_time": "2023-02-10T17:44:51.684Z"
   },
   {
    "duration": 43,
    "start_time": "2023-02-10T17:44:51.819Z"
   },
   {
    "duration": 90,
    "start_time": "2023-02-10T17:44:51.864Z"
   },
   {
    "duration": 4,
    "start_time": "2023-02-10T17:44:51.955Z"
   },
   {
    "duration": 10,
    "start_time": "2023-02-10T17:44:51.961Z"
   },
   {
    "duration": 15,
    "start_time": "2023-02-10T17:44:51.973Z"
   },
   {
    "duration": 24,
    "start_time": "2023-02-10T17:44:51.989Z"
   },
   {
    "duration": 17,
    "start_time": "2023-02-10T17:44:52.015Z"
   },
   {
    "duration": 9,
    "start_time": "2023-02-10T17:44:52.034Z"
   },
   {
    "duration": 18,
    "start_time": "2023-02-10T17:44:52.045Z"
   },
   {
    "duration": 11,
    "start_time": "2023-02-10T17:44:52.065Z"
   },
   {
    "duration": 13,
    "start_time": "2023-02-10T17:44:52.078Z"
   },
   {
    "duration": 1417,
    "start_time": "2023-02-10T18:18:38.693Z"
   },
   {
    "duration": 27,
    "start_time": "2023-02-10T18:18:40.111Z"
   },
   {
    "duration": 30,
    "start_time": "2023-02-10T18:18:40.139Z"
   },
   {
    "duration": 138,
    "start_time": "2023-02-10T18:18:40.171Z"
   },
   {
    "duration": 11,
    "start_time": "2023-02-10T18:18:40.311Z"
   },
   {
    "duration": 94,
    "start_time": "2023-02-10T18:18:40.324Z"
   },
   {
    "duration": 22,
    "start_time": "2023-02-10T18:18:40.420Z"
   },
   {
    "duration": 7,
    "start_time": "2023-02-10T18:18:40.453Z"
   },
   {
    "duration": 16,
    "start_time": "2023-02-10T18:18:40.461Z"
   },
   {
    "duration": 12,
    "start_time": "2023-02-10T18:18:40.479Z"
   },
   {
    "duration": 7,
    "start_time": "2023-02-10T18:18:40.492Z"
   },
   {
    "duration": 86,
    "start_time": "2023-02-10T18:18:40.501Z"
   },
   {
    "duration": 148,
    "start_time": "2023-02-10T18:18:40.589Z"
   },
   {
    "duration": 23,
    "start_time": "2023-02-10T18:18:40.738Z"
   },
   {
    "duration": 76,
    "start_time": "2023-02-10T18:18:40.762Z"
   },
   {
    "duration": 53,
    "start_time": "2023-02-10T18:18:40.840Z"
   },
   {
    "duration": 6,
    "start_time": "2023-02-10T18:18:40.894Z"
   },
   {
    "duration": 30,
    "start_time": "2023-02-10T18:18:40.902Z"
   },
   {
    "duration": 24,
    "start_time": "2023-02-10T18:18:40.933Z"
   },
   {
    "duration": 46,
    "start_time": "2023-02-10T18:18:40.958Z"
   },
   {
    "duration": 159,
    "start_time": "2023-02-10T18:18:41.006Z"
   },
   {
    "duration": 17,
    "start_time": "2023-02-10T18:18:41.167Z"
   },
   {
    "duration": 23,
    "start_time": "2023-02-10T18:18:41.186Z"
   },
   {
    "duration": 347,
    "start_time": "2023-02-10T18:18:41.211Z"
   },
   {
    "duration": 654,
    "start_time": "2023-02-10T18:18:41.560Z"
   },
   {
    "duration": 75,
    "start_time": "2023-02-10T18:18:42.216Z"
   },
   {
    "duration": 48,
    "start_time": "2023-02-10T18:18:42.292Z"
   },
   {
    "duration": 166,
    "start_time": "2023-02-10T18:18:42.352Z"
   },
   {
    "duration": 77,
    "start_time": "2023-02-10T18:18:42.520Z"
   },
   {
    "duration": 7,
    "start_time": "2023-02-10T18:18:42.598Z"
   },
   {
    "duration": 5,
    "start_time": "2023-02-10T18:18:42.606Z"
   },
   {
    "duration": 8,
    "start_time": "2023-02-10T18:18:42.613Z"
   },
   {
    "duration": 6,
    "start_time": "2023-02-10T18:18:42.622Z"
   },
   {
    "duration": 25,
    "start_time": "2023-02-10T18:18:42.630Z"
   },
   {
    "duration": 28,
    "start_time": "2023-02-10T18:18:42.656Z"
   },
   {
    "duration": 74,
    "start_time": "2023-02-10T18:18:42.686Z"
   },
   {
    "duration": 11,
    "start_time": "2023-02-10T18:18:42.762Z"
   },
   {
    "duration": 7,
    "start_time": "2023-02-10T18:18:42.774Z"
   },
   {
    "duration": 11,
    "start_time": "2023-02-10T18:18:42.782Z"
   },
   {
    "duration": 352,
    "start_time": "2023-02-10T18:18:42.794Z"
   },
   {
    "duration": 4,
    "start_time": "2023-02-10T18:18:43.147Z"
   },
   {
    "duration": 8,
    "start_time": "2023-02-10T18:18:43.152Z"
   },
   {
    "duration": 95,
    "start_time": "2023-02-10T18:18:43.161Z"
   },
   {
    "duration": 112,
    "start_time": "2023-02-10T18:18:43.257Z"
   },
   {
    "duration": 35,
    "start_time": "2023-02-10T18:18:43.371Z"
   },
   {
    "duration": 105,
    "start_time": "2023-02-10T18:18:43.408Z"
   },
   {
    "duration": 5,
    "start_time": "2023-02-10T18:18:43.515Z"
   },
   {
    "duration": 6,
    "start_time": "2023-02-10T18:18:43.521Z"
   },
   {
    "duration": 26,
    "start_time": "2023-02-10T18:18:43.529Z"
   },
   {
    "duration": 10,
    "start_time": "2023-02-10T18:18:43.557Z"
   },
   {
    "duration": 8,
    "start_time": "2023-02-10T18:18:43.569Z"
   },
   {
    "duration": 17,
    "start_time": "2023-02-10T18:18:43.578Z"
   },
   {
    "duration": 13,
    "start_time": "2023-02-10T18:18:43.596Z"
   },
   {
    "duration": 13,
    "start_time": "2023-02-10T18:18:43.610Z"
   },
   {
    "duration": 11,
    "start_time": "2023-02-10T18:18:43.624Z"
   },
   {
    "duration": 4,
    "start_time": "2023-02-10T18:21:41.174Z"
   },
   {
    "duration": 147,
    "start_time": "2023-02-10T18:22:00.232Z"
   },
   {
    "duration": 1411,
    "start_time": "2023-02-10T18:22:07.162Z"
   },
   {
    "duration": 29,
    "start_time": "2023-02-10T18:22:08.575Z"
   },
   {
    "duration": 22,
    "start_time": "2023-02-10T18:22:08.606Z"
   },
   {
    "duration": 146,
    "start_time": "2023-02-10T18:22:08.630Z"
   },
   {
    "duration": 10,
    "start_time": "2023-02-10T18:22:08.777Z"
   },
   {
    "duration": 95,
    "start_time": "2023-02-10T18:22:08.789Z"
   },
   {
    "duration": 22,
    "start_time": "2023-02-10T18:22:08.885Z"
   },
   {
    "duration": 5,
    "start_time": "2023-02-10T18:22:08.909Z"
   },
   {
    "duration": 15,
    "start_time": "2023-02-10T18:22:08.916Z"
   },
   {
    "duration": 8,
    "start_time": "2023-02-10T18:22:08.954Z"
   },
   {
    "duration": 6,
    "start_time": "2023-02-10T18:22:08.964Z"
   },
   {
    "duration": 89,
    "start_time": "2023-02-10T18:22:08.972Z"
   },
   {
    "duration": 152,
    "start_time": "2023-02-10T18:22:09.063Z"
   },
   {
    "duration": 13,
    "start_time": "2023-02-10T18:22:09.217Z"
   },
   {
    "duration": 81,
    "start_time": "2023-02-10T18:22:09.232Z"
   },
   {
    "duration": 56,
    "start_time": "2023-02-10T18:22:09.315Z"
   },
   {
    "duration": 6,
    "start_time": "2023-02-10T18:22:09.373Z"
   },
   {
    "duration": 30,
    "start_time": "2023-02-10T18:22:09.381Z"
   },
   {
    "duration": 10,
    "start_time": "2023-02-10T18:22:09.412Z"
   },
   {
    "duration": 70,
    "start_time": "2023-02-10T18:22:09.423Z"
   },
   {
    "duration": 178,
    "start_time": "2023-02-10T18:22:09.495Z"
   },
   {
    "duration": 18,
    "start_time": "2023-02-10T18:22:09.674Z"
   },
   {
    "duration": 21,
    "start_time": "2023-02-10T18:22:09.693Z"
   },
   {
    "duration": 344,
    "start_time": "2023-02-10T18:22:09.716Z"
   },
   {
    "duration": 687,
    "start_time": "2023-02-10T18:22:10.062Z"
   },
   {
    "duration": 66,
    "start_time": "2023-02-10T18:22:10.752Z"
   },
   {
    "duration": 56,
    "start_time": "2023-02-10T18:22:10.820Z"
   },
   {
    "duration": 155,
    "start_time": "2023-02-10T18:22:10.879Z"
   },
   {
    "duration": 77,
    "start_time": "2023-02-10T18:22:11.035Z"
   },
   {
    "duration": 7,
    "start_time": "2023-02-10T18:22:11.113Z"
   },
   {
    "duration": 7,
    "start_time": "2023-02-10T18:22:11.122Z"
   },
   {
    "duration": 22,
    "start_time": "2023-02-10T18:22:11.131Z"
   },
   {
    "duration": 7,
    "start_time": "2023-02-10T18:22:11.155Z"
   },
   {
    "duration": 9,
    "start_time": "2023-02-10T18:22:11.163Z"
   },
   {
    "duration": 25,
    "start_time": "2023-02-10T18:22:11.174Z"
   },
   {
    "duration": 89,
    "start_time": "2023-02-10T18:22:11.201Z"
   },
   {
    "duration": 11,
    "start_time": "2023-02-10T18:22:11.292Z"
   },
   {
    "duration": 10,
    "start_time": "2023-02-10T18:22:11.304Z"
   },
   {
    "duration": 14,
    "start_time": "2023-02-10T18:22:11.315Z"
   },
   {
    "duration": 376,
    "start_time": "2023-02-10T18:22:11.330Z"
   },
   {
    "duration": 3,
    "start_time": "2023-02-10T18:22:11.708Z"
   },
   {
    "duration": 7,
    "start_time": "2023-02-10T18:22:11.712Z"
   },
   {
    "duration": 55,
    "start_time": "2023-02-10T18:22:11.721Z"
   },
   {
    "duration": 136,
    "start_time": "2023-02-10T18:22:11.777Z"
   },
   {
    "duration": 45,
    "start_time": "2023-02-10T18:22:11.915Z"
   },
   {
    "duration": 79,
    "start_time": "2023-02-10T18:22:11.962Z"
   },
   {
    "duration": 5,
    "start_time": "2023-02-10T18:22:12.052Z"
   },
   {
    "duration": 7,
    "start_time": "2023-02-10T18:22:12.058Z"
   },
   {
    "duration": 13,
    "start_time": "2023-02-10T18:22:12.066Z"
   },
   {
    "duration": 10,
    "start_time": "2023-02-10T18:22:12.080Z"
   },
   {
    "duration": 9,
    "start_time": "2023-02-10T18:22:12.091Z"
   },
   {
    "duration": 7,
    "start_time": "2023-02-10T18:22:12.101Z"
   },
   {
    "duration": 12,
    "start_time": "2023-02-10T18:22:12.109Z"
   },
   {
    "duration": 4,
    "start_time": "2023-02-10T18:22:12.153Z"
   },
   {
    "duration": 9,
    "start_time": "2023-02-10T18:22:12.159Z"
   },
   {
    "duration": 73,
    "start_time": "2023-02-10T18:29:15.750Z"
   },
   {
    "duration": 67,
    "start_time": "2023-02-10T18:29:24.509Z"
   },
   {
    "duration": 68,
    "start_time": "2023-02-10T18:29:33.792Z"
   },
   {
    "duration": 11,
    "start_time": "2023-02-10T18:30:28.718Z"
   },
   {
    "duration": 162,
    "start_time": "2023-02-10T19:07:49.294Z"
   },
   {
    "duration": 1307,
    "start_time": "2023-02-10T19:08:02.895Z"
   },
   {
    "duration": 31,
    "start_time": "2023-02-10T19:08:04.204Z"
   },
   {
    "duration": 32,
    "start_time": "2023-02-10T19:08:04.236Z"
   },
   {
    "duration": 151,
    "start_time": "2023-02-10T19:08:04.270Z"
   },
   {
    "duration": 12,
    "start_time": "2023-02-10T19:08:04.423Z"
   },
   {
    "duration": 96,
    "start_time": "2023-02-10T19:08:04.436Z"
   },
   {
    "duration": 37,
    "start_time": "2023-02-10T19:08:04.533Z"
   },
   {
    "duration": 7,
    "start_time": "2023-02-10T19:08:04.572Z"
   },
   {
    "duration": 16,
    "start_time": "2023-02-10T19:08:04.581Z"
   },
   {
    "duration": 8,
    "start_time": "2023-02-10T19:08:04.600Z"
   },
   {
    "duration": 44,
    "start_time": "2023-02-10T19:08:04.610Z"
   },
   {
    "duration": 64,
    "start_time": "2023-02-10T19:08:04.656Z"
   },
   {
    "duration": 155,
    "start_time": "2023-02-10T19:08:04.722Z"
   },
   {
    "duration": 14,
    "start_time": "2023-02-10T19:08:04.879Z"
   },
   {
    "duration": 86,
    "start_time": "2023-02-10T19:08:04.894Z"
   },
   {
    "duration": 46,
    "start_time": "2023-02-10T19:08:04.981Z"
   },
   {
    "duration": 29,
    "start_time": "2023-02-10T19:08:05.029Z"
   },
   {
    "duration": 36,
    "start_time": "2023-02-10T19:08:05.060Z"
   },
   {
    "duration": 7,
    "start_time": "2023-02-10T19:08:05.098Z"
   },
   {
    "duration": 69,
    "start_time": "2023-02-10T19:08:05.106Z"
   },
   {
    "duration": 168,
    "start_time": "2023-02-10T19:08:05.177Z"
   },
   {
    "duration": 24,
    "start_time": "2023-02-10T19:08:05.346Z"
   },
   {
    "duration": 27,
    "start_time": "2023-02-10T19:08:05.372Z"
   },
   {
    "duration": 367,
    "start_time": "2023-02-10T19:08:05.401Z"
   },
   {
    "duration": 704,
    "start_time": "2023-02-10T19:08:05.770Z"
   },
   {
    "duration": 81,
    "start_time": "2023-02-10T19:08:06.475Z"
   },
   {
    "duration": 45,
    "start_time": "2023-02-10T19:08:06.557Z"
   },
   {
    "duration": 159,
    "start_time": "2023-02-10T19:08:06.605Z"
   },
   {
    "duration": 69,
    "start_time": "2023-02-10T19:08:06.765Z"
   },
   {
    "duration": 18,
    "start_time": "2023-02-10T19:08:06.836Z"
   },
   {
    "duration": 10,
    "start_time": "2023-02-10T19:08:06.855Z"
   },
   {
    "duration": 10,
    "start_time": "2023-02-10T19:08:06.866Z"
   },
   {
    "duration": 6,
    "start_time": "2023-02-10T19:08:06.878Z"
   },
   {
    "duration": 8,
    "start_time": "2023-02-10T19:08:06.885Z"
   },
   {
    "duration": 24,
    "start_time": "2023-02-10T19:08:06.894Z"
   },
   {
    "duration": 86,
    "start_time": "2023-02-10T19:08:06.920Z"
   },
   {
    "duration": 11,
    "start_time": "2023-02-10T19:08:07.007Z"
   },
   {
    "duration": 7,
    "start_time": "2023-02-10T19:08:07.020Z"
   },
   {
    "duration": 27,
    "start_time": "2023-02-10T19:08:07.028Z"
   },
   {
    "duration": 328,
    "start_time": "2023-02-10T19:08:07.056Z"
   },
   {
    "duration": 3,
    "start_time": "2023-02-10T19:08:07.385Z"
   },
   {
    "duration": 10,
    "start_time": "2023-02-10T19:08:07.390Z"
   },
   {
    "duration": 81,
    "start_time": "2023-02-10T19:08:07.401Z"
   },
   {
    "duration": 119,
    "start_time": "2023-02-10T19:08:07.485Z"
   },
   {
    "duration": 34,
    "start_time": "2023-02-10T19:08:07.606Z"
   },
   {
    "duration": 92,
    "start_time": "2023-02-10T19:08:07.641Z"
   },
   {
    "duration": 18,
    "start_time": "2023-02-10T19:08:07.735Z"
   },
   {
    "duration": 6,
    "start_time": "2023-02-10T19:08:07.755Z"
   },
   {
    "duration": 28,
    "start_time": "2023-02-10T19:08:07.762Z"
   },
   {
    "duration": 19,
    "start_time": "2023-02-10T19:08:07.792Z"
   },
   {
    "duration": 14,
    "start_time": "2023-02-10T19:08:07.813Z"
   },
   {
    "duration": 13,
    "start_time": "2023-02-10T19:08:07.828Z"
   },
   {
    "duration": 19,
    "start_time": "2023-02-10T19:08:07.843Z"
   },
   {
    "duration": 21,
    "start_time": "2023-02-10T19:08:07.864Z"
   },
   {
    "duration": 17,
    "start_time": "2023-02-10T19:08:07.887Z"
   },
   {
    "duration": 4,
    "start_time": "2023-02-10T19:22:54.041Z"
   },
   {
    "duration": 3,
    "start_time": "2023-02-10T19:22:59.362Z"
   },
   {
    "duration": 4,
    "start_time": "2023-02-10T19:23:17.612Z"
   },
   {
    "duration": 4,
    "start_time": "2023-02-10T19:23:21.324Z"
   },
   {
    "duration": 4,
    "start_time": "2023-02-10T19:23:26.558Z"
   },
   {
    "duration": 3,
    "start_time": "2023-02-10T19:23:29.998Z"
   },
   {
    "duration": 4,
    "start_time": "2023-02-10T19:24:55.599Z"
   },
   {
    "duration": 91,
    "start_time": "2023-02-10T19:29:12.266Z"
   },
   {
    "duration": 85,
    "start_time": "2023-02-10T19:29:49.319Z"
   },
   {
    "duration": 35,
    "start_time": "2023-02-10T19:30:31.683Z"
   },
   {
    "duration": 6,
    "start_time": "2023-02-10T19:33:23.278Z"
   },
   {
    "duration": 142,
    "start_time": "2023-02-10T20:10:45.786Z"
   },
   {
    "duration": 1383,
    "start_time": "2023-02-10T20:10:52.520Z"
   },
   {
    "duration": 26,
    "start_time": "2023-02-10T20:10:53.905Z"
   },
   {
    "duration": 28,
    "start_time": "2023-02-10T20:10:53.933Z"
   },
   {
    "duration": 142,
    "start_time": "2023-02-10T20:10:53.963Z"
   },
   {
    "duration": 10,
    "start_time": "2023-02-10T20:10:54.106Z"
   },
   {
    "duration": 96,
    "start_time": "2023-02-10T20:10:54.117Z"
   },
   {
    "duration": 22,
    "start_time": "2023-02-10T20:10:54.214Z"
   },
   {
    "duration": 7,
    "start_time": "2023-02-10T20:10:54.254Z"
   },
   {
    "duration": 15,
    "start_time": "2023-02-10T20:10:54.263Z"
   },
   {
    "duration": 7,
    "start_time": "2023-02-10T20:10:54.281Z"
   },
   {
    "duration": 7,
    "start_time": "2023-02-10T20:10:54.289Z"
   },
   {
    "duration": 107,
    "start_time": "2023-02-10T20:10:54.298Z"
   },
   {
    "duration": 159,
    "start_time": "2023-02-10T20:10:54.406Z"
   },
   {
    "duration": 15,
    "start_time": "2023-02-10T20:10:54.567Z"
   },
   {
    "duration": 85,
    "start_time": "2023-02-10T20:10:54.584Z"
   },
   {
    "duration": 43,
    "start_time": "2023-02-10T20:10:54.670Z"
   },
   {
    "duration": 7,
    "start_time": "2023-02-10T20:10:54.714Z"
   },
   {
    "duration": 53,
    "start_time": "2023-02-10T20:10:54.723Z"
   },
   {
    "duration": 10,
    "start_time": "2023-02-10T20:10:54.778Z"
   },
   {
    "duration": 65,
    "start_time": "2023-02-10T20:10:54.790Z"
   },
   {
    "duration": 148,
    "start_time": "2023-02-10T20:10:54.857Z"
   },
   {
    "duration": 20,
    "start_time": "2023-02-10T20:10:55.006Z"
   },
   {
    "duration": 35,
    "start_time": "2023-02-10T20:10:55.028Z"
   },
   {
    "duration": 231,
    "start_time": "2023-02-10T20:10:55.064Z"
   },
   {
    "duration": 699,
    "start_time": "2023-02-10T20:10:55.297Z"
   },
   {
    "duration": 78,
    "start_time": "2023-02-10T20:10:55.998Z"
   },
   {
    "duration": 48,
    "start_time": "2023-02-10T20:10:56.078Z"
   },
   {
    "duration": 93,
    "start_time": "2023-02-10T20:10:56.129Z"
   },
   {
    "duration": 173,
    "start_time": "2023-02-10T20:10:56.224Z"
   },
   {
    "duration": 7,
    "start_time": "2023-02-10T20:10:56.399Z"
   },
   {
    "duration": 10,
    "start_time": "2023-02-10T20:10:56.407Z"
   },
   {
    "duration": 13,
    "start_time": "2023-02-10T20:10:56.418Z"
   },
   {
    "duration": 8,
    "start_time": "2023-02-10T20:10:56.433Z"
   },
   {
    "duration": 9,
    "start_time": "2023-02-10T20:10:56.453Z"
   },
   {
    "duration": 28,
    "start_time": "2023-02-10T20:10:56.463Z"
   },
   {
    "duration": 97,
    "start_time": "2023-02-10T20:10:56.493Z"
   },
   {
    "duration": 14,
    "start_time": "2023-02-10T20:10:56.592Z"
   },
   {
    "duration": 7,
    "start_time": "2023-02-10T20:10:56.608Z"
   },
   {
    "duration": 12,
    "start_time": "2023-02-10T20:10:56.617Z"
   },
   {
    "duration": 350,
    "start_time": "2023-02-10T20:10:56.654Z"
   },
   {
    "duration": 5,
    "start_time": "2023-02-10T20:10:57.005Z"
   },
   {
    "duration": 92,
    "start_time": "2023-02-10T20:10:57.011Z"
   },
   {
    "duration": 115,
    "start_time": "2023-02-10T20:10:57.105Z"
   },
   {
    "duration": 47,
    "start_time": "2023-02-10T20:10:57.222Z"
   },
   {
    "duration": 32,
    "start_time": "2023-02-10T20:10:57.271Z"
   },
   {
    "duration": 23,
    "start_time": "2023-02-10T20:10:57.305Z"
   },
   {
    "duration": 48,
    "start_time": "2023-02-10T20:10:57.329Z"
   },
   {
    "duration": 47,
    "start_time": "2023-02-10T20:10:57.378Z"
   },
   {
    "duration": 41,
    "start_time": "2023-02-10T20:10:57.427Z"
   },
   {
    "duration": 25,
    "start_time": "2023-02-10T20:10:57.470Z"
   },
   {
    "duration": 86,
    "start_time": "2023-02-10T20:10:57.497Z"
   },
   {
    "duration": 159,
    "start_time": "2023-02-10T20:10:57.585Z"
   },
   {
    "duration": 152,
    "start_time": "2023-02-10T20:12:30.207Z"
   },
   {
    "duration": 1455,
    "start_time": "2023-02-10T20:12:35.264Z"
   },
   {
    "duration": 33,
    "start_time": "2023-02-10T20:12:36.722Z"
   },
   {
    "duration": 25,
    "start_time": "2023-02-10T20:12:36.757Z"
   },
   {
    "duration": 155,
    "start_time": "2023-02-10T20:12:36.784Z"
   },
   {
    "duration": 21,
    "start_time": "2023-02-10T20:12:36.941Z"
   },
   {
    "duration": 100,
    "start_time": "2023-02-10T20:12:36.964Z"
   },
   {
    "duration": 29,
    "start_time": "2023-02-10T20:12:37.066Z"
   },
   {
    "duration": 8,
    "start_time": "2023-02-10T20:12:37.097Z"
   },
   {
    "duration": 21,
    "start_time": "2023-02-10T20:12:37.107Z"
   },
   {
    "duration": 8,
    "start_time": "2023-02-10T20:12:37.153Z"
   },
   {
    "duration": 23,
    "start_time": "2023-02-10T20:12:37.163Z"
   },
   {
    "duration": 80,
    "start_time": "2023-02-10T20:12:37.188Z"
   },
   {
    "duration": 160,
    "start_time": "2023-02-10T20:12:37.269Z"
   },
   {
    "duration": 23,
    "start_time": "2023-02-10T20:12:37.431Z"
   },
   {
    "duration": 106,
    "start_time": "2023-02-10T20:12:37.456Z"
   },
   {
    "duration": 56,
    "start_time": "2023-02-10T20:12:37.564Z"
   },
   {
    "duration": 10,
    "start_time": "2023-02-10T20:12:37.622Z"
   },
   {
    "duration": 34,
    "start_time": "2023-02-10T20:12:37.654Z"
   },
   {
    "duration": 7,
    "start_time": "2023-02-10T20:12:37.690Z"
   },
   {
    "duration": 69,
    "start_time": "2023-02-10T20:12:37.698Z"
   },
   {
    "duration": 154,
    "start_time": "2023-02-10T20:12:37.769Z"
   },
   {
    "duration": 28,
    "start_time": "2023-02-10T20:12:37.925Z"
   },
   {
    "duration": 18,
    "start_time": "2023-02-10T20:12:37.955Z"
   },
   {
    "duration": 236,
    "start_time": "2023-02-10T20:12:37.975Z"
   },
   {
    "duration": 615,
    "start_time": "2023-02-10T20:12:38.213Z"
   },
   {
    "duration": 73,
    "start_time": "2023-02-10T20:12:38.830Z"
   },
   {
    "duration": 57,
    "start_time": "2023-02-10T20:12:38.904Z"
   },
   {
    "duration": 77,
    "start_time": "2023-02-10T20:12:38.964Z"
   },
   {
    "duration": 176,
    "start_time": "2023-02-10T20:12:39.042Z"
   },
   {
    "duration": 6,
    "start_time": "2023-02-10T20:12:39.221Z"
   },
   {
    "duration": 19,
    "start_time": "2023-02-10T20:12:39.229Z"
   },
   {
    "duration": 26,
    "start_time": "2023-02-10T20:12:39.250Z"
   },
   {
    "duration": 13,
    "start_time": "2023-02-10T20:12:39.278Z"
   },
   {
    "duration": 9,
    "start_time": "2023-02-10T20:12:39.293Z"
   },
   {
    "duration": 31,
    "start_time": "2023-02-10T20:12:39.304Z"
   },
   {
    "duration": 82,
    "start_time": "2023-02-10T20:12:39.336Z"
   },
   {
    "duration": 12,
    "start_time": "2023-02-10T20:12:39.420Z"
   },
   {
    "duration": 25,
    "start_time": "2023-02-10T20:12:39.434Z"
   },
   {
    "duration": 14,
    "start_time": "2023-02-10T20:12:39.460Z"
   },
   {
    "duration": 368,
    "start_time": "2023-02-10T20:12:39.475Z"
   },
   {
    "duration": 4,
    "start_time": "2023-02-10T20:12:39.845Z"
   },
   {
    "duration": 49,
    "start_time": "2023-02-10T20:12:39.851Z"
   },
   {
    "duration": 100,
    "start_time": "2023-02-10T20:12:39.954Z"
   },
   {
    "duration": 36,
    "start_time": "2023-02-10T20:12:40.056Z"
   },
   {
    "duration": 5,
    "start_time": "2023-02-10T20:12:40.093Z"
   },
   {
    "duration": 6,
    "start_time": "2023-02-10T20:12:40.099Z"
   },
   {
    "duration": 15,
    "start_time": "2023-02-10T20:12:40.106Z"
   },
   {
    "duration": 34,
    "start_time": "2023-02-10T20:12:40.123Z"
   },
   {
    "duration": 16,
    "start_time": "2023-02-10T20:12:40.159Z"
   },
   {
    "duration": 7,
    "start_time": "2023-02-10T20:12:40.176Z"
   },
   {
    "duration": 17,
    "start_time": "2023-02-10T20:12:40.185Z"
   },
   {
    "duration": 24,
    "start_time": "2023-02-10T20:12:40.205Z"
   },
   {
    "duration": 152,
    "start_time": "2023-02-10T20:13:09.025Z"
   },
   {
    "duration": 1323,
    "start_time": "2023-02-10T20:13:13.678Z"
   },
   {
    "duration": 32,
    "start_time": "2023-02-10T20:13:15.003Z"
   },
   {
    "duration": 38,
    "start_time": "2023-02-10T20:13:15.036Z"
   },
   {
    "duration": 151,
    "start_time": "2023-02-10T20:13:15.076Z"
   },
   {
    "duration": 11,
    "start_time": "2023-02-10T20:13:15.229Z"
   },
   {
    "duration": 103,
    "start_time": "2023-02-10T20:13:15.254Z"
   },
   {
    "duration": 24,
    "start_time": "2023-02-10T20:13:15.359Z"
   },
   {
    "duration": 8,
    "start_time": "2023-02-10T20:13:15.385Z"
   },
   {
    "duration": 18,
    "start_time": "2023-02-10T20:13:15.394Z"
   },
   {
    "duration": 8,
    "start_time": "2023-02-10T20:13:15.414Z"
   },
   {
    "duration": 8,
    "start_time": "2023-02-10T20:13:15.454Z"
   },
   {
    "duration": 73,
    "start_time": "2023-02-10T20:13:15.464Z"
   },
   {
    "duration": 164,
    "start_time": "2023-02-10T20:13:15.554Z"
   },
   {
    "duration": 17,
    "start_time": "2023-02-10T20:13:15.722Z"
   },
   {
    "duration": 82,
    "start_time": "2023-02-10T20:13:15.753Z"
   },
   {
    "duration": 62,
    "start_time": "2023-02-10T20:13:15.837Z"
   },
   {
    "duration": 8,
    "start_time": "2023-02-10T20:13:15.901Z"
   },
   {
    "duration": 56,
    "start_time": "2023-02-10T20:13:15.911Z"
   },
   {
    "duration": 7,
    "start_time": "2023-02-10T20:13:15.969Z"
   },
   {
    "duration": 52,
    "start_time": "2023-02-10T20:13:15.978Z"
   },
   {
    "duration": 170,
    "start_time": "2023-02-10T20:13:16.031Z"
   },
   {
    "duration": 20,
    "start_time": "2023-02-10T20:13:16.203Z"
   },
   {
    "duration": 33,
    "start_time": "2023-02-10T20:13:16.225Z"
   },
   {
    "duration": 249,
    "start_time": "2023-02-10T20:13:16.259Z"
   },
   {
    "duration": 643,
    "start_time": "2023-02-10T20:13:16.510Z"
   },
   {
    "duration": 69,
    "start_time": "2023-02-10T20:13:17.155Z"
   },
   {
    "duration": 61,
    "start_time": "2023-02-10T20:13:17.226Z"
   },
   {
    "duration": 192,
    "start_time": "2023-02-10T20:13:17.288Z"
   },
   {
    "duration": 118,
    "start_time": "2023-02-10T20:13:17.482Z"
   },
   {
    "duration": 7,
    "start_time": "2023-02-10T20:13:17.602Z"
   },
   {
    "duration": 18,
    "start_time": "2023-02-10T20:13:17.610Z"
   },
   {
    "duration": 20,
    "start_time": "2023-02-10T20:13:17.630Z"
   },
   {
    "duration": 17,
    "start_time": "2023-02-10T20:13:17.652Z"
   },
   {
    "duration": 21,
    "start_time": "2023-02-10T20:13:17.671Z"
   },
   {
    "duration": 42,
    "start_time": "2023-02-10T20:13:17.693Z"
   },
   {
    "duration": 84,
    "start_time": "2023-02-10T20:13:17.737Z"
   },
   {
    "duration": 13,
    "start_time": "2023-02-10T20:13:17.823Z"
   },
   {
    "duration": 19,
    "start_time": "2023-02-10T20:13:17.837Z"
   },
   {
    "duration": 12,
    "start_time": "2023-02-10T20:13:17.857Z"
   },
   {
    "duration": 359,
    "start_time": "2023-02-10T20:13:17.870Z"
   },
   {
    "duration": 3,
    "start_time": "2023-02-10T20:13:18.233Z"
   },
   {
    "duration": 47,
    "start_time": "2023-02-10T20:13:18.238Z"
   },
   {
    "duration": 135,
    "start_time": "2023-02-10T20:13:18.287Z"
   },
   {
    "duration": 52,
    "start_time": "2023-02-10T20:13:18.424Z"
   },
   {
    "duration": 6,
    "start_time": "2023-02-10T20:13:18.478Z"
   },
   {
    "duration": 8,
    "start_time": "2023-02-10T20:13:18.485Z"
   },
   {
    "duration": 19,
    "start_time": "2023-02-10T20:13:18.494Z"
   },
   {
    "duration": 9,
    "start_time": "2023-02-10T20:13:18.515Z"
   },
   {
    "duration": 27,
    "start_time": "2023-02-10T20:13:18.526Z"
   },
   {
    "duration": 6,
    "start_time": "2023-02-10T20:13:18.555Z"
   },
   {
    "duration": 20,
    "start_time": "2023-02-10T20:13:18.563Z"
   },
   {
    "duration": 13,
    "start_time": "2023-02-10T20:13:18.585Z"
   },
   {
    "duration": 143,
    "start_time": "2023-02-10T20:13:36.628Z"
   },
   {
    "duration": 1435,
    "start_time": "2023-02-10T20:13:41.436Z"
   },
   {
    "duration": 29,
    "start_time": "2023-02-10T20:13:42.873Z"
   },
   {
    "duration": 21,
    "start_time": "2023-02-10T20:13:42.904Z"
   },
   {
    "duration": 162,
    "start_time": "2023-02-10T20:13:42.927Z"
   },
   {
    "duration": 11,
    "start_time": "2023-02-10T20:13:43.091Z"
   },
   {
    "duration": 98,
    "start_time": "2023-02-10T20:13:43.104Z"
   },
   {
    "duration": 25,
    "start_time": "2023-02-10T20:13:43.204Z"
   },
   {
    "duration": 24,
    "start_time": "2023-02-10T20:13:43.230Z"
   },
   {
    "duration": 16,
    "start_time": "2023-02-10T20:13:43.256Z"
   },
   {
    "duration": 7,
    "start_time": "2023-02-10T20:13:43.274Z"
   },
   {
    "duration": 6,
    "start_time": "2023-02-10T20:13:43.282Z"
   },
   {
    "duration": 101,
    "start_time": "2023-02-10T20:13:43.290Z"
   },
   {
    "duration": 166,
    "start_time": "2023-02-10T20:13:43.392Z"
   },
   {
    "duration": 16,
    "start_time": "2023-02-10T20:13:43.559Z"
   },
   {
    "duration": 92,
    "start_time": "2023-02-10T20:13:43.576Z"
   },
   {
    "duration": 44,
    "start_time": "2023-02-10T20:13:43.670Z"
   },
   {
    "duration": 6,
    "start_time": "2023-02-10T20:13:43.716Z"
   },
   {
    "duration": 53,
    "start_time": "2023-02-10T20:13:43.723Z"
   },
   {
    "duration": 7,
    "start_time": "2023-02-10T20:13:43.778Z"
   },
   {
    "duration": 52,
    "start_time": "2023-02-10T20:13:43.787Z"
   },
   {
    "duration": 169,
    "start_time": "2023-02-10T20:13:43.841Z"
   },
   {
    "duration": 19,
    "start_time": "2023-02-10T20:13:44.012Z"
   },
   {
    "duration": 30,
    "start_time": "2023-02-10T20:13:44.033Z"
   },
   {
    "duration": 233,
    "start_time": "2023-02-10T20:13:44.065Z"
   },
   {
    "duration": 653,
    "start_time": "2023-02-10T20:13:44.300Z"
   },
   {
    "duration": 70,
    "start_time": "2023-02-10T20:13:44.956Z"
   },
   {
    "duration": 66,
    "start_time": "2023-02-10T20:13:45.028Z"
   },
   {
    "duration": 85,
    "start_time": "2023-02-10T20:13:45.099Z"
   },
   {
    "duration": 172,
    "start_time": "2023-02-10T20:13:45.186Z"
   },
   {
    "duration": 7,
    "start_time": "2023-02-10T20:13:45.361Z"
   },
   {
    "duration": 5,
    "start_time": "2023-02-10T20:13:45.370Z"
   },
   {
    "duration": 21,
    "start_time": "2023-02-10T20:13:45.377Z"
   },
   {
    "duration": 10,
    "start_time": "2023-02-10T20:13:45.400Z"
   },
   {
    "duration": 14,
    "start_time": "2023-02-10T20:13:45.413Z"
   },
   {
    "duration": 50,
    "start_time": "2023-02-10T20:13:45.454Z"
   },
   {
    "duration": 117,
    "start_time": "2023-02-10T20:13:45.506Z"
   },
   {
    "duration": 14,
    "start_time": "2023-02-10T20:13:45.625Z"
   },
   {
    "duration": 7,
    "start_time": "2023-02-10T20:13:45.653Z"
   },
   {
    "duration": 12,
    "start_time": "2023-02-10T20:13:45.661Z"
   },
   {
    "duration": 352,
    "start_time": "2023-02-10T20:13:45.675Z"
   },
   {
    "duration": 4,
    "start_time": "2023-02-10T20:13:46.029Z"
   },
   {
    "duration": 62,
    "start_time": "2023-02-10T20:13:46.034Z"
   },
   {
    "duration": 162,
    "start_time": "2023-02-10T20:13:46.098Z"
   },
   {
    "duration": 39,
    "start_time": "2023-02-10T20:13:46.261Z"
   },
   {
    "duration": 5,
    "start_time": "2023-02-10T20:13:46.301Z"
   },
   {
    "duration": 6,
    "start_time": "2023-02-10T20:13:46.308Z"
   },
   {
    "duration": 40,
    "start_time": "2023-02-10T20:13:46.316Z"
   },
   {
    "duration": 15,
    "start_time": "2023-02-10T20:13:46.359Z"
   },
   {
    "duration": 12,
    "start_time": "2023-02-10T20:13:46.376Z"
   },
   {
    "duration": 9,
    "start_time": "2023-02-10T20:13:46.390Z"
   },
   {
    "duration": 11,
    "start_time": "2023-02-10T20:13:46.401Z"
   },
   {
    "duration": 42,
    "start_time": "2023-02-10T20:13:46.413Z"
   },
   {
    "duration": 72,
    "start_time": "2023-02-10T20:14:37.466Z"
   },
   {
    "duration": 147,
    "start_time": "2023-02-10T20:14:38.178Z"
   },
   {
    "duration": 1388,
    "start_time": "2023-02-10T20:14:44.697Z"
   },
   {
    "duration": 28,
    "start_time": "2023-02-10T20:14:46.087Z"
   },
   {
    "duration": 38,
    "start_time": "2023-02-10T20:14:46.117Z"
   },
   {
    "duration": 141,
    "start_time": "2023-02-10T20:14:46.157Z"
   },
   {
    "duration": 11,
    "start_time": "2023-02-10T20:14:46.300Z"
   },
   {
    "duration": 105,
    "start_time": "2023-02-10T20:14:46.313Z"
   },
   {
    "duration": 35,
    "start_time": "2023-02-10T20:14:46.419Z"
   },
   {
    "duration": 8,
    "start_time": "2023-02-10T20:14:46.456Z"
   },
   {
    "duration": 16,
    "start_time": "2023-02-10T20:14:46.466Z"
   },
   {
    "duration": 7,
    "start_time": "2023-02-10T20:14:46.485Z"
   },
   {
    "duration": 7,
    "start_time": "2023-02-10T20:14:46.494Z"
   },
   {
    "duration": 94,
    "start_time": "2023-02-10T20:14:46.502Z"
   },
   {
    "duration": 161,
    "start_time": "2023-02-10T20:14:46.598Z"
   },
   {
    "duration": 14,
    "start_time": "2023-02-10T20:14:46.761Z"
   },
   {
    "duration": 89,
    "start_time": "2023-02-10T20:14:46.776Z"
   },
   {
    "duration": 45,
    "start_time": "2023-02-10T20:14:46.867Z"
   },
   {
    "duration": 8,
    "start_time": "2023-02-10T20:14:46.914Z"
   },
   {
    "duration": 47,
    "start_time": "2023-02-10T20:14:46.923Z"
   },
   {
    "duration": 7,
    "start_time": "2023-02-10T20:14:46.972Z"
   },
   {
    "duration": 50,
    "start_time": "2023-02-10T20:14:46.981Z"
   },
   {
    "duration": 145,
    "start_time": "2023-02-10T20:14:47.053Z"
   },
   {
    "duration": 18,
    "start_time": "2023-02-10T20:14:47.199Z"
   },
   {
    "duration": 40,
    "start_time": "2023-02-10T20:14:47.218Z"
   },
   {
    "duration": 252,
    "start_time": "2023-02-10T20:14:47.260Z"
   },
   {
    "duration": 708,
    "start_time": "2023-02-10T20:14:47.515Z"
   },
   {
    "duration": 75,
    "start_time": "2023-02-10T20:14:48.224Z"
   },
   {
    "duration": 60,
    "start_time": "2023-02-10T20:14:48.300Z"
   },
   {
    "duration": 118,
    "start_time": "2023-02-10T20:14:48.364Z"
   },
   {
    "duration": 171,
    "start_time": "2023-02-10T20:14:48.484Z"
   },
   {
    "duration": 7,
    "start_time": "2023-02-10T20:14:48.656Z"
   },
   {
    "duration": 9,
    "start_time": "2023-02-10T20:14:48.664Z"
   },
   {
    "duration": 10,
    "start_time": "2023-02-10T20:14:48.674Z"
   },
   {
    "duration": 6,
    "start_time": "2023-02-10T20:14:48.686Z"
   },
   {
    "duration": 10,
    "start_time": "2023-02-10T20:14:48.694Z"
   },
   {
    "duration": 49,
    "start_time": "2023-02-10T20:14:48.705Z"
   },
   {
    "duration": 77,
    "start_time": "2023-02-10T20:14:48.756Z"
   },
   {
    "duration": 26,
    "start_time": "2023-02-10T20:14:48.835Z"
   },
   {
    "duration": 8,
    "start_time": "2023-02-10T20:14:48.863Z"
   },
   {
    "duration": 19,
    "start_time": "2023-02-10T20:14:48.872Z"
   },
   {
    "duration": 430,
    "start_time": "2023-02-10T20:14:48.892Z"
   },
   {
    "duration": 5,
    "start_time": "2023-02-10T20:14:49.325Z"
   },
   {
    "duration": 64,
    "start_time": "2023-02-10T20:14:49.332Z"
   },
   {
    "duration": 162,
    "start_time": "2023-02-10T20:14:49.397Z"
   },
   {
    "duration": 39,
    "start_time": "2023-02-10T20:14:49.562Z"
   },
   {
    "duration": 6,
    "start_time": "2023-02-10T20:14:49.603Z"
   },
   {
    "duration": 13,
    "start_time": "2023-02-10T20:14:49.610Z"
   },
   {
    "duration": 31,
    "start_time": "2023-02-10T20:14:49.625Z"
   },
   {
    "duration": 9,
    "start_time": "2023-02-10T20:14:49.657Z"
   },
   {
    "duration": 11,
    "start_time": "2023-02-10T20:14:49.667Z"
   },
   {
    "duration": 7,
    "start_time": "2023-02-10T20:14:49.680Z"
   },
   {
    "duration": 20,
    "start_time": "2023-02-10T20:14:49.689Z"
   },
   {
    "duration": 45,
    "start_time": "2023-02-10T20:14:49.710Z"
   },
   {
    "duration": 75,
    "start_time": "2023-02-10T20:15:18.631Z"
   },
   {
    "duration": 16,
    "start_time": "2023-02-10T20:15:28.855Z"
   },
   {
    "duration": 12,
    "start_time": "2023-02-10T20:15:33.856Z"
   },
   {
    "duration": 12,
    "start_time": "2023-02-10T20:20:26.512Z"
   },
   {
    "duration": 9,
    "start_time": "2023-02-10T20:20:29.168Z"
   },
   {
    "duration": 1512,
    "start_time": "2023-02-10T20:20:35.132Z"
   },
   {
    "duration": 30,
    "start_time": "2023-02-10T20:20:36.646Z"
   },
   {
    "duration": 21,
    "start_time": "2023-02-10T20:20:36.677Z"
   },
   {
    "duration": 156,
    "start_time": "2023-02-10T20:20:36.700Z"
   },
   {
    "duration": 12,
    "start_time": "2023-02-10T20:20:36.858Z"
   },
   {
    "duration": 98,
    "start_time": "2023-02-10T20:20:36.871Z"
   },
   {
    "duration": 26,
    "start_time": "2023-02-10T20:20:36.970Z"
   },
   {
    "duration": 8,
    "start_time": "2023-02-10T20:20:36.997Z"
   },
   {
    "duration": 17,
    "start_time": "2023-02-10T20:20:37.007Z"
   },
   {
    "duration": 34,
    "start_time": "2023-02-10T20:20:37.027Z"
   },
   {
    "duration": 7,
    "start_time": "2023-02-10T20:20:37.063Z"
   },
   {
    "duration": 86,
    "start_time": "2023-02-10T20:20:37.072Z"
   },
   {
    "duration": 175,
    "start_time": "2023-02-10T20:20:37.160Z"
   },
   {
    "duration": 27,
    "start_time": "2023-02-10T20:20:37.337Z"
   },
   {
    "duration": 100,
    "start_time": "2023-02-10T20:20:37.366Z"
   },
   {
    "duration": 56,
    "start_time": "2023-02-10T20:20:37.467Z"
   },
   {
    "duration": 9,
    "start_time": "2023-02-10T20:20:37.525Z"
   },
   {
    "duration": 36,
    "start_time": "2023-02-10T20:20:37.554Z"
   },
   {
    "duration": 8,
    "start_time": "2023-02-10T20:20:37.591Z"
   },
   {
    "duration": 65,
    "start_time": "2023-02-10T20:20:37.600Z"
   },
   {
    "duration": 174,
    "start_time": "2023-02-10T20:20:37.666Z"
   },
   {
    "duration": 22,
    "start_time": "2023-02-10T20:20:37.842Z"
   },
   {
    "duration": 23,
    "start_time": "2023-02-10T20:20:37.866Z"
   },
   {
    "duration": 243,
    "start_time": "2023-02-10T20:20:37.890Z"
   },
   {
    "duration": 625,
    "start_time": "2023-02-10T20:20:38.135Z"
   },
   {
    "duration": 67,
    "start_time": "2023-02-10T20:20:38.762Z"
   },
   {
    "duration": 61,
    "start_time": "2023-02-10T20:20:38.831Z"
   },
   {
    "duration": 87,
    "start_time": "2023-02-10T20:20:38.895Z"
   },
   {
    "duration": 161,
    "start_time": "2023-02-10T20:20:38.984Z"
   },
   {
    "duration": 6,
    "start_time": "2023-02-10T20:20:39.154Z"
   },
   {
    "duration": 15,
    "start_time": "2023-02-10T20:20:39.162Z"
   },
   {
    "duration": 19,
    "start_time": "2023-02-10T20:20:39.179Z"
   },
   {
    "duration": 14,
    "start_time": "2023-02-10T20:20:39.199Z"
   },
   {
    "duration": 13,
    "start_time": "2023-02-10T20:20:39.214Z"
   },
   {
    "duration": 40,
    "start_time": "2023-02-10T20:20:39.229Z"
   },
   {
    "duration": 84,
    "start_time": "2023-02-10T20:20:39.271Z"
   },
   {
    "duration": 14,
    "start_time": "2023-02-10T20:20:39.357Z"
   },
   {
    "duration": 16,
    "start_time": "2023-02-10T20:20:39.373Z"
   },
   {
    "duration": 14,
    "start_time": "2023-02-10T20:20:39.391Z"
   },
   {
    "duration": 378,
    "start_time": "2023-02-10T20:20:39.407Z"
   },
   {
    "duration": 4,
    "start_time": "2023-02-10T20:20:39.787Z"
   },
   {
    "duration": 81,
    "start_time": "2023-02-10T20:20:39.793Z"
   },
   {
    "duration": 128,
    "start_time": "2023-02-10T20:20:39.876Z"
   },
   {
    "duration": 48,
    "start_time": "2023-02-10T20:20:40.006Z"
   },
   {
    "duration": 5,
    "start_time": "2023-02-10T20:20:40.056Z"
   },
   {
    "duration": 12,
    "start_time": "2023-02-10T20:20:40.063Z"
   },
   {
    "duration": 18,
    "start_time": "2023-02-10T20:20:40.077Z"
   },
   {
    "duration": 9,
    "start_time": "2023-02-10T20:20:40.097Z"
   },
   {
    "duration": 15,
    "start_time": "2023-02-10T20:20:40.107Z"
   },
   {
    "duration": 7,
    "start_time": "2023-02-10T20:20:40.123Z"
   },
   {
    "duration": 30,
    "start_time": "2023-02-10T20:20:40.131Z"
   },
   {
    "duration": 18,
    "start_time": "2023-02-10T20:20:40.162Z"
   },
   {
    "duration": 151,
    "start_time": "2023-02-10T20:30:43.586Z"
   },
   {
    "duration": 1360,
    "start_time": "2023-02-10T20:30:51.906Z"
   },
   {
    "duration": 28,
    "start_time": "2023-02-10T20:30:53.268Z"
   },
   {
    "duration": 22,
    "start_time": "2023-02-10T20:30:53.297Z"
   },
   {
    "duration": 148,
    "start_time": "2023-02-10T20:30:53.321Z"
   },
   {
    "duration": 11,
    "start_time": "2023-02-10T20:30:53.471Z"
   },
   {
    "duration": 99,
    "start_time": "2023-02-10T20:30:53.483Z"
   },
   {
    "duration": 23,
    "start_time": "2023-02-10T20:30:53.583Z"
   },
   {
    "duration": 6,
    "start_time": "2023-02-10T20:30:53.608Z"
   },
   {
    "duration": 45,
    "start_time": "2023-02-10T20:30:53.615Z"
   },
   {
    "duration": 8,
    "start_time": "2023-02-10T20:30:53.664Z"
   },
   {
    "duration": 7,
    "start_time": "2023-02-10T20:30:53.674Z"
   },
   {
    "duration": 74,
    "start_time": "2023-02-10T20:30:53.682Z"
   },
   {
    "duration": 156,
    "start_time": "2023-02-10T20:30:53.758Z"
   },
   {
    "duration": 15,
    "start_time": "2023-02-10T20:30:53.916Z"
   },
   {
    "duration": 96,
    "start_time": "2023-02-10T20:30:53.933Z"
   },
   {
    "duration": 59,
    "start_time": "2023-02-10T20:30:54.030Z"
   },
   {
    "duration": 7,
    "start_time": "2023-02-10T20:30:54.092Z"
   },
   {
    "duration": 29,
    "start_time": "2023-02-10T20:30:54.100Z"
   },
   {
    "duration": 29,
    "start_time": "2023-02-10T20:30:54.131Z"
   },
   {
    "duration": 51,
    "start_time": "2023-02-10T20:30:54.162Z"
   },
   {
    "duration": 143,
    "start_time": "2023-02-10T20:30:54.214Z"
   },
   {
    "duration": 21,
    "start_time": "2023-02-10T20:30:54.359Z"
   },
   {
    "duration": 20,
    "start_time": "2023-02-10T20:30:54.381Z"
   },
   {
    "duration": 378,
    "start_time": "2023-02-10T20:30:54.402Z"
   },
   {
    "duration": 1490,
    "start_time": "2023-02-10T20:30:54.781Z"
   },
   {
    "duration": 70,
    "start_time": "2023-02-10T20:30:56.273Z"
   },
   {
    "duration": 60,
    "start_time": "2023-02-10T20:30:56.345Z"
   },
   {
    "duration": 80,
    "start_time": "2023-02-10T20:30:56.408Z"
   },
   {
    "duration": 182,
    "start_time": "2023-02-10T20:30:56.490Z"
   },
   {
    "duration": 6,
    "start_time": "2023-02-10T20:30:56.673Z"
   },
   {
    "duration": 5,
    "start_time": "2023-02-10T20:30:56.680Z"
   },
   {
    "duration": 7,
    "start_time": "2023-02-10T20:30:56.687Z"
   },
   {
    "duration": 5,
    "start_time": "2023-02-10T20:30:56.696Z"
   },
   {
    "duration": 8,
    "start_time": "2023-02-10T20:30:56.703Z"
   },
   {
    "duration": 52,
    "start_time": "2023-02-10T20:30:56.712Z"
   },
   {
    "duration": 76,
    "start_time": "2023-02-10T20:30:56.765Z"
   },
   {
    "duration": 21,
    "start_time": "2023-02-10T20:30:56.842Z"
   },
   {
    "duration": 7,
    "start_time": "2023-02-10T20:30:56.865Z"
   },
   {
    "duration": 13,
    "start_time": "2023-02-10T20:30:56.874Z"
   },
   {
    "duration": 356,
    "start_time": "2023-02-10T20:30:56.889Z"
   },
   {
    "duration": 4,
    "start_time": "2023-02-10T20:30:57.249Z"
   },
   {
    "duration": 98,
    "start_time": "2023-02-10T20:30:57.254Z"
   },
   {
    "duration": 132,
    "start_time": "2023-02-10T20:30:57.354Z"
   },
   {
    "duration": 45,
    "start_time": "2023-02-10T20:30:57.489Z"
   },
   {
    "duration": 18,
    "start_time": "2023-02-10T20:30:57.535Z"
   },
   {
    "duration": 5,
    "start_time": "2023-02-10T20:30:57.555Z"
   },
   {
    "duration": 14,
    "start_time": "2023-02-10T20:30:57.561Z"
   },
   {
    "duration": 9,
    "start_time": "2023-02-10T20:30:57.577Z"
   },
   {
    "duration": 9,
    "start_time": "2023-02-10T20:30:57.588Z"
   },
   {
    "duration": 8,
    "start_time": "2023-02-10T20:30:57.599Z"
   },
   {
    "duration": 10,
    "start_time": "2023-02-10T20:30:57.608Z"
   },
   {
    "duration": 47,
    "start_time": "2023-02-10T20:30:57.620Z"
   },
   {
    "duration": 150,
    "start_time": "2023-02-10T20:32:17.973Z"
   },
   {
    "duration": 1937,
    "start_time": "2023-02-10T20:32:23.563Z"
   },
   {
    "duration": 30,
    "start_time": "2023-02-10T20:32:25.562Z"
   },
   {
    "duration": 78,
    "start_time": "2023-02-10T20:32:25.594Z"
   },
   {
    "duration": 287,
    "start_time": "2023-02-10T20:32:25.673Z"
   },
   {
    "duration": 10,
    "start_time": "2023-02-10T20:32:25.970Z"
   },
   {
    "duration": 188,
    "start_time": "2023-02-10T20:32:25.982Z"
   },
   {
    "duration": 25,
    "start_time": "2023-02-10T20:32:26.172Z"
   },
   {
    "duration": 11,
    "start_time": "2023-02-10T20:32:26.254Z"
   },
   {
    "duration": 25,
    "start_time": "2023-02-10T20:32:26.270Z"
   },
   {
    "duration": 8,
    "start_time": "2023-02-10T20:32:26.297Z"
   },
   {
    "duration": 8,
    "start_time": "2023-02-10T20:32:26.307Z"
   },
   {
    "duration": 65,
    "start_time": "2023-02-10T20:32:26.361Z"
   },
   {
    "duration": 157,
    "start_time": "2023-02-10T20:32:26.427Z"
   },
   {
    "duration": 14,
    "start_time": "2023-02-10T20:32:26.586Z"
   },
   {
    "duration": 91,
    "start_time": "2023-02-10T20:32:26.601Z"
   },
   {
    "duration": 44,
    "start_time": "2023-02-10T20:32:26.693Z"
   },
   {
    "duration": 29,
    "start_time": "2023-02-10T20:32:26.739Z"
   },
   {
    "duration": 42,
    "start_time": "2023-02-10T20:32:26.770Z"
   },
   {
    "duration": 22,
    "start_time": "2023-02-10T20:32:26.813Z"
   },
   {
    "duration": 76,
    "start_time": "2023-02-10T20:32:26.836Z"
   },
   {
    "duration": 137,
    "start_time": "2023-02-10T20:32:26.914Z"
   },
   {
    "duration": 24,
    "start_time": "2023-02-10T20:32:27.052Z"
   },
   {
    "duration": 27,
    "start_time": "2023-02-10T20:32:27.078Z"
   },
   {
    "duration": 258,
    "start_time": "2023-02-10T20:32:27.107Z"
   },
   {
    "duration": 678,
    "start_time": "2023-02-10T20:32:27.368Z"
   },
   {
    "duration": 79,
    "start_time": "2023-02-10T20:32:28.047Z"
   },
   {
    "duration": 62,
    "start_time": "2023-02-10T20:32:28.128Z"
   },
   {
    "duration": 76,
    "start_time": "2023-02-10T20:32:28.193Z"
   },
   {
    "duration": 163,
    "start_time": "2023-02-10T20:32:28.271Z"
   },
   {
    "duration": 7,
    "start_time": "2023-02-10T20:32:28.435Z"
   },
   {
    "duration": 22,
    "start_time": "2023-02-10T20:32:28.443Z"
   },
   {
    "duration": 12,
    "start_time": "2023-02-10T20:32:28.467Z"
   },
   {
    "duration": 13,
    "start_time": "2023-02-10T20:32:28.481Z"
   },
   {
    "duration": 15,
    "start_time": "2023-02-10T20:32:28.496Z"
   },
   {
    "duration": 35,
    "start_time": "2023-02-10T20:32:28.512Z"
   },
   {
    "duration": 78,
    "start_time": "2023-02-10T20:32:28.548Z"
   },
   {
    "duration": 11,
    "start_time": "2023-02-10T20:32:28.628Z"
   },
   {
    "duration": 70,
    "start_time": "2023-02-10T20:32:28.641Z"
   },
   {
    "duration": 54,
    "start_time": "2023-02-10T20:32:28.712Z"
   },
   {
    "duration": 405,
    "start_time": "2023-02-10T20:32:28.768Z"
   },
   {
    "duration": 4,
    "start_time": "2023-02-10T20:32:29.174Z"
   },
   {
    "duration": 114,
    "start_time": "2023-02-10T20:32:29.180Z"
   },
   {
    "duration": 120,
    "start_time": "2023-02-10T20:32:29.296Z"
   },
   {
    "duration": 51,
    "start_time": "2023-02-10T20:32:29.418Z"
   },
   {
    "duration": 6,
    "start_time": "2023-02-10T20:32:29.471Z"
   },
   {
    "duration": 19,
    "start_time": "2023-02-10T20:32:29.480Z"
   },
   {
    "duration": 27,
    "start_time": "2023-02-10T20:32:29.501Z"
   },
   {
    "duration": 24,
    "start_time": "2023-02-10T20:32:29.531Z"
   },
   {
    "duration": 39,
    "start_time": "2023-02-10T20:32:29.557Z"
   },
   {
    "duration": 25,
    "start_time": "2023-02-10T20:32:29.601Z"
   },
   {
    "duration": 14,
    "start_time": "2023-02-10T20:32:29.628Z"
   },
   {
    "duration": 25,
    "start_time": "2023-02-10T20:32:29.644Z"
   },
   {
    "duration": 142,
    "start_time": "2023-02-10T20:32:57.040Z"
   },
   {
    "duration": 1701,
    "start_time": "2023-02-10T20:33:03.954Z"
   },
   {
    "duration": 42,
    "start_time": "2023-02-10T20:33:05.657Z"
   },
   {
    "duration": 22,
    "start_time": "2023-02-10T20:33:05.753Z"
   },
   {
    "duration": 279,
    "start_time": "2023-02-10T20:33:05.776Z"
   },
   {
    "duration": 10,
    "start_time": "2023-02-10T20:33:06.057Z"
   },
   {
    "duration": 187,
    "start_time": "2023-02-10T20:33:06.068Z"
   },
   {
    "duration": 24,
    "start_time": "2023-02-10T20:33:06.257Z"
   },
   {
    "duration": 8,
    "start_time": "2023-02-10T20:33:06.283Z"
   },
   {
    "duration": 71,
    "start_time": "2023-02-10T20:33:06.293Z"
   },
   {
    "duration": 10,
    "start_time": "2023-02-10T20:33:06.367Z"
   },
   {
    "duration": 8,
    "start_time": "2023-02-10T20:33:06.379Z"
   },
   {
    "duration": 172,
    "start_time": "2023-02-10T20:33:06.389Z"
   },
   {
    "duration": 248,
    "start_time": "2023-02-10T20:33:06.563Z"
   },
   {
    "duration": 44,
    "start_time": "2023-02-10T20:33:06.813Z"
   },
   {
    "duration": 75,
    "start_time": "2023-02-10T20:33:06.858Z"
   },
   {
    "duration": 58,
    "start_time": "2023-02-10T20:33:06.934Z"
   },
   {
    "duration": 6,
    "start_time": "2023-02-10T20:33:06.994Z"
   },
   {
    "duration": 29,
    "start_time": "2023-02-10T20:33:07.001Z"
   },
   {
    "duration": 22,
    "start_time": "2023-02-10T20:33:07.032Z"
   },
   {
    "duration": 45,
    "start_time": "2023-02-10T20:33:07.056Z"
   },
   {
    "duration": 174,
    "start_time": "2023-02-10T20:33:07.103Z"
   },
   {
    "duration": 18,
    "start_time": "2023-02-10T20:33:07.279Z"
   },
   {
    "duration": 33,
    "start_time": "2023-02-10T20:33:07.298Z"
   },
   {
    "duration": 274,
    "start_time": "2023-02-10T20:33:07.333Z"
   },
   {
    "duration": 342,
    "start_time": "2023-02-10T20:33:07.609Z"
   },
   {
    "duration": 74,
    "start_time": "2023-02-10T20:33:07.953Z"
   },
   {
    "duration": 63,
    "start_time": "2023-02-10T20:33:08.028Z"
   },
   {
    "duration": 85,
    "start_time": "2023-02-10T20:33:08.094Z"
   },
   {
    "duration": 85,
    "start_time": "2023-02-10T20:33:08.181Z"
   },
   {
    "duration": 7,
    "start_time": "2023-02-10T20:33:08.268Z"
   },
   {
    "duration": 7,
    "start_time": "2023-02-10T20:33:08.276Z"
   },
   {
    "duration": 10,
    "start_time": "2023-02-10T20:33:08.284Z"
   },
   {
    "duration": 22,
    "start_time": "2023-02-10T20:33:08.296Z"
   },
   {
    "duration": 9,
    "start_time": "2023-02-10T20:33:08.320Z"
   },
   {
    "duration": 46,
    "start_time": "2023-02-10T20:33:08.331Z"
   },
   {
    "duration": 90,
    "start_time": "2023-02-10T20:33:08.379Z"
   },
   {
    "duration": 15,
    "start_time": "2023-02-10T20:33:08.471Z"
   },
   {
    "duration": 8,
    "start_time": "2023-02-10T20:33:08.488Z"
   },
   {
    "duration": 13,
    "start_time": "2023-02-10T20:33:08.498Z"
   },
   {
    "duration": 483,
    "start_time": "2023-02-10T20:33:08.513Z"
   },
   {
    "duration": 4,
    "start_time": "2023-02-10T20:33:08.998Z"
   },
   {
    "duration": 69,
    "start_time": "2023-02-10T20:33:09.003Z"
   },
   {
    "duration": 111,
    "start_time": "2023-02-10T20:33:09.074Z"
   },
   {
    "duration": 37,
    "start_time": "2023-02-10T20:33:09.186Z"
   },
   {
    "duration": 5,
    "start_time": "2023-02-10T20:33:09.224Z"
   },
   {
    "duration": 29,
    "start_time": "2023-02-10T20:33:09.230Z"
   },
   {
    "duration": 15,
    "start_time": "2023-02-10T20:33:09.261Z"
   },
   {
    "duration": 17,
    "start_time": "2023-02-10T20:33:09.278Z"
   },
   {
    "duration": 8,
    "start_time": "2023-02-10T20:33:09.297Z"
   },
   {
    "duration": 7,
    "start_time": "2023-02-10T20:33:09.306Z"
   },
   {
    "duration": 12,
    "start_time": "2023-02-10T20:33:09.314Z"
   },
   {
    "duration": 30,
    "start_time": "2023-02-10T20:33:09.328Z"
   },
   {
    "duration": 156,
    "start_time": "2023-02-10T20:33:48.798Z"
   },
   {
    "duration": 1709,
    "start_time": "2023-02-10T20:33:53.679Z"
   },
   {
    "duration": 81,
    "start_time": "2023-02-10T20:33:55.390Z"
   },
   {
    "duration": 26,
    "start_time": "2023-02-10T20:33:55.473Z"
   },
   {
    "duration": 237,
    "start_time": "2023-02-10T20:33:55.554Z"
   },
   {
    "duration": 64,
    "start_time": "2023-02-10T20:33:55.792Z"
   },
   {
    "duration": 133,
    "start_time": "2023-02-10T20:33:55.858Z"
   },
   {
    "duration": 81,
    "start_time": "2023-02-10T20:33:55.993Z"
   },
   {
    "duration": 8,
    "start_time": "2023-02-10T20:33:56.076Z"
   },
   {
    "duration": 70,
    "start_time": "2023-02-10T20:33:56.085Z"
   },
   {
    "duration": 8,
    "start_time": "2023-02-10T20:33:56.157Z"
   },
   {
    "duration": 10,
    "start_time": "2023-02-10T20:33:56.167Z"
   },
   {
    "duration": 190,
    "start_time": "2023-02-10T20:33:56.179Z"
   },
   {
    "duration": 308,
    "start_time": "2023-02-10T20:33:56.370Z"
   },
   {
    "duration": 15,
    "start_time": "2023-02-10T20:33:56.679Z"
   },
   {
    "duration": 183,
    "start_time": "2023-02-10T20:33:56.695Z"
   },
   {
    "duration": 98,
    "start_time": "2023-02-10T20:33:56.880Z"
   },
   {
    "duration": 8,
    "start_time": "2023-02-10T20:33:56.979Z"
   },
   {
    "duration": 107,
    "start_time": "2023-02-10T20:33:56.989Z"
   },
   {
    "duration": 77,
    "start_time": "2023-02-10T20:33:57.098Z"
   },
   {
    "duration": 107,
    "start_time": "2023-02-10T20:33:57.176Z"
   },
   {
    "duration": 382,
    "start_time": "2023-02-10T20:33:57.285Z"
   },
   {
    "duration": 19,
    "start_time": "2023-02-10T20:33:57.669Z"
   },
   {
    "duration": 81,
    "start_time": "2023-02-10T20:33:57.690Z"
   },
   {
    "duration": 505,
    "start_time": "2023-02-10T20:33:57.773Z"
   },
   {
    "duration": 508,
    "start_time": "2023-02-10T20:33:58.280Z"
   },
   {
    "duration": 85,
    "start_time": "2023-02-10T20:33:58.790Z"
   },
   {
    "duration": 50,
    "start_time": "2023-02-10T20:33:58.877Z"
   },
   {
    "duration": 89,
    "start_time": "2023-02-10T20:33:58.930Z"
   },
   {
    "duration": 89,
    "start_time": "2023-02-10T20:33:59.021Z"
   },
   {
    "duration": 8,
    "start_time": "2023-02-10T20:33:59.111Z"
   },
   {
    "duration": 17,
    "start_time": "2023-02-10T20:33:59.120Z"
   },
   {
    "duration": 16,
    "start_time": "2023-02-10T20:33:59.139Z"
   },
   {
    "duration": 10,
    "start_time": "2023-02-10T20:33:59.156Z"
   },
   {
    "duration": 14,
    "start_time": "2023-02-10T20:33:59.167Z"
   },
   {
    "duration": 31,
    "start_time": "2023-02-10T20:33:59.183Z"
   },
   {
    "duration": 95,
    "start_time": "2023-02-10T20:33:59.216Z"
   },
   {
    "duration": 15,
    "start_time": "2023-02-10T20:33:59.313Z"
   },
   {
    "duration": 24,
    "start_time": "2023-02-10T20:33:59.329Z"
   },
   {
    "duration": 12,
    "start_time": "2023-02-10T20:33:59.355Z"
   },
   {
    "duration": 482,
    "start_time": "2023-02-10T20:33:59.369Z"
   },
   {
    "duration": 4,
    "start_time": "2023-02-10T20:33:59.852Z"
   },
   {
    "duration": 48,
    "start_time": "2023-02-10T20:33:59.858Z"
   },
   {
    "duration": 106,
    "start_time": "2023-02-10T20:33:59.954Z"
   },
   {
    "duration": 38,
    "start_time": "2023-02-10T20:34:00.062Z"
   },
   {
    "duration": 4,
    "start_time": "2023-02-10T20:34:00.102Z"
   },
   {
    "duration": 19,
    "start_time": "2023-02-10T20:34:00.108Z"
   },
   {
    "duration": 37,
    "start_time": "2023-02-10T20:34:00.129Z"
   },
   {
    "duration": 11,
    "start_time": "2023-02-10T20:34:00.168Z"
   },
   {
    "duration": 98,
    "start_time": "2023-02-10T20:34:00.181Z"
   },
   {
    "duration": 39,
    "start_time": "2023-02-10T20:34:00.280Z"
   },
   {
    "duration": 39,
    "start_time": "2023-02-10T20:34:00.321Z"
   },
   {
    "duration": 29,
    "start_time": "2023-02-10T20:34:00.362Z"
   },
   {
    "duration": 6,
    "start_time": "2023-02-10T20:36:00.908Z"
   },
   {
    "duration": 9,
    "start_time": "2023-02-10T20:36:03.996Z"
   }
  ],
  "kernelspec": {
   "display_name": "Python 3 (ipykernel)",
   "language": "python",
   "name": "python3"
  },
  "language_info": {
   "codemirror_mode": {
    "name": "ipython",
    "version": 3
   },
   "file_extension": ".py",
   "mimetype": "text/x-python",
   "name": "python",
   "nbconvert_exporter": "python",
   "pygments_lexer": "ipython3",
   "version": "3.9.13"
  },
  "toc": {
   "base_numbering": 1,
   "nav_menu": {},
   "number_sections": false,
   "sideBar": true,
   "skip_h1_title": false,
   "title_cell": "Table of Contents",
   "title_sidebar": "Contents",
   "toc_cell": false,
   "toc_position": {
    "height": "calc(100% - 180px)",
    "left": "10px",
    "top": "150px",
    "width": "235.27px"
   },
   "toc_section_display": true,
   "toc_window_display": true
  }
 },
 "nbformat": 4,
 "nbformat_minor": 2
}
